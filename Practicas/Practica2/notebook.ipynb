{
 "cells": [
  {
   "cell_type": "markdown",
   "metadata": {},
   "source": [
    "<h1 align=\"center\"> 💻Seminario de Lenguajes (Python) </h1>\n",
    "<div align=\"center\">\n",
    "<img src=\"https://media.giphy.com/media/1C8bHHJturSx2/giphy.gif\"/>\n",
    " </div>\n",
    "<br>\n",
    "\n",
    "- ``1)`` Lo primero que hice fue abrir el archivo, utilizar el split para separar las notas y poder trabajar mejor.\n",
    "\n",
    "- ``2)`` Utilice el .remplace(), para eliminar las \",\" que quedaron impresas del archivo .txt\n",
    "\n",
    "- ``3)`` Los tres pasos anterior los repeti para los otros txt.\n",
    "\n",
    "- ``4)`` En los txt de las evaluaciones no me quedo otra que eliminar el ultimo elemento y como era un string puro, no lo podia pasar a un nro ya que me tiraba error.\n",
    "\n",
    "- ``5)`` Una vez que tenemos las notas cargadas y pasadas a enteros, solo tenemos que declarar una nueva lista para juntar las sumas de ambas notas \n",
    "\n",
    "- ``6)`` Y creamos un diccionario con los nombres y las notas totales\n",
    "\n",
    "- ``7)`` Sacamos el total de todas las notas para despues sacar un promedio \n",
    "\n",
    "- ``8)`` El promedio sacado anteriormente nos sirve para saber cuales son los estudiantes que se encuentrar por encima del promedio y mostrarlos en pantalla"
   ]
  },
  {
   "cell_type": "code",
   "execution_count": 1,
   "metadata": {},
   "outputs": [
    {
     "name": "stdout",
     "output_type": "stream",
     "text": [
      "[111, 155, 100, 108, 99, 134, 78, 121, 33, 53, 74, 13, 48, 101, 106, 128, 97, 106, 76, 90, 21, 173, 62, 79, 100, 68, 142, 112, 87, 146, 148, 55, 140, 109, 103, 110, 137, 114, 65, 22, 105, 99, 24, 139, 126, 120, 84]\n",
      "[\"'Agustin'\", \" 'AGUSTIN'\", \" 'AgustÃ\\xadn'\", \" 'Ailen'\", \" 'Alfredo'\", \" 'Amalia'\", \" 'Ariana'\", \" 'Bautista'\", \" 'Braian'\", \" 'Carla'\", \" 'CESAR'\", \" 'Daniel'\", \" 'Diego'\", \" 'ELIANA'\", \" 'Facundo'\", \" 'Facundo'\", \" 'Facundo'\", \" 'Facundo'\", \" 'Federico'\", \" 'Federico'\", \" 'Flavia'\", \" 'Francisco'\", \" 'GermÃ¡n'\", \" 'Guido'\", \" 'GUSTAVO'\", \" 'Hilario'\", \" 'Ignacio'\", \" 'IVAN'\", \" 'Jimmy'\", \" 'JoaquÃ\\xadn'\", \" 'Jose'\", \" 'Josue'\", \" 'JUAN'\", \" 'Juan'\", \" 'Laura'\", \" 'LAURA'\", \" 'Lautaro'\", \" 'Lautaro'\", \" 'Ludmila'\", \" 'Marcos'\", \" 'Marcos'\", \" 'MARIANELA'\", \" 'MARTIN'\", \" 'MATEO'\", \" 'Mateo'\", \" 'Matias'\", \" 'MAURO'\"]\n",
      "{\"'Agustin'\": 111, \" 'AGUSTIN'\": 155, \" 'AgustÃ\\xadn'\": 100, \" 'Ailen'\": 108, \" 'Alfredo'\": 99, \" 'Amalia'\": 134, \" 'Ariana'\": 78, \" 'Bautista'\": 121, \" 'Braian'\": 33, \" 'Carla'\": 53, \" 'CESAR'\": 74, \" 'Daniel'\": 13, \" 'Diego'\": 48, \" 'ELIANA'\": 101, \" 'Facundo'\": 106, \" 'Federico'\": 90, \" 'Flavia'\": 21, \" 'Francisco'\": 173, \" 'GermÃ¡n'\": 62, \" 'Guido'\": 79, \" 'GUSTAVO'\": 100, \" 'Hilario'\": 68, \" 'Ignacio'\": 142, \" 'IVAN'\": 112, \" 'Jimmy'\": 87, \" 'JoaquÃ\\xadn'\": 146, \" 'Jose'\": 148, \" 'Josue'\": 55, \" 'JUAN'\": 140, \" 'Juan'\": 109, \" 'Laura'\": 103, \" 'LAURA'\": 110, \" 'Lautaro'\": 114, \" 'Ludmila'\": 65, \" 'Marcos'\": 105, \" 'MARIANELA'\": 99, \" 'MARTIN'\": 24, \" 'MATEO'\": 139, \" 'Mateo'\": 126, \" 'Matias'\": 120, \" 'MAURO'\": 84}\n",
      "96.19148936170212\n",
      "'Agustin'\n",
      " 'AGUSTIN'\n",
      " 'AgustÃ­n'\n",
      " 'Ailen'\n",
      " 'Alfredo'\n",
      " 'Amalia'\n",
      " 'Bautista'\n",
      " 'ELIANA'\n",
      " 'Facundo'\n",
      " 'Francisco'\n",
      " 'GUSTAVO'\n",
      " 'Ignacio'\n",
      " 'IVAN'\n",
      " 'JoaquÃ­n'\n",
      " 'Jose'\n",
      " 'JUAN'\n",
      " 'Juan'\n",
      " 'Laura'\n",
      " 'LAURA'\n",
      " 'Lautaro'\n",
      " 'Marcos'\n",
      " 'MARIANELA'\n",
      " 'MATEO'\n",
      " 'Mateo'\n",
      " 'Matias'\n"
     ]
    }
   ],
   "source": [
    "f = open ('eval1.txt','r')\n",
    "notas = ((f.read()).split(\"\\n\"))\n",
    "f.close()\n",
    "for index, nota in enumerate(notas):\n",
    "    notas[index] = ((nota.replace(\",\",\"\")))\n",
    "\n",
    "notas.pop(-1) #Elimine el ultimo elemento ya que no me dejaba convertirlos porque era un string\n",
    "int_list = list(map(int, notas))\n",
    "\n",
    "f = open ('eval2.txt','r')\n",
    "notas2 = ((f.read()).split(\"\\n\"))\n",
    "f.close()\n",
    "for index, nota in enumerate(notas2):\n",
    "    notas2[index] = nota.replace(\",\",\"\")\n",
    "\n",
    "notas2.pop(-1)\n",
    "int_list2 = list(map(int, notas2))\n",
    "\n",
    "\n",
    "nuevasNotas = []\n",
    "for i in range(len(int_list)):\n",
    "\tnuevasNotas.append(int_list[i]+int_list2[i])\n",
    "\n",
    "print(nuevasNotas)\n",
    "# [111, 155, 100, 108, 99, 134, 78, 121, 33, 53, 74, 13, 48, 101, 106, 128, 97, 106, 76, 90, 21, 173, 62, 79, 100, 68, 142, 112, 87, 146, 148, 55, 140, 109, 103, 110, 137, 114, 65, 22, 105, 99, 24, 139, 126, 120, 84]\n",
    "\n",
    "#_____________________________________________________\n",
    "\n",
    "\n",
    "f = open ('nombres_3.txt','r')\n",
    "nombres = ((f.read()).split(\"\\n\"))\n",
    "f.close()\n",
    "for index, nombre in enumerate(nombres):\n",
    "    nombres[index] = ((nombre.replace(\",\",\"\")))\n",
    "\n",
    "print(nombres)\n",
    "\n",
    "dict_from_list = dict(zip(nombres,nuevasNotas ))\n",
    "print(dict_from_list)\n",
    "\n",
    "promedio = sum(nuevasNotas) / len(nuevasNotas)\n",
    "print(promedio)\n",
    "\n",
    "\n",
    "\n",
    "for clave, valor in dict_from_list.items():\n",
    "    if valor> promedio:\n",
    "        print(clave)"
   ]
  },
  {
   "cell_type": "markdown",
   "metadata": {},
   "source": []
  }
 ],
 "metadata": {
  "interpreter": {
   "hash": "369f2c481f4da34e4445cda3fffd2e751bd1c4d706f27375911949ba6bb62e1c"
  },
  "kernelspec": {
   "display_name": "Python 3.10.0 64-bit",
   "language": "python",
   "name": "python3"
  },
  "language_info": {
   "codemirror_mode": {
    "name": "ipython",
    "version": 3
   },
   "file_extension": ".py",
   "mimetype": "text/x-python",
   "name": "python",
   "nbconvert_exporter": "python",
   "pygments_lexer": "ipython3",
   "version": "3.10.0"
  },
  "orig_nbformat": 4
 },
 "nbformat": 4,
 "nbformat_minor": 2
}
