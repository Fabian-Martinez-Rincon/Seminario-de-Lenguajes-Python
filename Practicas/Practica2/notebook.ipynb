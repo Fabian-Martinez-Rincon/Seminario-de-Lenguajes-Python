{
 "cells": [
  {
   "cell_type": "code",
   "execution_count": null,
   "metadata": {},
   "outputs": [
    {
     "ename": "",
     "evalue": "",
     "output_type": "error",
     "traceback": [
      "\u001b[1;31mRunning cells with 'Python 3.10.0 64-bit' requires ipykernel package.\n",
      "Run the following command to install 'ipykernel' into the Python environment. \n",
      "Command: 'C:/Python310/python.exe -m pip install ipykernel -U --user --force-reinstall'"
     ]
    }
   ],
   "source": [
    "f = open ('eval1.txt','r')\n",
    "notas = ((f.read()).split(\"\\n\"))\n",
    "f.close()\n",
    "for index, nota in enumerate(notas):\n",
    "    notas[index] = ((nota.replace(\",\",\"\")))\n",
    "\n",
    "notas.pop(-1) #Elimine el ultimo elemento ya que no me dejaba convertirlos porque era un string\n",
    "int_list = list(map(int, notas))\n",
    "\n",
    "f = open ('eval2.txt','r')\n",
    "notas2 = ((f.read()).split(\"\\n\"))\n",
    "f.close()\n",
    "for index, nota in enumerate(notas2):\n",
    "    notas2[index] = nota.replace(\",\",\"\")\n",
    "\n",
    "notas2.pop(-1)\n",
    "int_list2 = list(map(int, notas2))\n",
    "\n",
    "\n",
    "nuevasNotas = []\n",
    "for i in range(len(int_list)):\n",
    "\tnuevasNotas.append(int_list[i]+int_list2[i])\n",
    "\n",
    "print(nuevasNotas)\n",
    "# [111, 155, 100, 108, 99, 134, 78, 121, 33, 53, 74, 13, 48, 101, 106, 128, 97, 106, 76, 90, 21, 173, 62, 79, 100, 68, 142, 112, 87, 146, 148, 55, 140, 109, 103, 110, 137, 114, 65, 22, 105, 99, 24, 139, 126, 120, 84]\n",
    "\n",
    "#_____________________________________________________\n",
    "\n",
    "\n",
    "f = open ('nombres_3.txt','r')\n",
    "nombres = ((f.read()).split(\"\\n\"))\n",
    "f.close()\n",
    "for index, nombre in enumerate(nombres):\n",
    "    nombres[index] = ((nombre.replace(\",\",\"\")))\n",
    "\n",
    "print(nombres)\n",
    "\n",
    "dict_from_list = dict(zip(nombres,nuevasNotas ))\n",
    "print(dict_from_list)\n",
    "\n",
    "promedio = sum(nuevasNotas) / len(nuevasNotas)\n",
    "print(promedio)\n",
    "\n",
    "\n",
    "\n",
    "for clave, valor in dict_from_list.items():\n",
    "    if valor> promedio:\n",
    "        print(clave)"
   ]
  }
 ],
 "metadata": {
  "interpreter": {
   "hash": "2be5faf79681da6f2a61fdfdd5405d65d042280f7fba6178067603e3a2925119"
  },
  "kernelspec": {
   "display_name": "Python 3.10.0 64-bit",
   "language": "python",
   "name": "python3"
  },
  "language_info": {
   "name": "python",
   "version": "3.10.0"
  },
  "orig_nbformat": 4
 },
 "nbformat": 4,
 "nbformat_minor": 2
}
