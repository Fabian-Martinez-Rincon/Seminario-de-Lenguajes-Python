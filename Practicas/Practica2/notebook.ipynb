{
 "cells": [
  {
   "cell_type": "markdown",
   "metadata": {},
   "source": [
    "<h1 align=\"center\"> 💻Seminario de Lenguajes (Python) </h1>\n",
    "<div align=\"center\">\n",
    "<img src=\"https://media.giphy.com/media/1C8bHHJturSx2/giphy.gif\"/>\n",
    " </div>\n",
    "<br>\n",
    "\n",
    "- ``1)`` Lo primero que hice fue abrir el archivo, utilizar el split para separar las notas y poder trabajar mejor.\n",
    "\n",
    "- ``2)`` Utilice el .remplace(), para eliminar las \",\" que quedaron impresas del archivo .txt\n",
    "\n",
    "- ``3)`` Los tres pasos anterior los repeti para los otros txt.\n",
    "\n",
    "- ``4)`` En los txt de las evaluaciones no me quedo otra que eliminar el ultimo elemento y como era un string puro, no lo podia pasar a un nro ya que me tiraba error.\n",
    "\n",
    "- ``5)`` Una vez que tenemos las notas cargadas y pasadas a enteros, solo tenemos que declarar una nueva lista para juntar las sumas de ambas notas \n",
    "\n",
    "- ``6)`` Y creamos un diccionario con los nombres y las notas totales\n",
    "\n",
    "- ``7)`` Sacamos el total de todas las notas para despues sacar un promedio \n",
    "\n",
    "- ``8)`` El promedio sacado anteriormente nos sirve para saber cuales son los estudiantes que se encuentrar por encima del promedio y mostrarlos en pantalla"
   ]
  },
  {
   "cell_type": "code",
   "execution_count": null,
   "metadata": {},
   "outputs": [],
   "source": [
    "f = open ('eval1.txt','r')\n",
    "notas = ((f.read()).split(\"\\n\"))\n",
    "f.close()\n",
    "for index, nota in enumerate(notas):\n",
    "    notas[index] = ((nota.replace(\",\",\"\")))\n",
    "\n",
    "notas.pop(-1) #Elimine el ultimo elemento ya que no me dejaba convertirlos porque era un string\n",
    "int_list = list(map(int, notas))\n",
    "\n",
    "f = open ('eval2.txt','r')\n",
    "notas2 = ((f.read()).split(\"\\n\"))\n",
    "f.close()\n",
    "for index, nota in enumerate(notas2):\n",
    "    notas2[index] = nota.replace(\",\",\"\")\n",
    "\n",
    "notas2.pop(-1)\n",
    "int_list2 = list(map(int, notas2))\n",
    "\n",
    "\n",
    "nuevasNotas = []\n",
    "for i in range(len(int_list)):\n",
    "\tnuevasNotas.append(int_list[i]+int_list2[i])\n",
    "\n",
    "print(nuevasNotas)\n",
    "# [111, 155, 100, 108, 99, 134, 78, 121, 33, 53, 74, 13, 48, 101, 106, 128, 97, 106, 76, 90, 21, 173, 62, 79, 100, 68, 142, 112, 87, 146, 148, 55, 140, 109, 103, 110, 137, 114, 65, 22, 105, 99, 24, 139, 126, 120, 84]\n",
    "\n",
    "#_____________________________________________________\n",
    "\n",
    "\n",
    "f = open ('nombres_3.txt','r')\n",
    "nombres = ((f.read()).split(\"\\n\"))\n",
    "f.close()\n",
    "for index, nombre in enumerate(nombres):\n",
    "    nombres[index] = ((nombre.replace(\",\",\"\")))\n",
    "\n",
    "print(nombres)\n",
    "\n",
    "dict_from_list = dict(zip(nombres,nuevasNotas ))\n",
    "print(dict_from_list)\n",
    "\n",
    "promedio = sum(nuevasNotas) / len(nuevasNotas)\n",
    "print(promedio)\n",
    "\n",
    "\n",
    "\n",
    "for clave, valor in dict_from_list.items():\n",
    "    if valor> promedio:\n",
    "        print(clave)"
   ]
  },
  {
   "cell_type": "markdown",
   "metadata": {},
   "source": []
  }
 ],
 "metadata": {
  "interpreter": {
   "hash": "2be5faf79681da6f2a61fdfdd5405d65d042280f7fba6178067603e3a2925119"
  },
  "kernelspec": {
   "display_name": "Python 3.10.0 64-bit",
   "language": "python",
   "name": "python3"
  },
  "language_info": {
   "name": "python",
   "version": "3.10.0"
  },
  "orig_nbformat": 4
 },
 "nbformat": 4,
 "nbformat_minor": 2
}
