{
 "cells": [
  {
   "cell_type": "markdown",
   "metadata": {},
   "source": [
    "<h1 align=\"center\"> 💻Seminario de Lenguajes (Python) </h1>\n",
    "<div align=\"center\">\n",
    "<img src=\"https://media.giphy.com/media/1C8bHHJturSx2/giphy.gif\"/>\n",
    " </div>\n",
    "<br>"
   ]
  },
  {
   "cell_type": "code",
   "execution_count": null,
   "metadata": {},
   "outputs": [],
   "source": [
    "import csv\n",
    "import os\n",
    "import json\n",
    "\n",
    "def Paises(csv_reader:list[list[str]]):\n",
    "    for linea in csv_reader:\n",
    "        print(f\"{linea[2]:<40} {linea[3]}\")\n",
    "\n",
    "ruta = os.path.dirname(os.path.realpath(\".\"))\n",
    "ruta_archivo = os.path.join(ruta, \"base_datasets\", \"Spotify 2010 - 2019 Top 100.csv\")\n",
    "\n",
    "archivo = open(ruta_archivo, \"r\", encoding=\"utf-8\")\n",
    "csv_reader = csv.reader(archivo, delimiter=',')\n",
    "\n",
    "#encabezado = csv_reader.__next__()\n",
    "encabezado = next(csv_reader)\n",
    "datos = list(csv_reader)\n",
    "print(encabezado)\n",
    "Paises(datos)\n",
    "archivo.close()"
   ]
  }
 ],
 "metadata": {
  "language_info": {
   "name": "python"
  },
  "orig_nbformat": 4
 },
 "nbformat": 4,
 "nbformat_minor": 2
}
