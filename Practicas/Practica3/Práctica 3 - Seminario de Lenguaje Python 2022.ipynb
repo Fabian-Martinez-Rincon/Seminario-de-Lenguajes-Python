{
 "cells": [
  {
   "cell_type": "markdown",
   "id": "overhead-excerpt",
   "metadata": {},
   "source": [
    "**Objetivos**:\n",
    "\n",
    "   * Manejo de archivos\n",
    "   * Módulo os\n",
    "   * Módulo datetime\n",
    "   "
   ]
  },
  {
   "cell_type": "markdown",
   "id": "upset-halloween",
   "metadata": {},
   "source": [
    "# Archivos CSV\n",
    "* Datos de Netflix"
   ]
  },
  {
   "cell_type": "markdown",
   "id": "serious-offering",
   "metadata": {},
   "source": [
    "Veamos el archivo **[netflix_titles.csv](https://www.kaggle.com/shivamb/netflix-shows)** con el que estuvieron trabajando en la teoría"
   ]
  },
  {
   "cell_type": "code",
   "execution_count": 1,
   "id": "coated-member",
   "metadata": {},
   "outputs": [],
   "source": [
    "path_files = \"files\"\n",
    "archivo_net = \"netflix_titles.csv\""
   ]
  },
  {
   "cell_type": "markdown",
   "id": "hollow-plasma",
   "metadata": {},
   "source": [
    "* ¿Cómo accederían al archivo?\n",
    "* ¿En qué directorio guardarían estos datos?\n",
    "* ¿Qué cosas hay que tener en cuenta?\n"
   ]
  },
  {
   "cell_type": "code",
   "execution_count": 3,
   "id": "completed-craps",
   "metadata": {},
   "outputs": [],
   "source": [
    "import csv\n"
   ]
  },
  {
   "cell_type": "code",
   "execution_count": 2,
   "id": "cooperative-strike",
   "metadata": {},
   "outputs": [],
   "source": [
    "import os.path\n",
    "import os\n",
    "path_arch = os.path.join(os.getcwd(), path_files)"
   ]
  },
  {
   "cell_type": "markdown",
   "id": "a6563aec",
   "metadata": {},
   "source": [
    "* Vemos los datos que tenemos, consultando los nombres de las columnas"
   ]
  },
  {
   "cell_type": "code",
   "execution_count": 4,
   "id": "fresh-computer",
   "metadata": {},
   "outputs": [
    {
     "ename": "FileNotFoundError",
     "evalue": "[Errno 2] No such file or directory: 'c:\\\\Users\\\\fabian\\\\Desktop\\\\Seminario-de-Lenguajes-Python\\\\Practicas\\\\Practica3\\\\files\\\\netflix_titles.csv'",
     "output_type": "error",
     "traceback": [
      "\u001b[1;31m---------------------------------------------------------------------------\u001b[0m",
      "\u001b[1;31mFileNotFoundError\u001b[0m                         Traceback (most recent call last)",
      "\u001b[1;32mc:\\Users\\fabian\\Desktop\\Seminario-de-Lenguajes-Python\\Practicas\\Practica3\\Práctica 3 - Seminario de Lenguaje Python 2022.ipynb Cell 9'\u001b[0m in \u001b[0;36m<cell line: 1>\u001b[1;34m()\u001b[0m\n\u001b[1;32m----> <a href='vscode-notebook-cell:/c%3A/Users/fabian/Desktop/Seminario-de-Lenguajes-Python/Practicas/Practica3/Pr%C3%A1ctica%203%20-%20Seminario%20de%20Lenguaje%20Python%202022.ipynb#ch0000008?line=0'>1</a>\u001b[0m archivo \u001b[39m=\u001b[39m \u001b[39mopen\u001b[39;49m(os\u001b[39m.\u001b[39;49mpath\u001b[39m.\u001b[39;49mjoin(path_arch, archivo_net), \u001b[39m\"\u001b[39;49m\u001b[39mr\u001b[39;49m\u001b[39m\"\u001b[39;49m)\n\u001b[0;32m      <a href='vscode-notebook-cell:/c%3A/Users/fabian/Desktop/Seminario-de-Lenguajes-Python/Practicas/Practica3/Pr%C3%A1ctica%203%20-%20Seminario%20de%20Lenguaje%20Python%202022.ipynb#ch0000008?line=1'>2</a>\u001b[0m data_net \u001b[39m=\u001b[39m csv\u001b[39m.\u001b[39mreader(archivo, delimiter\u001b[39m=\u001b[39m\u001b[39m'\u001b[39m\u001b[39m,\u001b[39m\u001b[39m'\u001b[39m)\n\u001b[0;32m      <a href='vscode-notebook-cell:/c%3A/Users/fabian/Desktop/Seminario-de-Lenguajes-Python/Practicas/Practica3/Pr%C3%A1ctica%203%20-%20Seminario%20de%20Lenguaje%20Python%202022.ipynb#ch0000008?line=2'>3</a>\u001b[0m header , datos \u001b[39m=\u001b[39m \u001b[39mnext\u001b[39m(data_net), \u001b[39mlist\u001b[39m(data_net )\n",
      "\u001b[1;31mFileNotFoundError\u001b[0m: [Errno 2] No such file or directory: 'c:\\\\Users\\\\fabian\\\\Desktop\\\\Seminario-de-Lenguajes-Python\\\\Practicas\\\\Practica3\\\\files\\\\netflix_titles.csv'"
     ]
    }
   ],
   "source": [
    "archivo = open(os.path.join(path_arch, archivo_net), \"r\")\n",
    "data_net = csv.reader(archivo, delimiter=',')\n",
    "header , datos = next(data_net), list(data_net )\n",
    "header"
   ]
  },
  {
   "cell_type": "code",
   "execution_count": null,
   "metadata": {},
   "outputs": [],
   "source": []
  },
  {
   "cell_type": "markdown",
   "id": "4526e0e0",
   "metadata": {},
   "source": [
    "* Recorremos el archivos para conocer las información que contiene"
   ]
  },
  {
   "cell_type": "code",
   "execution_count": null,
   "id": "exposed-ceremony",
   "metadata": {},
   "outputs": [],
   "source": [
    "for linea in datos:\n",
    "    print(linea)"
   ]
  },
  {
   "cell_type": "markdown",
   "id": "optimum-clothing",
   "metadata": {
    "tags": []
   },
   "source": [
    "## Ejercicios\n",
    "1. Encontrar qué tipo de shows tiene un país determinado. \n",
    "* Realizar una función que informe todos los países que existen.\n",
    "* Realizar una función que dado un país informe si es parte de la línea del show pasado como argumento. Nota: utilice las funciones vistas de lambda(utilizando la función definida), map para informar los tipos de shows (valores únicos) en que participa un país.\n",
    "\n",
    "Analizar: \n"
   ]
  },
  {
   "cell_type": "markdown",
   "id": "387ec9af",
   "metadata": {},
   "source": [
    "* ¿En qué número de columna está el país?\n",
    "* Como en algunos casos hay varios países en un show  debemos separarlos y quedarnos con valores únicos."
   ]
  },
  {
   "cell_type": "markdown",
   "id": "determined-wheel",
   "metadata": {},
   "source": [
    "2. Informe la lista de países del archivo en orden alfabéticamente creciente."
   ]
  },
  {
   "cell_type": "markdown",
   "id": "a0acf6fa",
   "metadata": {},
   "source": [
    "3. Informe los shows de un año determinado, realice una función que reciba un año y la línea como argumentos."
   ]
  },
  {
   "cell_type": "markdown",
   "id": "serious-engine",
   "metadata": {},
   "source": [
    "# Fechas - datetime\n",
    "\n",
    "[Documentación datetime](https://docs.python.org/3/library/datetime.html)"
   ]
  },
  {
   "cell_type": "code",
   "execution_count": null,
   "id": "foreign-commander",
   "metadata": {},
   "outputs": [],
   "source": [
    "import datetime"
   ]
  },
  {
   "cell_type": "markdown",
   "id": "c7190fd6",
   "metadata": {},
   "source": [
    "El módulo datetime crea un objeto con el cual podemos realizar operaciones para cálculo de fechas. "
   ]
  },
  {
   "cell_type": "code",
   "execution_count": null,
   "id": "metallic-nowhere",
   "metadata": {},
   "outputs": [],
   "source": [
    "x = datetime.datetime.now()\n",
    "x"
   ]
  },
  {
   "cell_type": "markdown",
   "id": "cdf8fa69",
   "metadata": {},
   "source": [
    "* Como saber qué número de día de la semana es hoy"
   ]
  },
  {
   "cell_type": "code",
   "execution_count": null,
   "id": "official-break",
   "metadata": {},
   "outputs": [],
   "source": [
    "nro_dia = datetime.datetime.today().weekday()\n",
    "nro_dia"
   ]
  },
  {
   "cell_type": "markdown",
   "id": "1cc4462b",
   "metadata": {},
   "source": [
    "* Para obtener los días de la semana en castellano podemos utilizar una estructura auxiliar:"
   ]
  },
  {
   "cell_type": "code",
   "execution_count": null,
   "id": "standing-drive",
   "metadata": {
    "scrolled": true
   },
   "outputs": [],
   "source": [
    "dias_semana = ['lunes', 'martes', 'miercoles', 'jueves', 'viernes', 'sabado', 'domingo']\n",
    "dias_semana[nro_dia]"
   ]
  },
  {
   "cell_type": "markdown",
   "id": "a296f3e6",
   "metadata": {},
   "source": [
    "* Consultar algún dato en particular, como la hora"
   ]
  },
  {
   "cell_type": "code",
   "execution_count": null,
   "id": "boxed-television",
   "metadata": {},
   "outputs": [],
   "source": [
    "x.hour"
   ]
  },
  {
   "cell_type": "markdown",
   "id": "coated-cargo",
   "metadata": {},
   "source": [
    "* Para guardar los datos en archivos se debe guardar en string indicando el formato en que queremos guardarla."
   ]
  },
  {
   "cell_type": "code",
   "execution_count": 1,
   "id": "classified-following",
   "metadata": {
    "scrolled": true
   },
   "outputs": [
    {
     "ename": "NameError",
     "evalue": "name 'datetime' is not defined",
     "output_type": "error",
     "traceback": [
      "\u001b[1;31m---------------------------------------------------------------------------\u001b[0m",
      "\u001b[1;31mNameError\u001b[0m                                 Traceback (most recent call last)",
      "\u001b[1;32mc:\\Users\\fabian\\Desktop\\Seminario-de-Lenguajes-Python\\Practicas\\Practica3\\Práctica 3 - Seminario de Lenguaje Python 2022.ipynb Cell 28'\u001b[0m in \u001b[0;36m<cell line: 1>\u001b[1;34m()\u001b[0m\n\u001b[1;32m----> <a href='vscode-notebook-cell:/c%3A/Users/fabian/Desktop/Seminario-de-Lenguajes-Python/Practicas/Practica3/Pr%C3%A1ctica%203%20-%20Seminario%20de%20Lenguaje%20Python%202022.ipynb#ch0000026?line=0'>1</a>\u001b[0m horario_juego \u001b[39m=\u001b[39m datetime\u001b[39m.\u001b[39mdatetime\u001b[39m.\u001b[39mnow()\u001b[39m.\u001b[39mstrftime(\u001b[39m\"\u001b[39m\u001b[39m%d\u001b[39;00m\u001b[39m/\u001b[39m\u001b[39m%\u001b[39m\u001b[39mm/\u001b[39m\u001b[39m%\u001b[39m\u001b[39mY,\u001b[39m\u001b[39m%\u001b[39m\u001b[39mH:\u001b[39m\u001b[39m%\u001b[39m\u001b[39mM:\u001b[39m\u001b[39m%\u001b[39m\u001b[39mS\u001b[39m\u001b[39m\"\u001b[39m)\n\u001b[0;32m      <a href='vscode-notebook-cell:/c%3A/Users/fabian/Desktop/Seminario-de-Lenguajes-Python/Practicas/Practica3/Pr%C3%A1ctica%203%20-%20Seminario%20de%20Lenguaje%20Python%202022.ipynb#ch0000026?line=1'>2</a>\u001b[0m horario_juego\n",
      "\u001b[1;31mNameError\u001b[0m: name 'datetime' is not defined"
     ]
    }
   ],
   "source": [
    "horario_juego = datetime.datetime.now().strftime(\"%d/%m/%Y,%H:%M:%S\")\n",
    "horario_juego"
   ]
  },
  {
   "cell_type": "markdown",
   "id": "9dfc8100",
   "metadata": {},
   "source": [
    "## Ejercicios: \n",
    "* En base al [archivo](https://archivos.linti.unlp.edu.ar/index.php/s/q9b3rCrlhOS1yWU) analizar las fechas de los logs:"
   ]
  },
  {
   "cell_type": "code",
   "execution_count": 2,
   "id": "2b0436e2",
   "metadata": {},
   "outputs": [],
   "source": [
    "import os"
   ]
  },
  {
   "cell_type": "code",
   "execution_count": 3,
   "id": "2dbb6447",
   "metadata": {},
   "outputs": [
    {
     "ename": "NameError",
     "evalue": "name 'path_arch' is not defined",
     "output_type": "error",
     "traceback": [
      "\u001b[1;31m---------------------------------------------------------------------------\u001b[0m",
      "\u001b[1;31mNameError\u001b[0m                                 Traceback (most recent call last)",
      "\u001b[1;32mc:\\Users\\fabian\\Desktop\\Seminario-de-Lenguajes-Python\\Practicas\\Practica3\\Práctica 3 - Seminario de Lenguaje Python 2022.ipynb Cell 31'\u001b[0m in \u001b[0;36m<cell line: 2>\u001b[1;34m()\u001b[0m\n\u001b[0;32m      <a href='vscode-notebook-cell:/c%3A/Users/fabian/Desktop/Seminario-de-Lenguajes-Python/Practicas/Practica3/Pr%C3%A1ctica%203%20-%20Seminario%20de%20Lenguaje%20Python%202022.ipynb#ch0000030?line=0'>1</a>\u001b[0m logs \u001b[39m=\u001b[39m \u001b[39m'\u001b[39m\u001b[39mBBB_nuevo.csv\u001b[39m\u001b[39m'\u001b[39m\n\u001b[1;32m----> <a href='vscode-notebook-cell:/c%3A/Users/fabian/Desktop/Seminario-de-Lenguajes-Python/Practicas/Practica3/Pr%C3%A1ctica%203%20-%20Seminario%20de%20Lenguaje%20Python%202022.ipynb#ch0000030?line=1'>2</a>\u001b[0m \u001b[39mwith\u001b[39;00m \u001b[39mopen\u001b[39m(os\u001b[39m.\u001b[39mpath\u001b[39m.\u001b[39mjoin(path_arch, logs)) \u001b[39mas\u001b[39;00m logs_moodle:\n\u001b[0;32m      <a href='vscode-notebook-cell:/c%3A/Users/fabian/Desktop/Seminario-de-Lenguajes-Python/Practicas/Practica3/Pr%C3%A1ctica%203%20-%20Seminario%20de%20Lenguaje%20Python%202022.ipynb#ch0000030?line=2'>3</a>\u001b[0m     data_logs \u001b[39m=\u001b[39m csv\u001b[39m.\u001b[39mreader(logs_moodle, delimiter\u001b[39m=\u001b[39m\u001b[39m'\u001b[39m\u001b[39m,\u001b[39m\u001b[39m'\u001b[39m)\n\u001b[0;32m      <a href='vscode-notebook-cell:/c%3A/Users/fabian/Desktop/Seminario-de-Lenguajes-Python/Practicas/Practica3/Pr%C3%A1ctica%203%20-%20Seminario%20de%20Lenguaje%20Python%202022.ipynb#ch0000030?line=3'>4</a>\u001b[0m     header , logs_recurso \u001b[39m=\u001b[39m \u001b[39mnext\u001b[39m(data_logs), \u001b[39mlist\u001b[39m(data_logs )\n",
      "\u001b[1;31mNameError\u001b[0m: name 'path_arch' is not defined"
     ]
    }
   ],
   "source": [
    "logs = 'BBB_nuevo.csv'\n",
    "with open(os.path.join(path_arch, logs)) as logs_moodle:\n",
    "    data_logs = csv.reader(logs_moodle, delimiter=',')\n",
    "    header , logs_recurso = next(data_logs), list(data_logs )\n",
    "for linea in logs_recurso:\n",
    "    print(linea[0])\n",
    "    "
   ]
  },
  {
   "cell_type": "markdown",
   "id": "86fca83f",
   "metadata": {},
   "source": [
    "Analicemos cómo calcular el día de la semana que corresponde el log, el dato está guardado como string y para hacer consults debemos convertirlo a objeto *datetime*. El segundo argumento de la función *strptime* corresponde al [formato](https://docs.python.org/3/library/datetime.html), donde debemos indicar cómo se encuentra cada dato:\n"
   ]
  },
  {
   "cell_type": "markdown",
   "id": "b1d9e3e2",
   "metadata": {},
   "source": [
    "* %d = dia\n",
    "* %m = mes\n",
    "* %Y = año, si fuera la forma corta(22) corresponde %y\n",
    "* luego tiene un espacio \n",
    "* %H = hora\n",
    "* %M = minutos "
   ]
  },
  {
   "cell_type": "code",
   "execution_count": 1,
   "id": "400a18cb",
   "metadata": {},
   "outputs": [
    {
     "ename": "NameError",
     "evalue": "name 'datetime' is not defined",
     "output_type": "error",
     "traceback": [
      "\u001b[1;31m---------------------------------------------------------------------------\u001b[0m",
      "\u001b[1;31mNameError\u001b[0m                                 Traceback (most recent call last)",
      "\u001b[1;32mc:\\Users\\fabian\\Desktop\\Seminario-de-Lenguajes-Python\\Practicas\\Practica3\\Práctica 3 - Seminario de Lenguaje Python 2022.ipynb Cell 34'\u001b[0m in \u001b[0;36m<cell line: 2>\u001b[1;34m()\u001b[0m\n\u001b[0;32m      <a href='vscode-notebook-cell:/c%3A/Users/fabian/Desktop/Seminario-de-Lenguajes-Python/Practicas/Practica3/Pr%C3%A1ctica%203%20-%20Seminario%20de%20Lenguaje%20Python%202022.ipynb#ch0000033?line=0'>1</a>\u001b[0m formato \u001b[39m=\u001b[39m \u001b[39m\"\u001b[39m\u001b[39m%d\u001b[39;00m\u001b[39m/\u001b[39m\u001b[39m%\u001b[39m\u001b[39mm/\u001b[39m\u001b[39m%\u001b[39m\u001b[39mY \u001b[39m\u001b[39m%\u001b[39m\u001b[39mH:\u001b[39m\u001b[39m%\u001b[39m\u001b[39mM\u001b[39m\u001b[39m\"\u001b[39m\n\u001b[1;32m----> <a href='vscode-notebook-cell:/c%3A/Users/fabian/Desktop/Seminario-de-Lenguajes-Python/Practicas/Practica3/Pr%C3%A1ctica%203%20-%20Seminario%20de%20Lenguaje%20Python%202022.ipynb#ch0000033?line=1'>2</a>\u001b[0m \u001b[39mprint\u001b[39m(datetime\u001b[39m.\u001b[39mdatetime\u001b[39m.\u001b[39mstrptime(linea[\u001b[39m0\u001b[39m], formato)\u001b[39m.\u001b[39mweekday())\n",
      "\u001b[1;31mNameError\u001b[0m: name 'datetime' is not defined"
     ]
    }
   ],
   "source": [
    "formato = \"%d/%m/%Y %H:%M\"\n",
    "print(datetime.datetime.strptime(linea[0], formato).weekday())"
   ]
  },
  {
   "cell_type": "code",
   "execution_count": 4,
   "id": "73e79b8a",
   "metadata": {},
   "outputs": [
    {
     "ename": "NameError",
     "evalue": "name 'datetime' is not defined",
     "output_type": "error",
     "traceback": [
      "\u001b[1;31m---------------------------------------------------------------------------\u001b[0m",
      "\u001b[1;31mNameError\u001b[0m                                 Traceback (most recent call last)",
      "\u001b[1;32mc:\\Users\\fabian\\Desktop\\Seminario-de-Lenguajes-Python\\Practicas\\Practica3\\Práctica 3 - Seminario de Lenguaje Python 2022.ipynb Cell 35'\u001b[0m in \u001b[0;36m<cell line: 2>\u001b[1;34m()\u001b[0m\n\u001b[0;32m      <a href='vscode-notebook-cell:/c%3A/Users/fabian/Desktop/Seminario-de-Lenguajes-Python/Practicas/Practica3/Pr%C3%A1ctica%203%20-%20Seminario%20de%20Lenguaje%20Python%202022.ipynb#ch0000034?line=0'>1</a>\u001b[0m dias_semana \u001b[39m=\u001b[39m [\u001b[39m'\u001b[39m\u001b[39mlunes\u001b[39m\u001b[39m'\u001b[39m, \u001b[39m'\u001b[39m\u001b[39mmartes\u001b[39m\u001b[39m'\u001b[39m, \u001b[39m'\u001b[39m\u001b[39mmiercoles\u001b[39m\u001b[39m'\u001b[39m, \u001b[39m'\u001b[39m\u001b[39mjueves\u001b[39m\u001b[39m'\u001b[39m, \u001b[39m'\u001b[39m\u001b[39mviernes\u001b[39m\u001b[39m'\u001b[39m, \u001b[39m'\u001b[39m\u001b[39msabado\u001b[39m\u001b[39m'\u001b[39m, \u001b[39m'\u001b[39m\u001b[39mdomingo\u001b[39m\u001b[39m'\u001b[39m]\n\u001b[1;32m----> <a href='vscode-notebook-cell:/c%3A/Users/fabian/Desktop/Seminario-de-Lenguajes-Python/Practicas/Practica3/Pr%C3%A1ctica%203%20-%20Seminario%20de%20Lenguaje%20Python%202022.ipynb#ch0000034?line=1'>2</a>\u001b[0m nro_dia \u001b[39m=\u001b[39m datetime\u001b[39m.\u001b[39mdatetime\u001b[39m.\u001b[39mstrptime(linea[\u001b[39m0\u001b[39m], formato)\u001b[39m.\u001b[39mweekday()\n\u001b[0;32m      <a href='vscode-notebook-cell:/c%3A/Users/fabian/Desktop/Seminario-de-Lenguajes-Python/Practicas/Practica3/Pr%C3%A1ctica%203%20-%20Seminario%20de%20Lenguaje%20Python%202022.ipynb#ch0000034?line=2'>3</a>\u001b[0m dias_semana[nro_dia]\n",
      "\u001b[1;31mNameError\u001b[0m: name 'datetime' is not defined"
     ]
    }
   ],
   "source": [
    "dias_semana = ['lunes', 'martes', 'miercoles', 'jueves', 'viernes', 'sabado', 'domingo']\n",
    "nro_dia = datetime.datetime.strptime(linea[0], formato).weekday()\n",
    "dias_semana[nro_dia]"
   ]
  },
  {
   "cell_type": "code",
   "execution_count": null,
   "id": "46646676",
   "metadata": {},
   "outputs": [],
   "source": [
    "datetime.datetime.strptime(linea[0], formato).weekday()"
   ]
  },
  {
   "cell_type": "markdown",
   "id": "3211d975",
   "metadata": {},
   "source": [
    "4. Indique los días de la semana que más registros hubo:"
   ]
  },
  {
   "cell_type": "markdown",
   "id": "0c7cd38d",
   "metadata": {},
   "source": []
  },
  {
   "cell_type": "markdown",
   "id": "0516faf6",
   "metadata": {},
   "source": [
    "5. Calcule cuántos dias pasaron entre el primer registro y el último."
   ]
  }
 ],
 "metadata": {
  "kernelspec": {
   "display_name": "Python 3 (ipykernel)",
   "language": "python",
   "name": "python3"
  },
  "language_info": {
   "codemirror_mode": {
    "name": "ipython",
    "version": 3
   },
   "file_extension": ".py",
   "mimetype": "text/x-python",
   "name": "python",
   "nbconvert_exporter": "python",
   "pygments_lexer": "ipython3",
   "version": "3.10.0"
  }
 },
 "nbformat": 4,
 "nbformat_minor": 5
}
