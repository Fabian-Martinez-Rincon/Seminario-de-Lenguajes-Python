{
 "cells": [
  {
   "cell_type": "markdown",
   "id": "overhead-excerpt",
   "metadata": {},
   "source": [
    "**Objetivos**:\n",
    "\n",
    "   * Manejo de archivos\n",
    "   * Módulo os\n",
    "   * Módulo datetime\n",
    "   "
   ]
  },
  {
   "cell_type": "markdown",
   "id": "upset-halloween",
   "metadata": {},
   "source": [
    "# Archivos CSV\n",
    "* Datos de Netflix"
   ]
  },
  {
   "cell_type": "markdown",
   "id": "serious-offering",
   "metadata": {},
   "source": [
    "Veamos el archivo **[netflix_titles.csv](https://www.kaggle.com/shivamb/netflix-shows)** con el que estuvieron trabajando en la teoría"
   ]
  },
  {
   "cell_type": "code",
   "execution_count": null,
   "id": "coated-member",
   "metadata": {},
   "outputs": [],
   "source": [
    "path_files = \"files\"\n",
    "archivo_net = \"netflix_titles.csv\""
   ]
  },
  {
   "cell_type": "markdown",
   "id": "hollow-plasma",
   "metadata": {},
   "source": [
    "* ¿Cómo accederían al archivo?\n",
    "* ¿En qué directorio guardarían estos datos?\n",
    "* ¿Qué cosas hay que tener en cuenta?\n"
   ]
  },
  {
   "cell_type": "code",
   "execution_count": null,
   "id": "completed-craps",
   "metadata": {},
   "outputs": [],
   "source": [
    "import csv\n"
   ]
  },
  {
   "cell_type": "code",
   "execution_count": null,
   "id": "cooperative-strike",
   "metadata": {},
   "outputs": [],
   "source": [
    "import os.path\n",
    "import os\n",
    "path_arch = os.path.join(os.getcwd(), path_files)"
   ]
  },
  {
   "cell_type": "markdown",
   "id": "a6563aec",
   "metadata": {},
   "source": [
    "* Vemos los datos que tenemos, consultando los nombres de las columnas"
   ]
  },
  {
   "cell_type": "code",
   "execution_count": null,
   "id": "fresh-computer",
   "metadata": {},
   "outputs": [],
   "source": [
    "archivo = open(os.path.join(path_arch, archivo_net), \"r\")\n",
    "data_net = csv.reader(archivo, delimiter=',')\n",
    "header , datos = next(data_net), list(data_net )\n",
    "header"
   ]
  },
  {
   "cell_type": "markdown",
   "id": "4526e0e0",
   "metadata": {},
   "source": [
    "* Recorremos el archivos para conocer las información que contiene"
   ]
  },
  {
   "cell_type": "code",
   "execution_count": null,
   "id": "exposed-ceremony",
   "metadata": {},
   "outputs": [],
   "source": [
    "for linea in datos:\n",
    "    print(linea)"
   ]
  },
  {
   "cell_type": "markdown",
   "id": "optimum-clothing",
   "metadata": {
    "tags": []
   },
   "source": [
    "## Ejercicios\n",
    "1. Encontrar qué tipo de shows tiene un país determinado. \n",
    "* Realizar una función que informe todos los países que existen.\n",
    "* Realizar una función que dado un país informe si es parte de la línea del show pasado como argumento. Nota: utilice las funciones vistas de lambda(utilizando la función definida), map para informar los tipos de shows (valores únicos) en que participa un país.\n",
    "\n",
    "Analizar: \n"
   ]
  },
  {
   "cell_type": "markdown",
   "id": "387ec9af",
   "metadata": {},
   "source": [
    "* ¿En qué número de columna está el país?\n",
    "* Como en algunos casos hay varios países en un show  debemos separarlos y quedarnos con valores únicos."
   ]
  },
  {
   "cell_type": "markdown",
   "id": "determined-wheel",
   "metadata": {},
   "source": [
    "2. Informe la lista de países del archivo en orden alfabéticamente creciente."
   ]
  },
  {
   "cell_type": "markdown",
   "id": "a0acf6fa",
   "metadata": {},
   "source": [
    "3. Informe los shows de un año determinado, realice una función que reciba un año y la línea como argumentos."
   ]
  },
  {
   "cell_type": "markdown",
   "id": "serious-engine",
   "metadata": {},
   "source": [
    "# Fechas - datetime\n",
    "\n",
    "[Documentación datetime](https://docs.python.org/3/library/datetime.html)"
   ]
  },
  {
   "cell_type": "code",
   "execution_count": null,
   "id": "foreign-commander",
   "metadata": {},
   "outputs": [],
   "source": [
    "import datetime"
   ]
  },
  {
   "cell_type": "markdown",
   "id": "c7190fd6",
   "metadata": {},
   "source": [
    "El módulo datetime crea un objeto con el cual podemos realizar operaciones para cálculo de fechas. "
   ]
  },
  {
   "cell_type": "code",
   "execution_count": null,
   "id": "metallic-nowhere",
   "metadata": {},
   "outputs": [],
   "source": [
    "x = datetime.datetime.now()\n",
    "x"
   ]
  },
  {
   "cell_type": "markdown",
   "id": "cdf8fa69",
   "metadata": {},
   "source": [
    "* Como saber qué número de día de la semana es hoy"
   ]
  },
  {
   "cell_type": "code",
   "execution_count": null,
   "id": "official-break",
   "metadata": {},
   "outputs": [],
   "source": [
    "nro_dia = datetime.datetime.today().weekday()\n",
    "nro_dia"
   ]
  },
  {
   "cell_type": "markdown",
   "id": "1cc4462b",
   "metadata": {},
   "source": [
    "* Para obtener los días de la semana en castellano podemos utilizar una estructura auxiliar:"
   ]
  },
  {
   "cell_type": "code",
   "execution_count": null,
   "id": "standing-drive",
   "metadata": {
    "scrolled": true
   },
   "outputs": [],
   "source": [
    "dias_semana = ['lunes', 'martes', 'miercoles', 'jueves', 'viernes', 'sabado', 'domingo']\n",
    "dias_semana[nro_dia]"
   ]
  },
  {
   "cell_type": "markdown",
   "id": "a296f3e6",
   "metadata": {},
   "source": [
    "* Consultar algún dato en particular, como la hora"
   ]
  },
  {
   "cell_type": "code",
   "execution_count": null,
   "id": "boxed-television",
   "metadata": {},
   "outputs": [],
   "source": [
    "x.hour"
   ]
  },
  {
   "cell_type": "markdown",
   "id": "coated-cargo",
   "metadata": {},
   "source": [
    "* Para guardar los datos en archivos se debe guardar en string indicando el formato en que queremos guardarla."
   ]
  },
  {
   "cell_type": "code",
   "execution_count": null,
   "id": "classified-following",
   "metadata": {
    "scrolled": true
   },
   "outputs": [],
   "source": [
    "horario_juego = datetime.datetime.now().strftime(\"%d/%m/%Y,%H:%M:%S\")\n",
    "horario_juego"
   ]
  },
  {
   "cell_type": "markdown",
   "id": "9dfc8100",
   "metadata": {},
   "source": [
    "## Ejercicios: \n",
    "* En base al [archivo](https://archivos.linti.unlp.edu.ar/index.php/s/q9b3rCrlhOS1yWU) analizar las fechas de los logs:"
   ]
  },
  {
   "cell_type": "code",
   "execution_count": null,
   "id": "2b0436e2",
   "metadata": {},
   "outputs": [],
   "source": [
    "import os"
   ]
  },
  {
   "cell_type": "code",
   "execution_count": null,
   "id": "2dbb6447",
   "metadata": {},
   "outputs": [],
   "source": [
    "logs = 'BBB_nuevo.csv'\n",
    "with open(os.path.join(path_arch, logs)) as logs_moodle:\n",
    "    data_logs = csv.reader(logs_moodle, delimiter=',')\n",
    "    header , logs_recurso = next(data_logs), list(data_logs )\n",
    "for linea in logs_recurso:\n",
    "    print(linea[0])\n",
    "    "
   ]
  },
  {
   "cell_type": "markdown",
   "id": "86fca83f",
   "metadata": {},
   "source": [
    "Analicemos cómo calcular el día de la semana que corresponde el log, el dato está guardado como string y para hacer consults debemos convertirlo a objeto *datetime*. El segundo argumento de la función *strptime* corresponde al [formato](https://docs.python.org/3/library/datetime.html), donde debemos indicar cómo se encuentra cada dato:\n"
   ]
  },
  {
   "cell_type": "markdown",
   "id": "b1d9e3e2",
   "metadata": {},
   "source": [
    "* %d = dia\n",
    "* %m = mes\n",
    "* %Y = año, si fuera la forma corta(22) corresponde %y\n",
    "* luego tiene un espacio \n",
    "* %H = hora\n",
    "* %M = minutos "
   ]
  },
  {
   "cell_type": "code",
   "execution_count": null,
   "id": "400a18cb",
   "metadata": {},
   "outputs": [],
   "source": [
    "formato = \"%d/%m/%Y %H:%M\"\n",
    "print(datetime.datetime.strptime(linea[0], formato).weekday())"
   ]
  },
  {
   "cell_type": "code",
   "execution_count": null,
   "id": "73e79b8a",
   "metadata": {},
   "outputs": [],
   "source": [
    "dias_semana = ['lunes', 'martes', 'miercoles', 'jueves', 'viernes', 'sabado', 'domingo']\n",
    "nro_dia = datetime.datetime.strptime(linea[0], formato).weekday()\n",
    "dias_semana[nro_dia]"
   ]
  },
  {
   "cell_type": "code",
   "execution_count": null,
   "id": "46646676",
   "metadata": {},
   "outputs": [],
   "source": [
    "datetime.datetime.strptime(linea[0], formato).weekday()"
   ]
  },
  {
   "cell_type": "markdown",
   "id": "3211d975",
   "metadata": {},
   "source": [
    "4. Indique los días de la semana que más registros hubo:"
   ]
  },
  {
   "cell_type": "markdown",
   "id": "0516faf6",
   "metadata": {},
   "source": [
    "5. Calcule cuántos dias pasaron entre el primer registro y el último."
   ]
  }
 ],
 "metadata": {
  "kernelspec": {
   "display_name": "Python 3 (ipykernel)",
   "language": "python",
   "name": "python3"
  },
  "language_info": {
   "codemirror_mode": {
    "name": "ipython",
    "version": 3
   },
   "file_extension": ".py",
   "mimetype": "text/x-python",
   "name": "python",
   "nbconvert_exporter": "python",
   "pygments_lexer": "ipython3",
   "version": "3.10.4"
  }
 },
 "nbformat": 4,
 "nbformat_minor": 5
}
