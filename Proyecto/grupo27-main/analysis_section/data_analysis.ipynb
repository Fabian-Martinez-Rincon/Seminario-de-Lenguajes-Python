{
 "cells": [
  {
   "cell_type": "markdown",
   "metadata": {},
   "source": [
    "<h1 align='center'> <img src =\"https://gifimage.net/wp-content/uploads/2017/11/grafica-gif-1.gif\" style='height:50px'/><b>Análisis de datos y Estadísticas</b> <img src=\"https://reygif.com/media/5/estadistica-negativa-62293.gif\" style='height:50px' /></h1>"
   ]
  },
  {
   "cell_type": "markdown",
   "metadata": {},
   "source": [
    "## ***Librerías***\n",
    "\n"
   ]
  },
  {
   "cell_type": "markdown",
   "metadata": {},
   "source": [
    "- <a href=\"https://pandas.pydata.org/\"><img src=\"https://pandas.pydata.org/docs/_static/pandas.svg\" style='height:70px'/></a>\n",
    "- <a href=\"https://matplotlib.org/\"><img src=\"https://matplotlib.org/stable/_static/logo2.svg\" style='height:50px'/></a>"
   ]
  },
  {
   "cell_type": "markdown",
   "metadata": {},
   "source": [
    "## ***Lenguaje***"
   ]
  },
  {
   "cell_type": "markdown",
   "metadata": {},
   "source": [
    "- <a href=\"https://www.python.org/\"><img src=\"https://www.python.org/static/img/python-logo.png\" style='height:50px'>"
   ]
  },
  {
   "cell_type": "markdown",
   "metadata": {},
   "source": [
    "## **Manejo de archivos** "
   ]
  },
  {
   "cell_type": "markdown",
   "metadata": {},
   "source": [
    "### ***Imports necesarios***"
   ]
  },
  {
   "cell_type": "code",
   "execution_count": null,
   "metadata": {},
   "outputs": [],
   "source": [
    "import pandas as pd     \n",
    "import matplotlib.pyplot as plt\n",
    "import os "
   ]
  },
  {
   "cell_type": "markdown",
   "metadata": {},
   "source": [
    "### ***Obtengo la ruta donde se almacena el archivo CSV***"
   ]
  },
  {
   "cell_type": "markdown",
   "metadata": {},
   "source": [
    "``FOLDER_PATH`` almacena la ruta de la carpeta *analysis_section* \n",
    "\n",
    "``EVENTS_PATH`` almacena la ruta del archivo *events.csv*"
   ]
  },
  {
   "cell_type": "code",
   "execution_count": null,
   "metadata": {},
   "outputs": [],
   "source": [
    "FOLDER_PATH = os.path.abspath('..')\n",
    "EVENTS_PATH =  os.path.join(FOLDER_PATH,'src','database','events','events.csv') "
   ]
  },
  {
   "cell_type": "markdown",
   "metadata": {},
   "source": [
    "### ***Leo el archivo y lo convierto en Data Frame***"
   ]
  },
  {
   "cell_type": "markdown",
   "metadata": {},
   "source": [
    "`DATA_FRAME` guarda el el Data Frame creado a partir del archivos csv almacenado en ``csv_events``\n",
    "\n",
    "En caso de no existir la ruta donde se almacena el csv de los eventos, se crea un Data Frame vacío con sus respectivos Headers, guardándose en ``DATA_FRAME``"
   ]
  },
  {
   "cell_type": "code",
   "execution_count": null,
   "metadata": {},
   "outputs": [],
   "source": [
    "if not os.path.exists(EVENTS_PATH):\n",
    "    DATA_FRAME = pd.DataFrame(columns= ['timestamp','id','usuarie','genero','nivel','cantidad a adivinar','evento','estado','correcta','respuesta'])\n",
    "    print('No se encontro ningun registro de partidas...')\n",
    "else:   \n",
    "    csv_events = pd.read_csv(EVENTS_PATH,encoding='utf-8',keep_default_na='')\n",
    "    DATA_FRAME = pd.DataFrame(csv_events)"
   ]
  },
  {
   "cell_type": "markdown",
   "metadata": {},
   "source": [
    "### ***Información sobre el Data Frame***"
   ]
  },
  {
   "cell_type": "code",
   "execution_count": null,
   "metadata": {},
   "outputs": [],
   "source": [
    "DATA_FRAME.info()"
   ]
  },
  {
   "cell_type": "markdown",
   "metadata": {},
   "source": [
    "### ***Tamaño del Data Frame***"
   ]
  },
  {
   "cell_type": "markdown",
   "metadata": {},
   "source": [
    "- ***( Filas , Columnas )***"
   ]
  },
  {
   "cell_type": "code",
   "execution_count": null,
   "metadata": {},
   "outputs": [],
   "source": [
    "DATA_FRAME.shape"
   ]
  },
  {
   "cell_type": "markdown",
   "metadata": {},
   "source": [
    "### ***Cosas interesantes***"
   ]
  },
  {
   "cell_type": "markdown",
   "metadata": {},
   "source": [
    "- Obtener los primeros, por defecto son **5**"
   ]
  },
  {
   "cell_type": "code",
   "execution_count": null,
   "metadata": {},
   "outputs": [],
   "source": [
    "DATA_FRAME.head()"
   ]
  },
  {
   "cell_type": "markdown",
   "metadata": {},
   "source": [
    "- Obtener los ultimos, por defecto son **5**"
   ]
  },
  {
   "cell_type": "code",
   "execution_count": null,
   "metadata": {},
   "outputs": [],
   "source": [
    "DATA_FRAME.tail()"
   ]
  },
  {
   "cell_type": "markdown",
   "metadata": {},
   "source": [
    "## **Gráficos y Estadisticas**"
   ]
  },
  {
   "cell_type": "markdown",
   "metadata": {},
   "source": [
    "### Top 10 de palabras que se encuentran primero de todas las partidas."
   ]
  },
  {
   "cell_type": "markdown",
   "metadata": {},
   "source": [
    "- `sub_df` filtra los datos del Data Frame que poseen un estado ``'ok'`` (Acierto) ó ``''`` (Inicio de partida)\n",
    " \n",
    "- `tiempos_palabra` almacena en un lista, una tupla (``tiempo``, ``respuesta correcta``) extraída del Data Frame\n",
    " \n",
    "- El `tiempo` se obtiene mediante el `timestamp` al encontrarse el primer acierto de partida menos `inicio`, una variable, la cual se almacena el timestamp a la hora de iniciar la misma.\n",
    " \n",
    "- También, al encontrar el primer acierto, se guarda la ``respuesta correcta`` correspondiente a este.\n",
    " \n",
    "- Se ordenan los valores y se grafican, para esto, dividimos los valores en 2 listas `tiempos` y `labels`. a las mismas (listas) se les aplica el método ``reverse()``, para un correcto gráfico."
   ]
  },
  {
   "cell_type": "code",
   "execution_count": null,
   "metadata": {},
   "outputs": [],
   "source": [
    "sub_df = DATA_FRAME.loc[:,['timestamp','estado','correcta']]\n",
    "sub_df = sub_df[(sub_df['estado'] == 'ok')|(sub_df['estado'] == '')]\n",
    "tiempos_palabra = []\n",
    "inicio = 0\n",
    "for intento in sub_df.iloc:\n",
    "    if intento['estado'] == '':\n",
    "        inicio = intento['timestamp']\n",
    "    if (intento['estado'] == 'ok') and (inicio != 0):\n",
    "        tiempos_palabra.append(((intento['timestamp'] - inicio),intento['correcta']))\n",
    "        inicio = 0\n",
    "tiempos_palabra.sort()\n",
    "tiempos_palabra = tiempos_palabra[:10]\n",
    "tiempos = []\n",
    "labels = []\n",
    "for item in tiempos_palabra:\n",
    "    tiempos.append(round(item[0],2))\n",
    "    labels.append(item[1])\n",
    "tiempos.reverse()\n",
    "labels.reverse()"
   ]
  },
  {
   "cell_type": "code",
   "execution_count": null,
   "metadata": {},
   "outputs": [],
   "source": [
    "plt.bar_label(plt.barh(labels,tiempos))\n",
    "plt.title('Top 10 palabras que se encuentran primero de todas las partidas',loc='right',fontsize=15)\n",
    "plt.ylabel('Palabras',fontsize=10)\n",
    "plt.xlabel('Segundos',fontsize=10)\n",
    "plt.show()"
   ]
  },
  {
   "cell_type": "markdown",
   "metadata": {},
   "source": [
    "### Porcentaje de partidas por estado."
   ]
  },
  {
   "cell_type": "markdown",
   "metadata": {},
   "source": [
    "- ``sub_df`` almacena los datos todos los datos de la columna estado.\n",
    " \n",
    "- Se obtienen los cierres inesperados de las partidas, almacenandose en `inesperadas`, restando el total de partidas ``iniciadas ('')`` menos las ``finalizas`` y ``canceladas``. además se agrega a los estados.\n",
    " \n",
    "- Se elimina el estado de inicio de partida ``''`` ya que no se pide su grafico.\n",
    " \n",
    "- Obtenemos la suma ``total`` de los eventos emitidos durante todas las partidas, para posteriormente representar el porcentaje en las ``labels``.\n",
    " \n",
    "- Verificamos que el total no sea 0 (En el caso de un Data Frame vacío) y luego graficamos graficamos."
   ]
  },
  {
   "cell_type": "code",
   "execution_count": null,
   "metadata": {},
   "outputs": [],
   "source": [
    "sub_df = DATA_FRAME.loc[:,'estado']\n",
    "estados = sub_df.value_counts()\n",
    "inesperadas = (estados.get('',0) - (estados.get('finalizada',0) + estados.get('cancelada',0)))\n",
    "estados['inesperadas'] = inesperadas\n",
    "if '' in estados:\n",
    "    estados.pop('')"
   ]
  },
  {
   "cell_type": "markdown",
   "metadata": {},
   "source": [
    "**Parametros - Grafico Pie ** \n",
    "- `startangle` = Define el angulo del grafico en 90°.\n",
    "- ``shadow`` = Agrega sombra al grafico.\n",
    "- ``wedgeprops`` = Por medio de un diccionarios personalizamos el grafico.\n",
    "\n",
    "**A los siguientes graficos de tipo pie compartiran el mismo estilo**"
   ]
  },
  {
   "cell_type": "code",
   "execution_count": null,
   "metadata": {},
   "outputs": [],
   "source": [
    "total = sum(estados.values)\n",
    "if total != 0:\n",
    "    plt.pie(estados,\n",
    "    startangle = 90,\n",
    "    shadow = True,\n",
    "    wedgeprops = {'linewidth': 6},\n",
    "    )\n",
    "    labels = [f\"{(valor/total)*100:5.2f}% - {estado}\" for estado,valor in estados.items()]\n",
    "    plt.legend(labels,bbox_to_anchor=(1,1),title='Estados')\n",
    "    plt.axis('equal')\n",
    "    plt.show()"
   ]
  },
  {
   "cell_type": "markdown",
   "metadata": {},
   "source": [
    "### Porcentaje de partidas finalizadas según género"
   ]
  },
  {
   "cell_type": "markdown",
   "metadata": {},
   "source": [
    "- `sub_df` almacena los datos de las columnas `genero` y `estado`.\n",
    "\n",
    "- Aplicacamos ``title case``, para no poseer invovenientes a la hora de procesar los géneros.\n",
    "\n",
    "- Filtramos la información de ``estado`` para obtener las partidas ``finalizadas``"
   ]
  },
  {
   "cell_type": "code",
   "execution_count": null,
   "metadata": {},
   "outputs": [],
   "source": [
    "sub_df = DATA_FRAME.loc[:,[\"genero\",\"estado\"]]\n",
    "sub_df['genero'] = sub_df['genero'].apply(lambda genero: genero.title())\n",
    "sub_df = sub_df[sub_df['estado']=='finalizada']"
   ]
  },
  {
   "cell_type": "markdown",
   "metadata": {},
   "source": [
    "- Obtenos los géneros y sus respectivos valores"
   ]
  },
  {
   "cell_type": "code",
   "execution_count": null,
   "metadata": {},
   "outputs": [],
   "source": [
    "cant_x_genero = sub_df['genero'].value_counts()"
   ]
  },
  {
   "cell_type": "markdown",
   "metadata": {},
   "source": [
    "**Al Gráfico Pie le agregamos**\n",
    "- ``autopct``= Agrega el valor porcentual de los datos. \n",
    "  - **% = indica que de tipo porcentual**\n",
    "  - **0.1 = indica la cantidad de decimales agregados**\n",
    "  - **f = para darle formato porcentual**\n",
    "\n",
    "**A la Leyenda le pasamos**  \n",
    "- ``bbox_to_anchor`` = Posiciona fuera del grafico sus respectivas leyendas.\n"
   ]
  },
  {
   "cell_type": "code",
   "execution_count": null,
   "metadata": {},
   "outputs": [],
   "source": [
    "plt.pie(cant_x_genero.values,\n",
    "startangle = 90,\n",
    "shadow = True,\n",
    "wedgeprops = {'linewidth': 6},\n",
    "autopct='%1.1f%%')\n",
    "plt.legend(cant_x_genero.index,title='Géneros',bbox_to_anchor=(1.05,1))\n",
    "plt.axis('equal')\n",
    "plt.show()"
   ]
  },
  {
   "cell_type": "markdown",
   "metadata": {},
   "source": [
    "### Porcentaje de partidas finalizadas según el nivel de dificultad"
   ]
  },
  {
   "cell_type": "markdown",
   "metadata": {},
   "source": [
    "- `sub_df` almacena los datos de las columnas `nivel` y `estado`.\n",
    "- Filtramos la información de ``estado`` para obtener las partidas finalizadas.\n",
    "- Obtenemos los ``niveles de dificuldad`` y sus respectivos valores."
   ]
  },
  {
   "cell_type": "markdown",
   "metadata": {},
   "source": [
    "\n"
   ]
  },
  {
   "cell_type": "code",
   "execution_count": null,
   "metadata": {},
   "outputs": [],
   "source": [
    "sub_df = DATA_FRAME.loc[:,[\"nivel\",\"estado\"]]\n",
    "sub_df = sub_df[sub_df['estado'] == 'finalizada']\n",
    "cant_x_dificultad = sub_df['nivel'].value_counts()"
   ]
  },
  {
   "cell_type": "code",
   "execution_count": null,
   "metadata": {},
   "outputs": [],
   "source": [
    "plt.pie(cant_x_dificultad.values,\n",
    "startangle = 90,\n",
    "shadow = True,\n",
    "wedgeprops = {'linewidth': 6},\n",
    "autopct='%1.1f%%')#\n",
    "plt.legend(cant_x_dificultad.index,title='Dificultad',bbox_to_anchor=(1.05,1),)\n",
    "plt.axis('equal')\n",
    "plt.show()"
   ]
  },
  {
   "cell_type": "markdown",
   "metadata": {},
   "source": [
    "### Duración total por partida. "
   ]
  },
  {
   "cell_type": "code",
   "execution_count": null,
   "metadata": {},
   "outputs": [],
   "source": [
    "inicios = []\n",
    "finales = []\n",
    "for partida in DATA_FRAME.iloc:\n",
    "    if partida['evento'] == 'inicio_partida':inicios.append(partida['timestamp'])\n",
    "    elif partida['evento'] == 'fin':finales.append(partida['timestamp'])\n",
    "tiempos_de_partidas = [\n",
    "    round((end - start)/60, 2) \n",
    "    for start,end in zip(inicios,finales)\n",
    "]"
   ]
  },
  {
   "cell_type": "code",
   "execution_count": null,
   "metadata": {},
   "outputs": [],
   "source": [
    "plt.xlabel('Partidas')\n",
    "plt.ylabel('Minutos')\n",
    "plt.title(f'Duración por partida')\n",
    "plt.plot(tiempos_de_partidas,label='Tiempos',marker= \"*\" if len(tiempos_de_partidas) < 50 else '.',\n",
    "linestyle='')\n",
    "plt.legend()\n",
    "plt.show()"
   ]
  },
  {
   "cell_type": "markdown",
   "metadata": {},
   "source": [
    "### Tiempo de la respuesta exitosa más rápida. "
   ]
  },
  {
   "cell_type": "markdown",
   "metadata": {},
   "source": [
    "- `sub_df` almacena los datos de ``timestamp``,``correcta`` y ``respuesta``\n",
    "- Debemos sacar un valor mínimo por eso inicializamos `mejor_tiempo` en un valor alto.\n",
    "Además, tenemos 2 variables para guardar la ``ultima correcta`` y el ``ultimo timestamp``, así comparar más adelante.\n",
    "- `inicio` almacena el timestamp al comenzar una nueva ronda.\n",
    "- Cuando la respuesta correcta es igual a la elegida y distinta a ``''``, significa que es un acierto, por lo tanto calculamos el tiempo y luego verificando si es menor que los anteriores.\n",
    "- Posteriormente graficamos."
   ]
  },
  {
   "cell_type": "code",
   "execution_count": null,
   "metadata": {},
   "outputs": [],
   "source": [
    "sub_df = DATA_FRAME.loc[:,['timestamp','correcta','respuesta']]\n",
    "mejor_tiempo = 10000.0\n",
    "ult_correcta = ''\n",
    "ult_timestamp = 0\n",
    "inicio = 0\n",
    "for intento in sub_df.iloc:\n",
    "    act_time = intento['timestamp']\n",
    "    if (intento['correcta'] == intento['respuesta']):\n",
    "        if (intento['correcta'] != ''):\n",
    "            mejor_tiempo = min(mejor_tiempo, act_time - inicio)\n",
    "        inicio = act_time\n",
    "    elif(intento['correcta'] != ult_correcta):\n",
    "        inicio = ult_timestamp\n",
    "    ult_timestamp = act_time\n",
    "    ult_correcta = intento['correcta']\n",
    "mejor_tiempo = round(mejor_tiempo,4)\n",
    "print(f'{ mejor_tiempo = } segundos')"
   ]
  },
  {
   "cell_type": "code",
   "execution_count": null,
   "metadata": {},
   "outputs": [],
   "source": [
    "if mejor_tiempo != 10000.0:\n",
    "    plt.text(0.5, 0.5, (f'Mejor Tiempo\\n{mejor_tiempo} Segs.'), size=40.,\n",
    "            ha=\"center\", va=\"center\",\n",
    "            c = 'Green'\n",
    "            )\n",
    "plt.xticks([])\n",
    "plt.yticks([])\n",
    "plt.show()"
   ]
  },
  {
   "cell_type": "markdown",
   "metadata": {},
   "source": [
    "### Promedio de tiempo de respuesta para respuestas exitosas. "
   ]
  },
  {
   "cell_type": "markdown",
   "metadata": {},
   "source": [
    "Muy similar al gráfico anterior .\n",
    "- `sub_df` almacena los datos de ``timestamp``,``correcta`` y ``respuesta``\n",
    "- Almacenamos todos los ``tiempos`` en una lista.\n",
    "- Si la lista posee al menos un elemento, obtenemos el ``tiempo promedio``\n",
    "- Posteriormente graficamos."
   ]
  },
  {
   "cell_type": "code",
   "execution_count": null,
   "metadata": {},
   "outputs": [],
   "source": [
    "sub_df = DATA_FRAME.loc[:,['timestamp','correcta','respuesta']]\n",
    "tiempos = []\n",
    "ult_correcta = ''\n",
    "inicio = 0\n",
    "ult_timestamp = 0\n",
    "for intento in sub_df.iloc:\n",
    "    act_time = intento['timestamp']\n",
    "    if (intento['correcta'] == intento['respuesta']):\n",
    "        if (intento['correcta'] != ''):\n",
    "            tiempos.append(act_time - inicio) \n",
    "        inicio = act_time\n",
    "    elif(intento['correcta'] != ult_correcta):\n",
    "        inicio = ult_timestamp\n",
    "    ult_timestamp = act_time\n",
    "    ult_correcta = intento['correcta']\n",
    "tiempo_promedio = 0\n",
    "if len(tiempos) !=0:\n",
    "    tiempo_promedio = round(sum(tiempos)/len(tiempos),2)\n",
    "    print(f'{tiempo_promedio = } Segundos')"
   ]
  },
  {
   "cell_type": "code",
   "execution_count": null,
   "metadata": {},
   "outputs": [],
   "source": [
    "plt.plot(tiempos,label='Tiempos',marker= '.' if len(tiempos) < 50 else ',')\n",
    "if (tiempo_promedio!=0):\n",
    "    plt.hlines(tiempo_promedio,0,(len(tiempos)-1),label=\"Promedio\",colors='orange')\n",
    "plt.title(f'Tiempos para respuestas exitosas por ronda \\n Promedio: {tiempo_promedio} seg.')\n",
    "plt.xlabel('Rondas')\n",
    "plt.ylabel('Minutos')\n",
    "plt.legend()\n",
    "plt.show()"
   ]
  },
  {
   "cell_type": "markdown",
   "metadata": {},
   "source": [
    "### Promedio de tiempo de partida general. "
   ]
  },
  {
   "cell_type": "markdown",
   "metadata": {},
   "source": [
    "- `sub_df` almacena los datos de ``timestamp`` y `evento`\n",
    "- Almacenamos los ``tiempos`` de todas las partidas.\n",
    "- Poseemos 2 variables que almacenan, el `inicio` de la partida y el ``último timestamp``, además una tercera que almacena el ``timestamp actual``.\n",
    "- Iremos agregando a tiempos la resta entre el ``último timestamp`` y el ``inicio``.\n",
    "- Actualizamos el ``inicio`` con el ``timestamp actual`` para una próxima partida.\n",
    "- al terminar \"Normalmente\" la iteración, verificamos si el evento es distinto a el `inicio de partida`, para obtener el tiempo de la última partida en el archivo de datos.\n",
    "- Posteriormente obtenemos el ``promedio``, sencillamente, dividiendo la suma de los tiempos por la cantidad de los mismos (distinta a 0).\n",
    "- Por último graficamos."
   ]
  },
  {
   "cell_type": "code",
   "execution_count": null,
   "metadata": {},
   "outputs": [],
   "source": [
    "sub_df = DATA_FRAME.loc[:,['timestamp','evento']]\n",
    "tiempos = []\n",
    "inicio = 0\n",
    "ult_timestamp = 0\n",
    "for intento in sub_df.iloc:\n",
    "    act_time = intento['timestamp']\n",
    "    if (intento['evento'] == 'inicio_partida'):\n",
    "        tiempos.append((ult_timestamp-inicio)/60)\n",
    "        inicio = act_time\n",
    "    ult_timestamp = act_time\n",
    "else:\n",
    "    if (intento['evento'] != 'inicio_partida'):\n",
    "        tiempos.append((ult_timestamp-inicio)/60)\n",
    "tiempos.pop(0)\n",
    "promedio = sum(tiempos)/(len(tiempos) if tiempos else 1)\n",
    "print(f'{(promedio):.2f} minutos es el tiempo promedio que dura una partida')"
   ]
  },
  {
   "cell_type": "code",
   "execution_count": null,
   "metadata": {},
   "outputs": [],
   "source": [
    "plt.xlabel('Partidas')\n",
    "plt.ylabel('Minutos')\n",
    "plt.title(f'Tiempos de partidas - Promedio: {promedio} mins')\n",
    "plt.plot(tiempos,label='Tiempos',marker= 'o' if len(tiempos_de_partidas) < 50 else ',')\n",
    "plt.hlines(promedio,0,(len(tiempos_de_partidas)),label=\"Promedio\",colors='orange')\n",
    "plt.legend()\n",
    "plt.show()"
   ]
  },
  {
   "cell_type": "markdown",
   "metadata": {},
   "source": [
    "### Porcentaje de aciertos por usuarie. "
   ]
  },
  {
   "cell_type": "markdown",
   "metadata": {},
   "source": [
    "- `sub_df` almacena los datos que poseen un estado igual a `error` o `ok`.\n",
    "- En `intentos por usuarie` se almacenan los valores de los recién mencionados estados, para cada usuario.\n",
    "- Por medio de un ``dict comprehension``  relacionamos y guardamos estos datos.\n",
    "- Posteriormente graficamos."
   ]
  },
  {
   "cell_type": "code",
   "execution_count": null,
   "metadata": {},
   "outputs": [],
   "source": [
    "sub_df = DATA_FRAME.loc[:,['usuarie','estado']]\n",
    "sub_df = sub_df[(sub_df['estado'] == 'error') | (sub_df['estado'] == 'ok')]\n",
    "intentos_x_usuarie = sub_df.value_counts()\n",
    "intentos_x_usuarie = {\n",
    "    usuarie: tuple(intentos_x_usuarie[usuarie,estado]\n",
    "    for estado in sub_df['estado'].unique()) \n",
    "    for usuarie in sub_df['usuarie'].unique()\n",
    "}\n",
    "print(f\"Errores y Aciertos por Usuarie - {intentos_x_usuarie}\")"
   ]
  },
  {
   "cell_type": "code",
   "execution_count": null,
   "metadata": {},
   "outputs": [],
   "source": [
    "for usuarie,intentos in intentos_x_usuarie.items():\n",
    "    plt.bar_label(plt.bar(usuarie,(intentos[1]/sum(intentos)*100),width=0.5,label=usuarie,),[str(round(intentos[1]/sum(intentos)*100,2)) + '%'])\n",
    "plt.title('Aciertos por usuarie')\n",
    "plt.legend()\n",
    "plt.xlabel('Usuaries')\n",
    "plt.ylabel('Porcentaje %')\n",
    "plt.yticks([x for x in range(101) if x % 10 == 0])    \n",
    "plt.show()"
   ]
  },
  {
   "cell_type": "markdown",
   "metadata": {},
   "source": [
    "### Cantidad de tarjetas para las que el usuarie no dió respuesta (timeout). **DOCUMENTAR**"
   ]
  },
  {
   "cell_type": "markdown",
   "metadata": {},
   "source": [
    "- `sub_df` almacena los datos que poseen un estado igual a `timeout` (fin del tiempo)\n",
    "- Un ``dict comprehension`` se queda con los valores. \n",
    "- Posteriormente, mediante un `for`, extraemos usuario y valores para graficar. "
   ]
  },
  {
   "cell_type": "code",
   "execution_count": null,
   "metadata": {},
   "outputs": [],
   "source": [
    "sub_df = DATA_FRAME.loc[:,['estado','usuarie']]\n",
    "sub_df = sub_df[sub_df['estado'] == 'timeout']\n",
    "timeout_por_usuarie = {\n",
    "    usuarie:sub_df[sub_df['usuarie'] == usuarie]  \n",
    "    for usuarie in sub_df['usuarie'].unique() \n",
    "}"
   ]
  },
  {
   "cell_type": "code",
   "execution_count": null,
   "metadata": {},
   "outputs": [],
   "source": [
    "plt.title('Timeouts por usuaries')\n",
    "plt.ylabel('Usuarie')\n",
    "plt.xlabel('Cantidad')\n",
    "for usuario,df in timeout_por_usuarie.items():\n",
    "    plt.bar_label(plt.barh(usuario,len(df.index),height=0.1,label=f\"{usuario}\"),[len(df.index)])\n",
    "plt.legend()\n",
    "plt.show()"
   ]
  },
  {
   "cell_type": "markdown",
   "metadata": {},
   "source": [
    "### Cantidad de tarjetas en las que el usuarie dió una respuesta errónea. **DOCUMENTAR**"
   ]
  },
  {
   "cell_type": "markdown",
   "metadata": {},
   "source": [
    "- `sub_df` almacena los datos que poseen un estado igual a `error`. \n",
    "- Un ``dict comprehension`` se queda con los valores en forma de tupla (usuarie,cantida de errores). \n",
    "- Posteriormente, mediante un `for` extraemos lo valores y graficamos. "
   ]
  },
  {
   "cell_type": "code",
   "execution_count": null,
   "metadata": {},
   "outputs": [],
   "source": [
    "sub_df = DATA_FRAME.loc[:,['id','estado','usuarie','correcta']]\n",
    "sub_df = sub_df[sub_df['estado'] == 'error']\n",
    "errores_x_usuarie = {\n",
    "    usuarie:sub_df[sub_df['usuarie'] == usuarie] \n",
    "    for usuarie in sub_df['usuarie'].unique()\n",
    "}\n",
    "errores_x_usuarie = (\n",
    "    (usuarie,len(df.value_counts())) \n",
    "    for usuarie,df in errores_x_usuarie.items()\n",
    ")"
   ]
  },
  {
   "cell_type": "code",
   "execution_count": null,
   "metadata": {},
   "outputs": [],
   "source": [
    "plt.title('Cartas con almenos un error',fontsize=20,loc='center')\n",
    "plt.xlabel('Cantidad')\n",
    "plt.ylabel('Usuaries')\n",
    "for usuarie,cant in errores_x_usuarie :\n",
    "    plt.bar_label(plt.barh(usuarie,cant,height=0.5,label=f\"{usuarie}\"),[cant])\n",
    "plt.show()"
   ]
  }
 ],
 "metadata": {
  "kernelspec": {
   "display_name": "Python 3 (ipykernel)",
   "language": "python",
   "name": "python3"
  },
  "language_info": {
   "codemirror_mode": {
    "name": "ipython",
    "version": 3
   },
   "file_extension": ".py",
   "mimetype": "text/x-python",
   "name": "python",
   "nbconvert_exporter": "python",
   "pygments_lexer": "ipython3",
   "version": "3.10.3"
  },
  "vscode": {
   "interpreter": {
    "hash": "fe3fb9be205b8509bfcfe29f3ee2911db9c3670de4136c9ba4f2c3f3ea984e87"
   }
  }
 },
 "nbformat": 4,
 "nbformat_minor": 2
}
