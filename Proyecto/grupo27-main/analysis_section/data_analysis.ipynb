{
 "cells": [
  {
   "cell_type": "markdown",
   "metadata": {},
   "source": [
    "<h1 align='center'> <b>Data Analysis & Stats</b> </h1>"
   ]
  },
  {
   "cell_type": "markdown",
   "metadata": {},
   "source": [
    "## ***Librerias***\n",
    "\n"
   ]
  },
  {
   "cell_type": "markdown",
   "metadata": {},
   "source": [
    "- <a href=\"https://pandas.pydata.org/\"><img src=\"https://pandas.pydata.org/docs/_static/pandas.svg\" style='height:70px'/></a>\n",
    "- <a href=\"https://matplotlib.org/\"><img src=\"https://matplotlib.org/stable/_static/logo2.svg\" style='height:50px'/></a>"
   ]
  },
  {
   "cell_type": "markdown",
   "metadata": {},
   "source": [
    "## ***Languaje***"
   ]
  },
  {
   "cell_type": "markdown",
   "metadata": {},
   "source": [
    "- <a href=\"https://www.python.org/\"><img src=\"https://www.python.org/static/img/python-logo.png\" style='height:50px'>"
   ]
  },
  {
   "cell_type": "markdown",
   "metadata": {},
   "source": [
    "## **Manejo de archivos** "
   ]
  },
  {
   "cell_type": "markdown",
   "metadata": {},
   "source": [
    "### ***Imports necesarios***"
   ]
  },
  {
   "cell_type": "code",
   "execution_count": null,
   "metadata": {},
   "outputs": [],
   "source": [
    "import pandas as pd     \n",
    "import matplotlib.pyplot as plt\n",
    "import numpy as np\n",
    "import os "
   ]
  },
  {
   "cell_type": "markdown",
   "metadata": {},
   "source": [
    "### ***Obtengo la ruta donde se almacena el archivo CSV***"
   ]
  },
  {
   "cell_type": "code",
   "execution_count": null,
   "metadata": {},
   "outputs": [],
   "source": [
    "FOLDER_PATH = os.path.abspath('..')\n",
    "EVENTS_PATH =  os.path.join(FOLDER_PATH,'src','database','events','events.csv') \n",
    "USERS_JSON_PATH = os.path.join(FOLDER_PATH,'src','database','saves','users.json')"
   ]
  },
  {
   "cell_type": "markdown",
   "metadata": {},
   "source": [
    "### ***Leo el archivo y lo convierto en Data Frame***"
   ]
  },
  {
   "cell_type": "code",
   "execution_count": null,
   "metadata": {},
   "outputs": [],
   "source": [
    "if not os.path.exists(EVENTS_PATH):\n",
    "    data_frame = pd.DataFrame(columns= [\"timestamp\",\"id\",\"evento\",\"cantidad a adivinar\",\"usuarie\",\"estado\",\"texto ingresado\",\"respuesta\",\"nivel\"])\n",
    "    print('No se encontro ningun registro de partidas...')\n",
    "else:   \n",
    "    DATA_FRAME = pd.read_csv(EVENTS_PATH,encoding='utf-8')\n",
    "DATA_FRAME.head()"
   ]
  },
  {
   "cell_type": "markdown",
   "metadata": {},
   "source": [
    "### ***Informacion sobre el Data Frame***"
   ]
  },
  {
   "cell_type": "code",
   "execution_count": null,
   "metadata": {},
   "outputs": [],
   "source": [
    "DATA_FRAME.info()"
   ]
  },
  {
   "cell_type": "markdown",
   "metadata": {},
   "source": [
    "## **Empezamos a graficar**"
   ]
  },
  {
   "cell_type": "markdown",
   "metadata": {},
   "source": [
    "### Gráfico que muestre el porcentaje de partidas finalizadas según género"
   ]
  },
  {
   "cell_type": "markdown",
   "metadata": {},
   "source": [
    "- ***No quedamos con los datos que nos interesan***"
   ]
  },
  {
   "cell_type": "code",
   "execution_count": null,
   "metadata": {},
   "outputs": [],
   "source": [
    "sub_df_genders = DATA_FRAME.loc[:,[\"genero\",\"estado\"]]"
   ]
  },
  {
   "cell_type": "markdown",
   "metadata": {},
   "source": [
    "- ***Aplicacamos title case, para no poseer invovenientes a la hora de procesar los generos.***\n",
    "\n",
    "- ***Filtramos la información de estado para obtener las partidas finalizadas***"
   ]
  },
  {
   "cell_type": "code",
   "execution_count": null,
   "metadata": {},
   "outputs": [],
   "source": [
    "sub_df_genders['genero'] = sub_df_genders['genero'].apply(lambda genero: genero.title())\n",
    "sub_df_genders = sub_df_genders[sub_df_genders['estado']=='finalizada']"
   ]
  },
  {
   "cell_type": "markdown",
   "metadata": {},
   "source": [
    "- ***Obtenos los generos y sus respectivos valores***\n",
    "\n"
   ]
  },
  {
   "cell_type": "code",
   "execution_count": null,
   "metadata": {},
   "outputs": [],
   "source": [
    "cant_x_gender = sub_df_genders['genero'].value_counts()"
   ]
  },
  {
   "cell_type": "markdown",
   "metadata": {},
   "source": [
    "- **Graficamos**\n",
    "- Parametros - ***Gráfico tipo Pie***\n",
    "  - startangle = Define el angulo del grafico en 90°.\n",
    "  - shadow = Agrega sombra al grafico.\n",
    "  - bbox_to_anchor = Posiciona fuera del grafico sus respectivas leyendas.\n",
    "  - wedgeprops = Por medio de un diccionarios personalizamos el grafico.\n",
    "  - autopct= Agrega el valor porcentual del los datos. \n",
    "    (**% = indica que de tipo porcentual**,\n",
    "    **0.1 = indica la cantidad de decimales agregados**,\n",
    "    **f = para darle formato porcentul** )"
   ]
  },
  {
   "cell_type": "code",
   "execution_count": null,
   "metadata": {},
   "outputs": [],
   "source": [
    "plt.pie(cant_x_gender.values,\n",
    "startangle = 90,\n",
    "shadow = True,\n",
    "wedgeprops = {'linewidth': 6},\n",
    "autopct='%0.1f%%')\n",
    "plt.legend(cant_x_gender.index,title='Generos',bbox_to_anchor=(1.05,1))\n",
    "plt.show()"
   ]
  },
  {
   "cell_type": "markdown",
   "metadata": {},
   "source": [
    "### Gráfico que muestre el porcentaje de partidas finalizadas según género"
   ]
  },
  {
   "cell_type": "markdown",
   "metadata": {},
   "source": [
    "- ***No quedamos con los datos que nos interesan***"
   ]
  },
  {
   "cell_type": "code",
   "execution_count": null,
   "metadata": {},
   "outputs": [],
   "source": [
    "sub_df_difficulty = DATA_FRAME.loc[:,[\"nivel\",\"estado\"]]"
   ]
  },
  {
   "cell_type": "markdown",
   "metadata": {},
   "source": [
    "- ***Filtramos la información de estado para obtener las partidas finalizadas***"
   ]
  },
  {
   "cell_type": "code",
   "execution_count": null,
   "metadata": {},
   "outputs": [],
   "source": [
    "sub_df_difficulty = sub_df_difficulty[sub_df_difficulty['estado'] == 'finalizada']"
   ]
  },
  {
   "cell_type": "markdown",
   "metadata": {},
   "source": [
    "- ***Obtenos los niveles de dificuldad y sus respectivos valores***\n",
    "\n"
   ]
  },
  {
   "cell_type": "code",
   "execution_count": null,
   "metadata": {},
   "outputs": [],
   "source": [
    "cant_x_difficulty = sub_df_difficulty['nivel'].value_counts()"
   ]
  },
  {
   "cell_type": "markdown",
   "metadata": {},
   "source": [
    "- **Graficamos**\n",
    "- Parametros - ***Gráfica tipo Pie***\n",
    "  - startangle = Define el angulo del grafico en 90°.\n",
    "  - shadow = Agrega sombra al grafico.\n",
    "  - bbox_to_anchor = Posiciona fuera del grafico sus respectivas leyendas.\n",
    "  - wedgeprops = Por medio de un diccionarios personalizamos el grafico.\n",
    "  - autopct= Agrega el valor porcentual del los datos. \n",
    "    (**% = indica que de tipo porcentual**,\n",
    "    **0.1 = indica la cantidad de decimales agregados**,\n",
    "    **f = para darle formato porcentul** )"
   ]
  },
  {
   "cell_type": "code",
   "execution_count": null,
   "metadata": {},
   "outputs": [],
   "source": [
    "plt.pie(cant_x_difficulty.values,\n",
    "startangle = 90,\n",
    "shadow = True,\n",
    "wedgeprops = {'linewidth': 6},\n",
    "autopct='%0.1f%%')\n",
    "plt.legend(cant_x_difficulty.index,title='Dificultad',bbox_to_anchor=(1.05,1),)\n",
    "plt.show()"
   ]
  },
  {
   "cell_type": "markdown",
   "metadata": {},
   "source": [
    "### Promedio de tiempo de partida general"
   ]
  },
  {
   "cell_type": "code",
   "execution_count": null,
   "metadata": {},
   "outputs": [],
   "source": [
    "startings = []\n",
    "endings = []\n",
    "for partida in DATA_FRAME.values:\n",
    "    if partida[6] == 'inicio_partida':startings.append( partida[0])\n",
    "    elif partida[6] == 'fin':endings.append(partida[0])\n",
    "game_times = []\n",
    "for start,end in zip(startings,endings):game_times.append((end - start)) \n",
    "game_times = [time / 60 for time in game_times]\n",
    "mean = (sum(game_times)/ len(game_times))\n",
    "print(f'{round(mean,2)} minutos es el tiempo promedio que dura una partida')"
   ]
  },
  {
   "cell_type": "code",
   "execution_count": null,
   "metadata": {},
   "outputs": [],
   "source": [
    "plt.xlabel('Partidas')\n",
    "plt.ylabel('Minutos')\n",
    "plt.title(f'Tiempos de partidas - Promedio: {round(mean,2)} mins')\n",
    "plt.plot(game_times,label='Tiempos')\n",
    "plt.hlines(mean,0,(len(game_times)-1),label=\"Promedio\",colors='orange')\n",
    "plt.legend()\n",
    "plt.show()"
   ]
  },
  {
   "cell_type": "markdown",
   "metadata": {},
   "source": [
    "### Cantidad de tarjetas en las que el usuarie dió una respuesta errónea"
   ]
  },
  {
   "cell_type": "markdown",
   "metadata": {},
   "source": [
    "- Obtenenos los estados para cada uno de los usuarios"
   ]
  },
  {
   "cell_type": "code",
   "execution_count": null,
   "metadata": {},
   "outputs": [],
   "source": [
    "sub_df_usuarie = DATA_FRAME.loc[:,['id','estado','usuarie','correcta']]\n",
    "sub_df_usuarie = sub_df_usuarie[sub_df_usuarie['estado'] == 'error']\n",
    "errors_x_user = {user:sub_df_usuarie[sub_df_usuarie['usuarie'] == user] for user in sub_df_usuarie['usuarie'].unique()}\n",
    "errors_x_user = tuple(((user,len(df.value_counts())) for user,df in errors_x_user.items()))\n",
    "errors_x_user"
   ]
  },
  {
   "cell_type": "code",
   "execution_count": null,
   "metadata": {},
   "outputs": [],
   "source": [
    "plt.title('Cartas con almenos un error')\n",
    "plt.xlabel('Cantidad')\n",
    "plt.ylabel('Usuaries')\n",
    "for user,cant in errors_x_user :\n",
    "    plt.barh(user,cant,height= 0.5)\n",
    "plt.show()"
   ]
  },
  {
   "cell_type": "markdown",
   "metadata": {},
   "source": [
    "### Cantidad de tarjetas para las que el usuarie no dió respuesta (timeout)."
   ]
  },
  {
   "cell_type": "code",
   "execution_count": null,
   "metadata": {},
   "outputs": [],
   "source": [
    "sub_df_usuarie = DATA_FRAME.loc[:,['estado','usuarie']]\n",
    "sub_df_usuarie = sub_df_usuarie[sub_df_usuarie['estado'] == 'timeout']\n",
    "timeout_por_usuarie = {usuarie:sub_df_usuarie[sub_df_usuarie['usuarie'] == usuarie]  for usuarie in sub_df_usuarie['usuarie'].unique() }"
   ]
  },
  {
   "cell_type": "code",
   "execution_count": null,
   "metadata": {},
   "outputs": [],
   "source": [
    "plt.title('Timeouts por usuaries')\n",
    "plt.ylabel('Usuarie')\n",
    "plt.xlabel('Cantidad')\n",
    "for usuario,df in timeout_por_usuarie.items():\n",
    "    plt.bar_label(plt.barh(usuario,len(df.index),height=0.5,label=f\"{usuario}\"),[len(df.index)])\n",
    "plt.legend()\n",
    "plt.show()"
   ]
  },
  {
   "cell_type": "markdown",
   "metadata": {},
   "source": [
    "### Porcentaje de aciertos por usuarie."
   ]
  },
  {
   "cell_type": "code",
   "execution_count": null,
   "metadata": {},
   "outputs": [],
   "source": [
    "sub_df_usuarie = DATA_FRAME.loc[:,['usuarie','estado']]\n",
    "for fila in sub_df_usuarie.index:\n",
    "  if sub_df_usuarie.loc[fila, \"estado\"] in ('cancelada','finalizada','timeout'):\n",
    "    sub_df_usuarie.drop(fila, inplace = True)\n",
    "sub_df_usuarie.dropna(inplace=True)\n",
    "intentos_x_usuarie = sub_df_usuarie.value_counts()\n",
    "intentos_x_usuarie = {usuarie: [intentos_x_usuarie[usuarie,estado]for estado in sub_df_usuarie['estado'].unique()] for usuarie in sub_df_usuarie['usuarie'].unique()}\n",
    "intentos_x_usuarie"
   ]
  },
  {
   "cell_type": "code",
   "execution_count": null,
   "metadata": {},
   "outputs": [],
   "source": [
    "for usuarie,intentos in intentos_x_usuarie.items():\n",
    "    print(usuarie)\n",
    "    plt.bar_label(plt.bar(usuarie,(intentos[1]/sum(intentos)*100),width=0.5,label=usuarie),[str(round(intentos[1]/sum(intentos)*100,2)) + '%'])\n",
    "plt.title('Aciertos por usuarie')\n",
    "plt.legend()\n",
    "plt.yticks([x for x in range(101) if x % 10 == 0])    \n",
    "plt.show()"
   ]
  }
 ],
 "metadata": {
  "kernelspec": {
   "display_name": "Python 3.10.3 ('.env': venv)",
   "language": "python",
   "name": "python3"
  },
  "language_info": {
   "codemirror_mode": {
    "name": "ipython",
    "version": 3
   },
   "file_extension": ".py",
   "mimetype": "text/x-python",
   "name": "python",
   "nbconvert_exporter": "python",
   "pygments_lexer": "ipython3",
   "version": "3.10.3"
  },
  "orig_nbformat": 4,
  "vscode": {
   "interpreter": {
    "hash": "fe3fb9be205b8509bfcfe29f3ee2911db9c3670de4136c9ba4f2c3f3ea984e87"
   }
  }
 },
 "nbformat": 4,
 "nbformat_minor": 2
}
