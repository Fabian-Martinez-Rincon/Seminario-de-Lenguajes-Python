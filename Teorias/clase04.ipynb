{
 "cells": [
  {
   "cell_type": "markdown",
   "id": "younger-ready",
   "metadata": {
    "slideshow": {
     "slide_type": "slide"
    }
   },
   "source": [
    "### Seminario de Lenguajes - Python\n",
    "## Cursada 2022\n",
    "### Archivos. Formatos JSON y CSV"
   ]
  },
  {
   "cell_type": "markdown",
   "id": "e71c51f8",
   "metadata": {
    "slideshow": {
     "slide_type": "slide"
    }
   },
   "source": [
    "# Repasamos lambda\n"
   ]
  },
  {
   "cell_type": "markdown",
   "id": "a3135f83",
   "metadata": {
    "slideshow": {
     "slide_type": "subslide"
    }
   },
   "source": [
    "# Veamos el desafío de la clase anterior\n",
    "\n",
    "Una posible solución:"
   ]
  },
  {
   "cell_type": "code",
   "execution_count": 1,
   "id": "5f34e358",
   "metadata": {
    "slideshow": {
     "slide_type": "fragment"
    }
   },
   "outputs": [
    {
     "data": {
      "text/plain": [
       "['d', 'b', 't', 'b']"
      ]
     },
     "execution_count": 1,
     "metadata": {},
     "output_type": "execute_result"
    }
   ],
   "source": [
    "cadena = \"casa\"\n",
    "cadena_encriptada = list(map(lambda x: chr(ord(x) + 1), cadena))\n",
    "cadena_encriptada"
   ]
  },
  {
   "cell_type": "markdown",
   "id": "522334d2",
   "metadata": {
    "slideshow": {
     "slide_type": "fragment"
    }
   },
   "source": [
    "¿cadena_encriptada es una cadena? ¿De qué tipo es?"
   ]
  },
  {
   "cell_type": "code",
   "execution_count": 2,
   "id": "4ad7ab72",
   "metadata": {
    "slideshow": {
     "slide_type": "fragment"
    }
   },
   "outputs": [
    {
     "data": {
      "text/plain": [
       "'dbtb'"
      ]
     },
     "execution_count": 2,
     "metadata": {},
     "output_type": "execute_result"
    }
   ],
   "source": [
    "cadena_encriptada = \"\".join(cadena_encriptada)\n",
    "cadena_encriptada #String"
   ]
  },
  {
   "cell_type": "markdown",
   "id": "c103a633",
   "metadata": {
    "slideshow": {
     "slide_type": "fragment"
    }
   },
   "source": [
    "[+Info](https://www.w3schools.com/python/ref_string_join.asp)"
   ]
  },
  {
   "cell_type": "markdown",
   "id": "df69eedb",
   "metadata": {
    "slideshow": {
     "slide_type": "subslide"
    }
   },
   "source": [
    "# Otra forma: función reduce\n"
   ]
  },
  {
   "cell_type": "code",
   "execution_count": 3,
   "id": "c7715f8b",
   "metadata": {
    "slideshow": {
     "slide_type": "fragment"
    }
   },
   "outputs": [
    {
     "data": {
      "text/plain": [
       "'aei'"
      ]
     },
     "execution_count": 3,
     "metadata": {},
     "output_type": "execute_result"
    }
   ],
   "source": [
    "from functools import reduce\n",
    "\n",
    "cadena = [\"a\", \"e\", \"i\"]\n",
    "vocales = reduce((lambda x, y: x + y), cadena)\n",
    "vocales"
   ]
  },
  {
   "cell_type": "code",
   "execution_count": 4,
   "id": "b7843db0",
   "metadata": {
    "slideshow": {
     "slide_type": "fragment"
    }
   },
   "outputs": [
    {
     "data": {
      "text/plain": [
       "24"
      ]
     },
     "execution_count": 4,
     "metadata": {},
     "output_type": "execute_result"
    }
   ],
   "source": [
    "producto = reduce((lambda x, y: x * y), [1, 2, 3, 4])\n",
    "producto"
   ]
  },
  {
   "cell_type": "markdown",
   "id": "a2d49da3",
   "metadata": {
    "slideshow": {
     "slide_type": "subslide"
    }
   },
   "source": [
    "# Otro ejemplo \n",
    "\n",
    "Sacado de https://realpython.com/python-reduce-function/\n"
   ]
  },
  {
   "cell_type": "code",
   "execution_count": 5,
   "id": "315338c4",
   "metadata": {
    "slideshow": {
     "slide_type": "fragment"
    }
   },
   "outputs": [],
   "source": [
    "def my_add(a, b):\n",
    "    result = a + b\n",
    "    print(f\"{a} + {b} = {result}\")\n",
    "    return result"
   ]
  },
  {
   "cell_type": "code",
   "execution_count": 6,
   "id": "cb4b3b45",
   "metadata": {
    "slideshow": {
     "slide_type": "fragment"
    }
   },
   "outputs": [
    {
     "name": "stdout",
     "output_type": "stream",
     "text": [
      "5 + 5 = 10\n"
     ]
    },
    {
     "data": {
      "text/plain": [
       "10"
      ]
     },
     "execution_count": 6,
     "metadata": {},
     "output_type": "execute_result"
    }
   ],
   "source": [
    "my_add(5, 5)"
   ]
  },
  {
   "cell_type": "code",
   "execution_count": 7,
   "id": "efe1b26b",
   "metadata": {
    "slideshow": {
     "slide_type": "fragment"
    }
   },
   "outputs": [
    {
     "name": "stdout",
     "output_type": "stream",
     "text": [
      "0 + 1 = 1\n",
      "1 + 2 = 3\n",
      "3 + 3 = 6\n",
      "6 + 4 = 10\n"
     ]
    },
    {
     "data": {
      "text/plain": [
       "10"
      ]
     },
     "execution_count": 7,
     "metadata": {},
     "output_type": "execute_result"
    }
   ],
   "source": [
    "numbers = [0, 1, 2, 3, 4]\n",
    "reduce(my_add, numbers)"
   ]
  },
  {
   "cell_type": "markdown",
   "id": "tender-beijing",
   "metadata": {
    "slideshow": {
     "slide_type": "slide"
    }
   },
   "source": [
    "# Les dejé algo para investigar en el video del fin de semana.... "
   ]
  },
  {
   "cell_type": "markdown",
   "id": "special-outline",
   "metadata": {
    "slideshow": {
     "slide_type": "fragment"
    }
   },
   "source": [
    "## ¿Cuándo un módulo se denomina  \\_\\_main__?"
   ]
  },
  {
   "cell_type": "markdown",
   "id": "stopped-degree",
   "metadata": {
    "slideshow": {
     "slide_type": "subslide"
    }
   },
   "source": [
    "# Recordemos con este ejemplo cuál es la situación:\n",
    "\n",
    "\n",
    "```python\n",
    "\t#módulo funciones\n",
    "    def uno():\n",
    "        print(\"uno\")\n",
    "        print(f\"El nombre de este módulo es {__name__}\")\n",
    "\t#uno()\n",
    "    \n",
    "\t#uso_funciones\t\n",
    "\timport funciones\n",
    "    funciones.uno()\n",
    "\n",
    "```"
   ]
  },
  {
   "cell_type": "markdown",
   "id": "creative-mistress",
   "metadata": {
    "slideshow": {
     "slide_type": "subslide"
    }
   },
   "source": [
    "# El módulo \\_\\_main__\n",
    "\n",
    "- Las instrucciones ejecutadas en el nivel de llamadas superior del intérprete, ya sea desde un script o interactivamente, se consideran parte del módulo llamado **\\_\\_main__**, por lo tanto tienen su propio espacio de nombres global."
   ]
  },
  {
   "cell_type": "markdown",
   "id": "natural-channels",
   "metadata": {
    "slideshow": {
     "slide_type": "fragment"
    }
   },
   "source": [
    "```python\n",
    "#módulo funciones\n",
    "def uno():\n",
    "    print(\"uno\")\n",
    "    print(f\"El nombre de este módulo es {__name__}\")\n",
    "\n",
    "if __name__ == \"__main__\":\n",
    "    uno()\n",
    "```"
   ]
  },
  {
   "cell_type": "markdown",
   "id": "frank-department",
   "metadata": {
    "slideshow": {
     "slide_type": "subslide"
    }
   },
   "source": [
    "#  Veamos este otro ejemplo:"
   ]
  },
  {
   "cell_type": "markdown",
   "id": "sixth-public",
   "metadata": {
    "slideshow": {
     "slide_type": "fragment"
    }
   },
   "source": [
    "```python\n",
    "# modulo utiles\n",
    "def vocales(cadena):\n",
    "    print(list(filter(lambda l: l.lower() in \"aeiou\", cadena)))\n",
    "\n",
    "# modulo uso_utiles\n",
    "import utiles\n",
    "\n",
    "utiles.vocales(\"Holaaaa!!!!!!\")\n",
    "```"
   ]
  },
  {
   "cell_type": "markdown",
   "id": "rolled-virgin",
   "metadata": {
    "slideshow": {
     "slide_type": "fragment"
    }
   },
   "source": [
    "- Primero: ¿qué hace?"
   ]
  },
  {
   "cell_type": "markdown",
   "id": "korean-given",
   "metadata": {
    "slideshow": {
     "slide_type": "subslide"
    }
   },
   "source": [
    "###  ¿Y si queremos invocar el módulo utiles (e invocar a la función vocales) desde la línea de comandos?¿Cómo les pasamos la cadena a analizar?"
   ]
  },
  {
   "cell_type": "code",
   "execution_count": 8,
   "id": "distributed-performer",
   "metadata": {
    "slideshow": {
     "slide_type": "fragment"
    }
   },
   "outputs": [
    {
     "data": {
      "text/plain": [
       "['C:\\\\Users\\\\fabian\\\\AppData\\\\Roaming\\\\Python\\\\Python310\\\\site-packages\\\\ipykernel_launcher.py',\n",
       " '--ip=127.0.0.1',\n",
       " '--stdin=9003',\n",
       " '--control=9001',\n",
       " '--hb=9000',\n",
       " '--Session.signature_scheme=\"hmac-sha256\"',\n",
       " '--Session.key=b\"e57c976a-6708-4548-ab80-26893dd19cc2\"',\n",
       " '--shell=9002',\n",
       " '--transport=\"tcp\"',\n",
       " '--iopub=9004',\n",
       " '--f=C:\\\\Users\\\\fabian\\\\AppData\\\\Local\\\\Temp\\\\tmp-2072S1qozulqFIHH.json']"
      ]
     },
     "execution_count": 8,
     "metadata": {},
     "output_type": "execute_result"
    }
   ],
   "source": [
    "import sys\n",
    "type(sys.argv)\n",
    "sys.argv\n"
   ]
  },
  {
   "cell_type": "markdown",
   "id": "friendly-legislation",
   "metadata": {
    "slideshow": {
     "slide_type": "fragment"
    }
   },
   "source": [
    "- ¿De qué tipo es argv?\n",
    "De tipo lista \n",
    "- ¿Qué valores contiene?\n",
    "Contiene los datos de la libreria"
   ]
  },
  {
   "cell_type": "markdown",
   "id": "encouraging-julian",
   "metadata": {
    "slideshow": {
     "slide_type": "fragment"
    }
   },
   "source": [
    "```python\n",
    "# modulo utiles\n",
    "def vocales(cadena):\n",
    "    print(list(filter(lambda l: l.lower() in \"aeiou\", cadena)))\n",
    "\n",
    "if __name__ == \"__main__\":\n",
    "    import sys\n",
    "    vocales(sys.argv[1])\n",
    "```"
   ]
  },
  {
   "cell_type": "markdown",
   "id": "african-stand",
   "metadata": {
    "slideshow": {
     "slide_type": "slide"
    }
   },
   "source": [
    "\n",
    "Paquetes\n",
    "========\n",
    "\n",
    "- Veamos el ejemplo de la [documentación oficial de paquetes](https://docs.python.org/3/tutorial/modules.html#packages)\n",
    "\n",
    "<img src=\"imagenes/paquetes.png\" alt=\"Paquetes en Python\" style=\"width:580 px;\"/>"
   ]
  },
  {
   "cell_type": "markdown",
   "id": "patent-locator",
   "metadata": {
    "slideshow": {
     "slide_type": "fragment"
    }
   },
   "source": [
    "```python\n",
    "\timport sound.effects.echo\n",
    "\tfrom sound.effects import echo\n",
    "```"
   ]
  },
  {
   "cell_type": "markdown",
   "id": "smooth-nightmare",
   "metadata": {
    "slideshow": {
     "slide_type": "fragment"
    }
   },
   "source": [
    "### ¿Qué contiene el archivo \\_\\_init__.py?"
   ]
  },
  {
   "cell_type": "markdown",
   "id": "enhanced-somalia",
   "metadata": {
    "slideshow": {
     "slide_type": "subslide"
    }
   },
   "source": [
    "\n",
    "# ¿Qué pasa si tenemos la siguiente sentencia?\n",
    "\n",
    "\n",
    "```python\n",
    "\tfrom sound import *\n",
    "```\n"
   ]
  },
  {
   "cell_type": "markdown",
   "id": "vertical-bloom",
   "metadata": {
    "slideshow": {
     "slide_type": "subslide"
    }
   },
   "source": [
    "- **\\_\\_all__**: es una variable que contiene una lista con los nombres de los módulos que deberían poder importarse  cuando se encuentra la sentencia **from package import \\***.\n",
    "\n",
    "```python\n",
    "\t#Por ejemplo, en sound/effects/__init__.py\n",
    "\t\n",
    "\t__all__ = [\"echo\", \"surround\", \"reverse\"]\n",
    "```\n",
    "\n",
    "- Si **\\_\\_all__** no está definida,  **from sound.effects import \\*** no importa los submódulos dentro del paquete **sound.effects** al espacio de nombres."
   ]
  },
  {
   "cell_type": "markdown",
   "id": "foreign-reader",
   "metadata": {
    "slideshow": {
     "slide_type": "fragment"
    }
   },
   "source": [
    "- Un [artículo para leer luego](https://realpython.com/absolute-vs-relative-python-imports/)."
   ]
  },
  {
   "cell_type": "markdown",
   "id": "sporting-plant",
   "metadata": {
    "slideshow": {
     "slide_type": "fragment"
    }
   },
   "source": [
    "* **Ejemplo:** analicemos esta librería: [console-menu](https://github.com/aegirhall/console-menu)"
   ]
  },
  {
   "cell_type": "markdown",
   "id": "finnish-country",
   "metadata": {
    "slideshow": {
     "slide_type": "slide"
    }
   },
   "source": [
    "# Pensemos en las siguientes situaciones\n",
    "\n",
    "¿Qué estructura usamos si queremos: \n",
    "\n",
    "-  guardar los puntajes cada vez que jugamos a un juego determinado?,\n",
    "-  tener un banco de preguntas para que cada vez que juguemos al juego de repaso las pueda acotar por temas?,\n",
    "-  manipular los Python Plus de los estudiantes por turnos?.\n",
    "\n",
    "**¿Qué tienen todas estas situaciones en común?**\n"
   ]
  },
  {
   "cell_type": "markdown",
   "id": "visible-murder",
   "metadata": {
    "slideshow": {
     "slide_type": "fragment"
    }
   },
   "source": [
    "### Necesitamos una estructura que permita que los datos puedan **persistir** cuando la ejecución del programa finalice."
   ]
  },
  {
   "cell_type": "markdown",
   "id": "interim-people",
   "metadata": {
    "slideshow": {
     "slide_type": "subslide"
    }
   },
   "source": [
    "# Algunas consideraciones antes de empezar\n",
    "\n",
    "- Lo básico: ¿qué es  un **archivo**?\n",
    "- ¿Cómo podemos manipular los archivos desde un programa Python?"
   ]
  },
  {
   "cell_type": "markdown",
   "id": "positive-onion",
   "metadata": {
    "slideshow": {
     "slide_type": "subslide"
    }
   },
   "source": [
    "# Manejo de archivos\n",
    "\n",
    "- Existen funciones predefinidas.\n",
    "- Si las operaciones fallan, se levanta una **excepción**.\n",
    "- Los archivos se manejan como objetos que se crean usando la [función open](https://docs.python.org/3/library/functions.html#open).\n",
    "\n",
    "<img src=\"imagenes/funcion_open.png\" alt=\"Actividad inicial\" style=\"width:650px;\"/>\n"
   ]
  },
  {
   "cell_type": "markdown",
   "id": "ignored-currency",
   "metadata": {
    "slideshow": {
     "slide_type": "fragment"
    }
   },
   "source": [
    "- **Tarea para el hogar**. Investigar: ¿qué diferencias hay entre un archivo de texto y uno binario?"
   ]
  },
  {
   "cell_type": "markdown",
   "id": "small-leadership",
   "metadata": {
    "slideshow": {
     "slide_type": "subslide"
    }
   },
   "source": [
    "# Veamos este ejemplo"
   ]
  },
  {
   "cell_type": "code",
   "execution_count": 9,
   "id": "another-frontier",
   "metadata": {
    "slideshow": {
     "slide_type": "fragment"
    }
   },
   "outputs": [],
   "source": [
    "archi1 = open('archivo.txt', 'w')"
   ]
  },
  {
   "cell_type": "markdown",
   "id": "provincial-scale",
   "metadata": {
    "slideshow": {
     "slide_type": "fragment"
    }
   },
   "source": [
    "- ¿De qué modo se abre este archivo? ¿Qué significa?\n",
    "- Luego de la instrucción, ¿dónde se encuentra archivo.txt?\n",
    "- ¿Cuándo puede dar un error esta sentencia?"
   ]
  },
  {
   "cell_type": "markdown",
   "id": "dedicated-combining",
   "metadata": {
    "slideshow": {
     "slide_type": "fragment"
    }
   },
   "source": [
    "# ¿Y este otro ejemplo?"
   ]
  },
  {
   "cell_type": "code",
   "execution_count": 10,
   "id": "other-server",
   "metadata": {
    "slideshow": {
     "slide_type": "fragment"
    }
   },
   "outputs": [
    {
     "ename": "FileExistsError",
     "evalue": "[Errno 17] File exists: 'archivoxse.txt'",
     "output_type": "error",
     "traceback": [
      "\u001b[1;31m---------------------------------------------------------------------------\u001b[0m",
      "\u001b[1;31mFileExistsError\u001b[0m                           Traceback (most recent call last)",
      "\u001b[1;32mc:\\Users\\fabian\\Desktop\\Seminario-de-Lenguajes-Python\\Teorias\\clase04.ipynb Cell 43'\u001b[0m in \u001b[0;36m<cell line: 1>\u001b[1;34m()\u001b[0m\n\u001b[1;32m----> <a href='vscode-notebook-cell:/c%3A/Users/fabian/Desktop/Seminario-de-Lenguajes-Python/Teorias/clase04.ipynb#ch0000042?line=0'>1</a>\u001b[0m archi2 \u001b[39m=\u001b[39m \u001b[39mopen\u001b[39;49m(\u001b[39m'\u001b[39;49m\u001b[39marchivoxse.txt\u001b[39;49m\u001b[39m'\u001b[39;49m, \u001b[39m'\u001b[39;49m\u001b[39mx\u001b[39;49m\u001b[39m'\u001b[39;49m)\n",
      "\u001b[1;31mFileExistsError\u001b[0m: [Errno 17] File exists: 'archivoxse.txt'"
     ]
    }
   ],
   "source": [
    "archi2 = open('archivoxse.txt', 'x')"
   ]
  },
  {
   "cell_type": "markdown",
   "id": "established-angle",
   "metadata": {
    "slideshow": {
     "slide_type": "fragment"
    }
   },
   "source": [
    "- Y en este caso, ¿de qué modo se abre este archivo?\n",
    "- ¿Cuándo puede dar un error esta sentencia?"
   ]
  },
  {
   "cell_type": "markdown",
   "id": "assumed-dayton",
   "metadata": {
    "slideshow": {
     "slide_type": "subslide"
    }
   },
   "source": [
    "# ¿Y en este caso?"
   ]
  },
  {
   "cell_type": "code",
   "execution_count": null,
   "id": "ultimate-breathing",
   "metadata": {
    "slideshow": {
     "slide_type": "fragment"
    }
   },
   "outputs": [],
   "source": [
    "archi3 = open('archivo.txt')"
   ]
  },
  {
   "cell_type": "markdown",
   "id": "textile-audio",
   "metadata": {
    "slideshow": {
     "slide_type": "fragment"
    }
   },
   "source": [
    "- En realidad [la función open](https://docs.python.org/3/library/functions.html#open) tiene más argumentos:\n",
    "\n",
    "```python\n",
    "\topen(file, mode='r', buffering=-1, encoding=None, errors=None, newline=None, closefd=True, opener=None)\n",
    "```\n",
    "- **encoding**: sólo para modo texto. Por defecto, la codificación establecida en las [configuraciones del sistema](https://docs.python.org/3.8/library/codecs.html#module-codecs) \n",
    "- **errors**: sólo en modo texto. Es una cadena que dice qué hacer ante un error en la codificación/decodificación. (\"strict\", \"ignore\", ..)\n",
    "- **newline**: sólo modo texto. Puede ser: None, '', '\\\\n', '\\\\r', y '\\\\r\\\\n'.\n",
    "\n",
    "```python\n",
    "\tarchi = open(\"pp.xxx\", \"r+\", encoding=\"UTF-8\")\n",
    "```"
   ]
  },
  {
   "cell_type": "code",
   "execution_count": null,
   "id": "f6d20496",
   "metadata": {
    "slideshow": {
     "slide_type": "notes"
    }
   },
   "outputs": [
    {
     "data": {
      "text/plain": [
       "'cp1252'"
      ]
     },
     "execution_count": 6,
     "metadata": {},
     "output_type": "execute_result"
    }
   ],
   "source": [
    "import locale\n",
    "locale.getpreferredencoding()"
   ]
  },
  {
   "cell_type": "markdown",
   "id": "c4ae0292",
   "metadata": {
    "slideshow": {
     "slide_type": "subslide"
    }
   },
   "source": [
    "## ¿Qué pasa si el archivo no está en la misma carpeta y tenmos que utilizar la ruta completa ?"
   ]
  },
  {
   "cell_type": "code",
   "execution_count": null,
   "id": "f7349694",
   "metadata": {
    "slideshow": {
     "slide_type": "fragment"
    }
   },
   "outputs": [
    {
     "data": {
      "text/plain": [
       "'C:\\\\Users\\\\fabian\\\\Desktop\\\\Seminario-de-Lenguajes-Python'"
      ]
     },
     "execution_count": 15,
     "metadata": {},
     "output_type": "execute_result"
    }
   ],
   "source": [
    "import os\n",
    "\n",
    "ruta = os.path.dirname(os.path.realpath(\".\"))\n",
    "ruta "
   ]
  },
  {
   "cell_type": "code",
   "execution_count": null,
   "id": "4e44b91a",
   "metadata": {
    "slideshow": {
     "slide_type": "fragment"
    }
   },
   "outputs": [
    {
     "data": {
      "text/plain": [
       "'C:\\\\Users\\\\fabian\\\\Desktop\\\\Seminario-de-Lenguajes-Python\\\\ejemplo\\\\clase4\\\\archivo.txt'"
      ]
     },
     "execution_count": 16,
     "metadata": {},
     "output_type": "execute_result"
    }
   ],
   "source": [
    "ruta_completa = os.path.join(ruta, \"ejemplo\",\"clase4\", \"archivo.txt\")\n",
    "ruta_completa"
   ]
  },
  {
   "cell_type": "markdown",
   "id": "e3c1b3b5",
   "metadata": {
    "slideshow": {
     "slide_type": "slide"
    }
   },
   "source": [
    "# ¿Cómo almacenamos datos en un archivo?\n",
    "- El caso más sencillo: guardanto texto en un archivo."
   ]
  },
  {
   "cell_type": "code",
   "execution_count": null,
   "id": "a553289f",
   "metadata": {
    "slideshow": {
     "slide_type": "fragment"
    }
   },
   "outputs": [
    {
     "name": "stdout",
     "output_type": "stream",
     "text": [
      "12\n",
      "6\n"
     ]
    }
   ],
   "source": [
    "f = open('archivo.txt', 'w')\n",
    "print(f.write('Hola, xxxxxx'))\n",
    "print(f.write('Mundo!'))\n",
    "\n",
    "f.close()"
   ]
  },
  {
   "cell_type": "markdown",
   "id": "7dbdcc28",
   "metadata": {
    "slideshow": {
     "slide_type": "fragment"
    }
   },
   "source": [
    "- **write(cadena):** escribe *cadena* en el archivo y retorna cantidad de caracteres escritos.\n",
    "- **close():** cierra el archivo."
   ]
  },
  {
   "cell_type": "markdown",
   "id": "2cf4a3bc",
   "metadata": {
    "slideshow": {
     "slide_type": "subslide"
    }
   },
   "source": [
    "# ¿Cómo leemos los datos guardados?"
   ]
  },
  {
   "cell_type": "code",
   "execution_count": null,
   "id": "c223da11",
   "metadata": {
    "slideshow": {
     "slide_type": "fragment"
    }
   },
   "outputs": [
    {
     "name": "stdout",
     "output_type": "stream",
     "text": [
      ", xxxxxxMundo!\n"
     ]
    },
    {
     "data": {
      "text/plain": [
       "'Hola'"
      ]
     },
     "execution_count": 18,
     "metadata": {},
     "output_type": "execute_result"
    }
   ],
   "source": [
    "f = open('archivo.txt', 'r')\n",
    "x = f.read(4)\n",
    "print(f.read())\n",
    "x"
   ]
  },
  {
   "cell_type": "markdown",
   "id": "6d8e18cf",
   "metadata": {
    "slideshow": {
     "slide_type": "fragment"
    }
   },
   "source": [
    "* **read(cantidad_bytes):** lee *cantidad_bytes* del archivo.\n",
    "* Si cantidad_bytes es <0 o no está, lee hasta fin de archivo.\n",
    "* Retorna \"\" si EOF."
   ]
  },
  {
   "cell_type": "markdown",
   "id": "0ddbb814",
   "metadata": {
    "slideshow": {
     "slide_type": "subslide"
    }
   },
   "source": [
    "- **Tarea**: probar el siguiente ejemplo que muestran otras formas de leer caracteres desde un archivo de texto."
   ]
  },
  {
   "cell_type": "code",
   "execution_count": null,
   "id": "010634d1",
   "metadata": {
    "slideshow": {
     "slide_type": "fragment"
    }
   },
   "outputs": [
    {
     "name": "stdout",
     "output_type": "stream",
     "text": [
      "1\n",
      "\n",
      "23\n",
      "\n",
      "345\n",
      "\n",
      "3\n",
      "\n",
      "423\n",
      "\n",
      "4\n",
      "\n"
     ]
    }
   ],
   "source": [
    "def leo_caracteres():\n",
    "    f = open(\"imagine.txt\",\"r\")\n",
    "    for x in f.read():\n",
    "        print(x)\n",
    "    f.close()\n",
    "\n",
    "def leo_lineas():\n",
    "    f = open(\"imagine.txt\",\"r\")\n",
    "    print(f.readlines())\n",
    "    f.close()\n",
    "\n",
    "def otra_forma():\n",
    "    f = open(\"imagine.txt\",\"r\")\n",
    "    for linea in f:\n",
    "        print(linea)\n",
    "    f.close()\n",
    "\n",
    "def main():\n",
    "    print('Leo caracteres')\n",
    "    leo_caracteres()\n",
    "    print('-' * 20)\n",
    "    print('Leo lineas')\n",
    "    leo_lineas()\n",
    "    print('-' * 20)\n",
    "    print('Otra forma')\n",
    "    otra_forma()\n",
    "\n",
    "\n",
    "if __name__ == \"__main__\":\n",
    "    otra_forma()"
   ]
  },
  {
   "cell_type": "markdown",
   "id": "355f35bd",
   "metadata": {
    "slideshow": {
     "slide_type": "slide"
    }
   },
   "source": [
    "# ¿Qué pasa si necesito guardar información que tiene una estructura?\n",
    "\n",
    "- Pensemos en estos ejemplos:\n",
    "\n",
    "\t- Los puntajes cada vez que juego a un juego. Información tipo: nombre jugador,  puntaje, fecha.\n",
    "\t- El banco de preguntas: tema, enunciado, respuesta correcta.\n",
    "\t- Los Python Plus de los estudiantes por turnos: turno, nombre, apellido, num_alumno, cantidad_puntos, etc.\n",
    "\n",
    "- En estos casos también podría usar un archivo de texto: ¿cómo se les ocurre?\n"
   ]
  },
  {
   "cell_type": "markdown",
   "id": "d08ac1df",
   "metadata": {
    "slideshow": {
     "slide_type": "subslide"
    }
   },
   "source": [
    "# Algunas posibilidades\n",
    "\n",
    "```\n",
    "\t\n",
    "\t'equipo: Astralis - e-sport: CSGO - pais: Dinamarca'\n",
    "\t\n",
    "\t---\n",
    "\tequipo:Astralis\n",
    "\te-sport:CSGO\n",
    "\tpais:Dinamarca\n",
    "\t---\n",
    "\n",
    "\t'Astralis-CSGO-Dinamarca'\n",
    "\t\n",
    "\t'Astralis*CSGO*Dinamarca*'\n",
    "\n",
    "```"
   ]
  },
  {
   "cell_type": "markdown",
   "id": "ba869115",
   "metadata": {
    "slideshow": {
     "slide_type": "fragment"
    }
   },
   "source": [
    "-  ¿Pros y contras?\t"
   ]
  },
  {
   "cell_type": "markdown",
   "id": "7c6872e2",
   "metadata": {
    "slideshow": {
     "slide_type": "subslide"
    }
   },
   "source": [
    "# Hay otras formas mejores..."
   ]
  },
  {
   "cell_type": "markdown",
   "id": "ef441bfa",
   "metadata": {
    "slideshow": {
     "slide_type": "slide"
    }
   },
   "source": [
    "# JSON (JavaScript Object Notation)\n",
    "\n",
    "- Es un formato de intercambio de datos muy popular. Por ejemplo:\n",
    "```\n",
    "\t{\"equipo\": \"Astralis\",\n",
    "\t \"e-sport\": \"CSGO\",\n",
    "\t \"pais\": \"Dinamarca\"}\n",
    "    o \n",
    "    [{\"equipo\": \"Astralis\",\n",
    "\t  \"e-sport\": \"CSGO\",\n",
    "\t  \"pais\": \"Dinamarca\"},\n",
    "      {\"equipo\": \"9z\",\n",
    "\t  \"e-sport\": \"CSGO\",\n",
    "\t  \"pais\": \"Argentina\"}]\n",
    "```\n",
    "- [+Info](https://www.json.org/json-en.html)"
   ]
  },
  {
   "cell_type": "markdown",
   "id": "f63b0c96",
   "metadata": {
    "slideshow": {
     "slide_type": "fragment"
    }
   },
   "source": [
    "- Veamos este ejemplo: https://developers.mercadolibre.com.ar/es_ar/categorias-y-publicaciones#close"
   ]
  },
  {
   "cell_type": "markdown",
   "id": "e613e581",
   "metadata": {
    "slideshow": {
     "slide_type": "subslide"
    }
   },
   "source": [
    "# Módulo json\n",
    "- Python tiene un módulo que permite trabajar con este formato.\n",
    "- Para usarlo, debemos importarlo."
   ]
  },
  {
   "cell_type": "code",
   "execution_count": null,
   "id": "155d57b0",
   "metadata": {
    "slideshow": {
     "slide_type": "fragment"
    }
   },
   "outputs": [],
   "source": [
    "import json"
   ]
  },
  {
   "cell_type": "markdown",
   "id": "04dc41ea",
   "metadata": {
    "slideshow": {
     "slide_type": "fragment"
    }
   },
   "source": [
    "- Permite serializar objetos.\n",
    "    - serializamos con: **dumps()** y **dump()**.\n",
    "    - desserializamos con: **loads()** y **load()**.\n",
    "- Más info en: https://docs.python.org/3/library/json.html\n"
   ]
  },
  {
   "cell_type": "markdown",
   "id": "ee9c90c7",
   "metadata": {
    "slideshow": {
     "slide_type": "subslide"
    }
   },
   "source": [
    "### Veamos este ejemplo\n",
    "-  Generamos un archivo con bandas de distintas ciudades:\n",
    "    - Tenemos: nombre de la banda, ciudad en la que se generó y una referencia a su trabajo. \n",
    "    - Empecemos por La Plata..."
   ]
  },
  {
   "cell_type": "code",
   "execution_count": null,
   "id": "a72a23bc",
   "metadata": {
    "slideshow": {
     "slide_type": "fragment"
    }
   },
   "outputs": [],
   "source": [
    "import json\n",
    "\n",
    "archivo = open(\"bandas.txt\", \"w\")\n",
    "datos = [\n",
    "    {\"nombre\": \"William Campbell\", \"ciudad\": \"La Plata\", \"ref\": \"www.instagram.com/williamcampbellok\"},\n",
    "    {\"nombre\": \"Buendia\", \"ciudad\": \"La Plata\", \"ref\":\"https://buendia.bandcamp.com/\"},\n",
    "    {\"nombre\": \"Lúmine\", \"ciudad\": \"La Plata\", \"ref\": \"https://www.instagram.com/luminelp/\"}]\n",
    "json.dump(datos, archivo)\n",
    "archivo.close()"
   ]
  },
  {
   "cell_type": "markdown",
   "id": "26288bc7",
   "metadata": {
    "slideshow": {
     "slide_type": "fragment"
    }
   },
   "source": [
    "- ¿De qué tipo es la variable datos?"
   ]
  },
  {
   "cell_type": "code",
   "execution_count": null,
   "id": "14479618",
   "metadata": {
    "slideshow": {
     "slide_type": "subslide"
    }
   },
   "outputs": [
    {
     "name": "stdout",
     "output_type": "stream",
     "text": [
      "[{'nombre': 'William Campbell', 'ciudad': 'La Plata', 'ref': 'www.instagram.com/williamcampbellok'}, {'nombre': 'Buendia', 'ciudad': 'La Plata', 'ref': 'https://buendia.bandcamp.com/'}, {'nombre': 'Lúmine', 'ciudad': 'La Plata', 'ref': 'https://www.instagram.com/luminelp/'}]\n",
      "[\n",
      "    {\n",
      "        \"nombre\": \"William Campbell\",\n",
      "        \"ciudad\": \"La Plata\",\n",
      "        \"ref\": \"www.instagram.com/williamcampbellok\"\n",
      "    },\n",
      "    {\n",
      "        \"nombre\": \"Buendia\",\n",
      "        \"ciudad\": \"La Plata\",\n",
      "        \"ref\": \"https://buendia.bandcamp.com/\"\n",
      "    },\n",
      "    {\n",
      "        \"nombre\": \"L\\u00famine\",\n",
      "        \"ciudad\": \"La Plata\",\n",
      "        \"ref\": \"https://www.instagram.com/luminelp/\"\n",
      "    }\n",
      "]\n"
     ]
    }
   ],
   "source": [
    "# Ahora accedemos a los datos guardados\n",
    "import json\n",
    "\n",
    "archivo = open(\"bandas.txt\", \"r\")\n",
    "datos = json.load(archivo)\n",
    "print(datos)\n",
    "datos_a_mostrar = json.dumps(datos, indent=4)\n",
    "print(datos_a_mostrar)\n",
    "archivo.close()"
   ]
  },
  {
   "cell_type": "markdown",
   "id": "e294c210",
   "metadata": {
    "slideshow": {
     "slide_type": "fragment"
    }
   },
   "source": [
    "- ¿De qué tipo de datos? ¿Y datos_a_mostrar?"
   ]
  },
  {
   "cell_type": "markdown",
   "id": "237fd0df",
   "metadata": {
    "slideshow": {
     "slide_type": "slide"
    }
   },
   "source": [
    "# CSV: ¿más formatos?\n",
    "\n",
    "\n",
    "- CSV (Comma Separated Values).\n",
    "- Es un formato muy común para importar/exportar desde/hacia hojas de cálculo y bases de datos.\n",
    "- Ejemplo:\n",
    "\n",
    "```\n",
    "nombre,ciudad,ref\n",
    "William Campbell,La Plata,www.instagram.com/williamcampbellok\n",
    "Buendia,La Plata,https://buendia.bandcamp.com/\n",
    "Lúmine,La Plata,https://www.instagram.com/luminelp/\n",
    "```\n",
    "- +Info: https://docs.python.org/3/library/csv.html\n",
    "- [PEP 305](https://www.python.org/dev/peps/pep-0305/)"
   ]
  },
  {
   "cell_type": "markdown",
   "id": "206ee347",
   "metadata": {
    "slideshow": {
     "slide_type": "subslide"
    }
   },
   "source": [
    "# Datasets\n",
    "\n",
    "- Hay muchos datasets disponibles de muchas temáticas:\n",
    "- En nuestro país:\n",
    "    - Datos de [Argentina](https://datos.gob.ar/dataset)\n",
    "    - Datos de [CABA](https://data.buenosaires.gob.ar/)\n",
    "    - Datos de [La Plata](https://catalogodatos.laplata.gob.ar/dataset)\n",
    "- Otros:\n",
    "    - https://data.world/\n",
    "    - https://www.kaggle.com/\n",
    "    - https://www.imdb.com/interfaces/\n",
    "    - Y muchos más..."
   ]
  },
  {
   "cell_type": "markdown",
   "id": "6863fe7e",
   "metadata": {
    "slideshow": {
     "slide_type": "fragment"
    }
   },
   "source": [
    " ## Muchos son datos abiertos, pero otros... no tanto...\n",
    " \n",
    " ### ¡PRESTAR ATENCIÓN  a la licencias y requisitos para su uso!\n"
   ]
  },
  {
   "cell_type": "markdown",
   "id": "db344540",
   "metadata": {
    "slideshow": {
     "slide_type": "subslide"
    }
   },
   "source": [
    "#  ¿Qué vemos en netflix? \n",
    "\n",
    "Vamos a trabajar con el archivo: [netflix_titles.csv](https://www.kaggle.com/shivamb/netflix-shows)"
   ]
  },
  {
   "cell_type": "code",
   "execution_count": 15,
   "id": "d7b45245",
   "metadata": {
    "slideshow": {
     "slide_type": "fragment"
    }
   },
   "outputs": [
    {
     "name": "stdout",
     "output_type": "stream",
     "text": [
      "['ï»¿show_id', 'type', 'title', 'director', 'cast', 'country', 'date_added', 'release_year', 'rating', 'duration', 'listed_in', 'description']\n"
     ]
    }
   ],
   "source": [
    "import csv\n",
    "\n",
    "ruta = os.path.dirname(os.path.realpath(\".\"))\n",
    "ruta_archivo = os.path.join(ruta, \"Teorias\", \"netflix_titles.csv\")\n",
    "ruta_archivo\n",
    "\n",
    "archivo = open(ruta_archivo, \"r\")\n",
    "csvreader = csv.reader(archivo, delimiter=',')\n",
    "\n",
    "#encabezado = csvreader.__next__()\n",
    "encabezado = next(csvreader)\n",
    "print(encabezado)\n",
    "\n",
    "archivo.close()"
   ]
  },
  {
   "cell_type": "markdown",
   "id": "c40e8692",
   "metadata": {
    "slideshow": {
     "slide_type": "subslide"
    }
   },
   "source": [
    "# El módulo csv\n",
    "\n",
    "- Hay que importarlo.\n",
    "- **csv.reader**: cea un objeto \"iterador\" que nos permite recorrer las líneas del archivo.\n",
    "- ¿Por qué incluimos el paŕametro **delimiter**? ¿[Dialectos](https://docs.python.org/3/library/csv.html#csv.Dialect)?\n",
    "\n",
    "\n",
    "```python\n",
    "     csvreader = csv.reader(archivo, delimiter=',')\n",
    "```"
   ]
  },
  {
   "cell_type": "markdown",
   "id": "99002825",
   "metadata": {
    "slideshow": {
     "slide_type": "subslide"
    }
   },
   "source": [
    "# Leemos el contenido completo"
   ]
  },
  {
   "cell_type": "code",
   "execution_count": 16,
   "id": "08dcbcc4",
   "metadata": {
    "slideshow": {
     "slide_type": "fragment"
    }
   },
   "outputs": [
    {
     "name": "stdout",
     "output_type": "stream",
     "text": [
      "['ï»¿show_id', 'type', 'title', 'director', 'cast', 'country', 'date_added', 'release_year', 'rating', 'duration', 'listed_in', 'description']\n"
     ]
    },
    {
     "ename": "UnicodeDecodeError",
     "evalue": "'charmap' codec can't decode byte 0x81 in position 2754: character maps to <undefined>",
     "output_type": "error",
     "traceback": [
      "\u001b[1;31m---------------------------------------------------------------------------\u001b[0m",
      "\u001b[1;31mUnicodeDecodeError\u001b[0m                        Traceback (most recent call last)",
      "\u001b[1;32mc:\\Users\\fabian\\Desktop\\Seminario-de-Lenguajes-Python\\Teorias\\clase04.ipynb Cell 81'\u001b[0m in \u001b[0;36m<cell line: 8>\u001b[1;34m()\u001b[0m\n\u001b[0;32m      <a href='vscode-notebook-cell:/c%3A/Users/fabian/Desktop/Seminario-de-Lenguajes-Python/Teorias/clase04.ipynb#ch0000080?line=4'>5</a>\u001b[0m encabezado \u001b[39m=\u001b[39m \u001b[39mnext\u001b[39m(csvreader)\n\u001b[0;32m      <a href='vscode-notebook-cell:/c%3A/Users/fabian/Desktop/Seminario-de-Lenguajes-Python/Teorias/clase04.ipynb#ch0000080?line=5'>6</a>\u001b[0m \u001b[39mprint\u001b[39m(encabezado)\n\u001b[1;32m----> <a href='vscode-notebook-cell:/c%3A/Users/fabian/Desktop/Seminario-de-Lenguajes-Python/Teorias/clase04.ipynb#ch0000080?line=7'>8</a>\u001b[0m \u001b[39mfor\u001b[39;00m linea \u001b[39min\u001b[39;00m csvreader:\n\u001b[0;32m      <a href='vscode-notebook-cell:/c%3A/Users/fabian/Desktop/Seminario-de-Lenguajes-Python/Teorias/clase04.ipynb#ch0000080?line=8'>9</a>\u001b[0m     \u001b[39mif\u001b[39;00m linea[\u001b[39m1\u001b[39m] \u001b[39m==\u001b[39m \u001b[39m\"\u001b[39m\u001b[39mTV Show\u001b[39m\u001b[39m\"\u001b[39m \u001b[39mand\u001b[39;00m linea[\u001b[39m5\u001b[39m] \u001b[39m==\u001b[39m \u001b[39m\"\u001b[39m\u001b[39mArgentina\u001b[39m\u001b[39m\"\u001b[39m: \n\u001b[0;32m     <a href='vscode-notebook-cell:/c%3A/Users/fabian/Desktop/Seminario-de-Lenguajes-Python/Teorias/clase04.ipynb#ch0000080?line=9'>10</a>\u001b[0m         \u001b[39mprint\u001b[39m(\u001b[39mf\u001b[39m\u001b[39m\"\u001b[39m\u001b[39m{\u001b[39;00mlinea[\u001b[39m2\u001b[39m]\u001b[39m:\u001b[39;00m\u001b[39m<40\u001b[39m\u001b[39m}\u001b[39;00m\u001b[39m \u001b[39m\u001b[39m{\u001b[39;00mlinea[\u001b[39m3\u001b[39m]\u001b[39m}\u001b[39;00m\u001b[39m\"\u001b[39m)\n",
      "File \u001b[1;32mC:\\Python310\\lib\\encodings\\cp1252.py:23\u001b[0m, in \u001b[0;36mIncrementalDecoder.decode\u001b[1;34m(self, input, final)\u001b[0m\n\u001b[0;32m     <a href='file:///c%3A/Python310/lib/encodings/cp1252.py?line=21'>22</a>\u001b[0m \u001b[39mdef\u001b[39;00m \u001b[39mdecode\u001b[39m(\u001b[39mself\u001b[39m, \u001b[39minput\u001b[39m, final\u001b[39m=\u001b[39m\u001b[39mFalse\u001b[39;00m):\n\u001b[1;32m---> <a href='file:///c%3A/Python310/lib/encodings/cp1252.py?line=22'>23</a>\u001b[0m     \u001b[39mreturn\u001b[39;00m codecs\u001b[39m.\u001b[39;49mcharmap_decode(\u001b[39minput\u001b[39;49m,\u001b[39mself\u001b[39;49m\u001b[39m.\u001b[39;49merrors,decoding_table)[\u001b[39m0\u001b[39m]\n",
      "\u001b[1;31mUnicodeDecodeError\u001b[0m: 'charmap' codec can't decode byte 0x81 in position 2754: character maps to <undefined>"
     ]
    }
   ],
   "source": [
    "archivo = open(ruta_archivo, \"r\")\n",
    "csvreader = csv.reader(archivo, delimiter=',')\n",
    "\n",
    "#encabezado = csvreader.__next__()\n",
    "encabezado = next(csvreader)\n",
    "print(encabezado)\n",
    "\n",
    "for linea in csvreader:\n",
    "    if linea[1] == \"TV Show\" and linea[5] == \"Argentina\": \n",
    "        print(f\"{linea[2]:<40} {linea[3]}\")\n",
    "\n",
    "archivo.close()"
   ]
  },
  {
   "cell_type": "markdown",
   "id": "b3ee3ba5",
   "metadata": {
    "slideshow": {
     "slide_type": "fragment"
    }
   },
   "source": [
    "¿De qué tipo es línea?"
   ]
  },
  {
   "cell_type": "markdown",
   "id": "9a6fc4ed",
   "metadata": {
    "slideshow": {
     "slide_type": "subslide"
    }
   },
   "source": [
    "# Otra solución ..."
   ]
  },
  {
   "cell_type": "code",
   "execution_count": null,
   "id": "ee3e4469",
   "metadata": {
    "slideshow": {
     "slide_type": "fragment"
    }
   },
   "outputs": [
    {
     "ename": "UnicodeDecodeError",
     "evalue": "'charmap' codec can't decode byte 0x81 in position 2754: character maps to <undefined>",
     "output_type": "error",
     "traceback": [
      "\u001b[1;31m---------------------------------------------------------------------------\u001b[0m",
      "\u001b[1;31mUnicodeDecodeError\u001b[0m                        Traceback (most recent call last)",
      "\u001b[1;32mc:\\Users\\fabian\\Desktop\\Seminario-de-Lenguajes-Python\\Teorias\\clase04.ipynb Cell 84'\u001b[0m in \u001b[0;36m<cell line: 5>\u001b[1;34m()\u001b[0m\n\u001b[0;32m      <a href='vscode-notebook-cell:/c%3A/Users/fabian/Desktop/Seminario-de-Lenguajes-Python/Teorias/clase04.ipynb#ch0000083?line=1'>2</a>\u001b[0m csvreader \u001b[39m=\u001b[39m csv\u001b[39m.\u001b[39mreader(archivo, delimiter\u001b[39m=\u001b[39m\u001b[39m'\u001b[39m\u001b[39m,\u001b[39m\u001b[39m'\u001b[39m)\n\u001b[0;32m      <a href='vscode-notebook-cell:/c%3A/Users/fabian/Desktop/Seminario-de-Lenguajes-Python/Teorias/clase04.ipynb#ch0000083?line=3'>4</a>\u001b[0m shows_ar \u001b[39m=\u001b[39m \u001b[39mfilter\u001b[39m(\u001b[39mlambda\u001b[39;00m x:  x[\u001b[39m5\u001b[39m] \u001b[39m==\u001b[39m \u001b[39m\"\u001b[39m\u001b[39mArgentina\u001b[39m\u001b[39m\"\u001b[39m \u001b[39mand\u001b[39;00m x[\u001b[39m1\u001b[39m] \u001b[39m==\u001b[39m \u001b[39m\"\u001b[39m\u001b[39mTV Show\u001b[39m\u001b[39m\"\u001b[39m, csvreader)\n\u001b[1;32m----> <a href='vscode-notebook-cell:/c%3A/Users/fabian/Desktop/Seminario-de-Lenguajes-Python/Teorias/clase04.ipynb#ch0000083?line=4'>5</a>\u001b[0m \u001b[39mfor\u001b[39;00m elem \u001b[39min\u001b[39;00m shows_ar:\n\u001b[0;32m      <a href='vscode-notebook-cell:/c%3A/Users/fabian/Desktop/Seminario-de-Lenguajes-Python/Teorias/clase04.ipynb#ch0000083?line=5'>6</a>\u001b[0m     \u001b[39mprint\u001b[39m(\u001b[39mf\u001b[39m\u001b[39m\"\u001b[39m\u001b[39m{\u001b[39;00melem[\u001b[39m2\u001b[39m]\u001b[39m:\u001b[39;00m\u001b[39m<40\u001b[39m\u001b[39m}\u001b[39;00m\u001b[39m \u001b[39m\u001b[39m{\u001b[39;00melem[\u001b[39m3\u001b[39m]\u001b[39m}\u001b[39;00m\u001b[39m\"\u001b[39m)\n\u001b[0;32m      <a href='vscode-notebook-cell:/c%3A/Users/fabian/Desktop/Seminario-de-Lenguajes-Python/Teorias/clase04.ipynb#ch0000083?line=7'>8</a>\u001b[0m \u001b[39mprint\u001b[39m(shows_ar)\n",
      "File \u001b[1;32mC:\\Python310\\lib\\encodings\\cp1252.py:23\u001b[0m, in \u001b[0;36mIncrementalDecoder.decode\u001b[1;34m(self, input, final)\u001b[0m\n\u001b[0;32m     <a href='file:///c%3A/Python310/lib/encodings/cp1252.py?line=21'>22</a>\u001b[0m \u001b[39mdef\u001b[39;00m \u001b[39mdecode\u001b[39m(\u001b[39mself\u001b[39m, \u001b[39minput\u001b[39m, final\u001b[39m=\u001b[39m\u001b[39mFalse\u001b[39;00m):\n\u001b[1;32m---> <a href='file:///c%3A/Python310/lib/encodings/cp1252.py?line=22'>23</a>\u001b[0m     \u001b[39mreturn\u001b[39;00m codecs\u001b[39m.\u001b[39;49mcharmap_decode(\u001b[39minput\u001b[39;49m,\u001b[39mself\u001b[39;49m\u001b[39m.\u001b[39;49merrors,decoding_table)[\u001b[39m0\u001b[39m]\n",
      "\u001b[1;31mUnicodeDecodeError\u001b[0m: 'charmap' codec can't decode byte 0x81 in position 2754: character maps to <undefined>"
     ]
    }
   ],
   "source": [
    "archivo = open(ruta_archivo, \"r\")\n",
    "csvreader = csv.reader(archivo, delimiter=',')\n",
    "\n",
    "shows_ar = filter(lambda x:  x[5] == \"Argentina\" and x[1] == \"TV Show\", csvreader)\n",
    "for elem in shows_ar:\n",
    "    print(f\"{elem[2]:<40} {elem[3]}\")\n",
    "    \n",
    "print(shows_ar)\n",
    "archivo.close()"
   ]
  },
  {
   "cell_type": "markdown",
   "id": "d790cdb4",
   "metadata": {
    "slideshow": {
     "slide_type": "subslide"
    }
   },
   "source": [
    "# Creamos nuestro archivo csv de bandas de música"
   ]
  },
  {
   "cell_type": "markdown",
   "id": "23506bd6",
   "metadata": {
    "slideshow": {
     "slide_type": "fragment"
    }
   },
   "source": [
    "- **csv.writer:** retorna un objeto que convierte los datos con los que trabajamos en el programa en cadenas con el formato delimitadas con el separador correspondiente. "
   ]
  },
  {
   "cell_type": "code",
   "execution_count": null,
   "id": "eadaedb2",
   "metadata": {
    "slideshow": {
     "slide_type": "fragment"
    }
   },
   "outputs": [
    {
     "ename": "JSONDecodeError",
     "evalue": "Expecting value: line 1 column 1 (char 0)",
     "output_type": "error",
     "traceback": [
      "\u001b[1;31m---------------------------------------------------------------------------\u001b[0m",
      "\u001b[1;31mJSONDecodeError\u001b[0m                           Traceback (most recent call last)",
      "\u001b[1;32mc:\\Users\\fabian\\Desktop\\Seminario-de-Lenguajes-Python\\Teorias\\clase04.ipynb Cell 87'\u001b[0m in \u001b[0;36m<cell line: 7>\u001b[1;34m()\u001b[0m\n\u001b[0;32m      <a href='vscode-notebook-cell:/c%3A/Users/fabian/Desktop/Seminario-de-Lenguajes-Python/Teorias/clase04.ipynb#ch0000086?line=3'>4</a>\u001b[0m archivo \u001b[39m=\u001b[39m \u001b[39mopen\u001b[39m(\u001b[39m\"\u001b[39m\u001b[39mbandas.txt\u001b[39m\u001b[39m\"\u001b[39m)\n\u001b[0;32m      <a href='vscode-notebook-cell:/c%3A/Users/fabian/Desktop/Seminario-de-Lenguajes-Python/Teorias/clase04.ipynb#ch0000086?line=4'>5</a>\u001b[0m archivo_csv \u001b[39m=\u001b[39m \u001b[39mopen\u001b[39m(\u001b[39m\"\u001b[39m\u001b[39mbandas.csv\u001b[39m\u001b[39m\"\u001b[39m, \u001b[39m\"\u001b[39m\u001b[39mw\u001b[39m\u001b[39m\"\u001b[39m)\n\u001b[1;32m----> <a href='vscode-notebook-cell:/c%3A/Users/fabian/Desktop/Seminario-de-Lenguajes-Python/Teorias/clase04.ipynb#ch0000086?line=6'>7</a>\u001b[0m bandas \u001b[39m=\u001b[39m json\u001b[39m.\u001b[39;49mload(archivo)\n\u001b[0;32m      <a href='vscode-notebook-cell:/c%3A/Users/fabian/Desktop/Seminario-de-Lenguajes-Python/Teorias/clase04.ipynb#ch0000086?line=8'>9</a>\u001b[0m writer \u001b[39m=\u001b[39m csv\u001b[39m.\u001b[39mwriter(archivo_csv)\n\u001b[0;32m     <a href='vscode-notebook-cell:/c%3A/Users/fabian/Desktop/Seminario-de-Lenguajes-Python/Teorias/clase04.ipynb#ch0000086?line=9'>10</a>\u001b[0m writer\u001b[39m.\u001b[39mwriterow([\u001b[39m\"\u001b[39m\u001b[39mNombre\u001b[39m\u001b[39m\"\u001b[39m, \u001b[39m\"\u001b[39m\u001b[39mCiudad de procedencia\u001b[39m\u001b[39m\"\u001b[39m, \u001b[39m\"\u001b[39m\u001b[39mRefencias\u001b[39m\u001b[39m\"\u001b[39m])\n",
      "File \u001b[1;32mC:\\Python310\\lib\\json\\__init__.py:293\u001b[0m, in \u001b[0;36mload\u001b[1;34m(fp, cls, object_hook, parse_float, parse_int, parse_constant, object_pairs_hook, **kw)\u001b[0m\n\u001b[0;32m    <a href='file:///c%3A/Python310/lib/json/__init__.py?line=273'>274</a>\u001b[0m \u001b[39mdef\u001b[39;00m \u001b[39mload\u001b[39m(fp, \u001b[39m*\u001b[39m, \u001b[39mcls\u001b[39m\u001b[39m=\u001b[39m\u001b[39mNone\u001b[39;00m, object_hook\u001b[39m=\u001b[39m\u001b[39mNone\u001b[39;00m, parse_float\u001b[39m=\u001b[39m\u001b[39mNone\u001b[39;00m,\n\u001b[0;32m    <a href='file:///c%3A/Python310/lib/json/__init__.py?line=274'>275</a>\u001b[0m         parse_int\u001b[39m=\u001b[39m\u001b[39mNone\u001b[39;00m, parse_constant\u001b[39m=\u001b[39m\u001b[39mNone\u001b[39;00m, object_pairs_hook\u001b[39m=\u001b[39m\u001b[39mNone\u001b[39;00m, \u001b[39m*\u001b[39m\u001b[39m*\u001b[39mkw):\n\u001b[0;32m    <a href='file:///c%3A/Python310/lib/json/__init__.py?line=275'>276</a>\u001b[0m     \u001b[39m\"\"\"Deserialize ``fp`` (a ``.read()``-supporting file-like object containing\u001b[39;00m\n\u001b[0;32m    <a href='file:///c%3A/Python310/lib/json/__init__.py?line=276'>277</a>\u001b[0m \u001b[39m    a JSON document) to a Python object.\u001b[39;00m\n\u001b[0;32m    <a href='file:///c%3A/Python310/lib/json/__init__.py?line=277'>278</a>\u001b[0m \n\u001b[1;32m   (...)\u001b[0m\n\u001b[0;32m    <a href='file:///c%3A/Python310/lib/json/__init__.py?line=290'>291</a>\u001b[0m \u001b[39m    kwarg; otherwise ``JSONDecoder`` is used.\u001b[39;00m\n\u001b[0;32m    <a href='file:///c%3A/Python310/lib/json/__init__.py?line=291'>292</a>\u001b[0m \u001b[39m    \"\"\"\u001b[39;00m\n\u001b[1;32m--> <a href='file:///c%3A/Python310/lib/json/__init__.py?line=292'>293</a>\u001b[0m     \u001b[39mreturn\u001b[39;00m loads(fp\u001b[39m.\u001b[39mread(),\n\u001b[0;32m    <a href='file:///c%3A/Python310/lib/json/__init__.py?line=293'>294</a>\u001b[0m         \u001b[39mcls\u001b[39m\u001b[39m=\u001b[39m\u001b[39mcls\u001b[39m, object_hook\u001b[39m=\u001b[39mobject_hook,\n\u001b[0;32m    <a href='file:///c%3A/Python310/lib/json/__init__.py?line=294'>295</a>\u001b[0m         parse_float\u001b[39m=\u001b[39mparse_float, parse_int\u001b[39m=\u001b[39mparse_int,\n\u001b[0;32m    <a href='file:///c%3A/Python310/lib/json/__init__.py?line=295'>296</a>\u001b[0m         parse_constant\u001b[39m=\u001b[39mparse_constant, object_pairs_hook\u001b[39m=\u001b[39mobject_pairs_hook, \u001b[39m*\u001b[39m\u001b[39m*\u001b[39mkw)\n",
      "File \u001b[1;32mC:\\Python310\\lib\\json\\__init__.py:346\u001b[0m, in \u001b[0;36mloads\u001b[1;34m(s, cls, object_hook, parse_float, parse_int, parse_constant, object_pairs_hook, **kw)\u001b[0m\n\u001b[0;32m    <a href='file:///c%3A/Python310/lib/json/__init__.py?line=340'>341</a>\u001b[0m     s \u001b[39m=\u001b[39m s\u001b[39m.\u001b[39mdecode(detect_encoding(s), \u001b[39m'\u001b[39m\u001b[39msurrogatepass\u001b[39m\u001b[39m'\u001b[39m)\n\u001b[0;32m    <a href='file:///c%3A/Python310/lib/json/__init__.py?line=342'>343</a>\u001b[0m \u001b[39mif\u001b[39;00m (\u001b[39mcls\u001b[39m \u001b[39mis\u001b[39;00m \u001b[39mNone\u001b[39;00m \u001b[39mand\u001b[39;00m object_hook \u001b[39mis\u001b[39;00m \u001b[39mNone\u001b[39;00m \u001b[39mand\u001b[39;00m\n\u001b[0;32m    <a href='file:///c%3A/Python310/lib/json/__init__.py?line=343'>344</a>\u001b[0m         parse_int \u001b[39mis\u001b[39;00m \u001b[39mNone\u001b[39;00m \u001b[39mand\u001b[39;00m parse_float \u001b[39mis\u001b[39;00m \u001b[39mNone\u001b[39;00m \u001b[39mand\u001b[39;00m\n\u001b[0;32m    <a href='file:///c%3A/Python310/lib/json/__init__.py?line=344'>345</a>\u001b[0m         parse_constant \u001b[39mis\u001b[39;00m \u001b[39mNone\u001b[39;00m \u001b[39mand\u001b[39;00m object_pairs_hook \u001b[39mis\u001b[39;00m \u001b[39mNone\u001b[39;00m \u001b[39mand\u001b[39;00m \u001b[39mnot\u001b[39;00m kw):\n\u001b[1;32m--> <a href='file:///c%3A/Python310/lib/json/__init__.py?line=345'>346</a>\u001b[0m     \u001b[39mreturn\u001b[39;00m _default_decoder\u001b[39m.\u001b[39;49mdecode(s)\n\u001b[0;32m    <a href='file:///c%3A/Python310/lib/json/__init__.py?line=346'>347</a>\u001b[0m \u001b[39mif\u001b[39;00m \u001b[39mcls\u001b[39m \u001b[39mis\u001b[39;00m \u001b[39mNone\u001b[39;00m:\n\u001b[0;32m    <a href='file:///c%3A/Python310/lib/json/__init__.py?line=347'>348</a>\u001b[0m     \u001b[39mcls\u001b[39m \u001b[39m=\u001b[39m JSONDecoder\n",
      "File \u001b[1;32mC:\\Python310\\lib\\json\\decoder.py:337\u001b[0m, in \u001b[0;36mJSONDecoder.decode\u001b[1;34m(self, s, _w)\u001b[0m\n\u001b[0;32m    <a href='file:///c%3A/Python310/lib/json/decoder.py?line=331'>332</a>\u001b[0m \u001b[39mdef\u001b[39;00m \u001b[39mdecode\u001b[39m(\u001b[39mself\u001b[39m, s, _w\u001b[39m=\u001b[39mWHITESPACE\u001b[39m.\u001b[39mmatch):\n\u001b[0;32m    <a href='file:///c%3A/Python310/lib/json/decoder.py?line=332'>333</a>\u001b[0m     \u001b[39m\"\"\"Return the Python representation of ``s`` (a ``str`` instance\u001b[39;00m\n\u001b[0;32m    <a href='file:///c%3A/Python310/lib/json/decoder.py?line=333'>334</a>\u001b[0m \u001b[39m    containing a JSON document).\u001b[39;00m\n\u001b[0;32m    <a href='file:///c%3A/Python310/lib/json/decoder.py?line=334'>335</a>\u001b[0m \n\u001b[0;32m    <a href='file:///c%3A/Python310/lib/json/decoder.py?line=335'>336</a>\u001b[0m \u001b[39m    \"\"\"\u001b[39;00m\n\u001b[1;32m--> <a href='file:///c%3A/Python310/lib/json/decoder.py?line=336'>337</a>\u001b[0m     obj, end \u001b[39m=\u001b[39m \u001b[39mself\u001b[39;49m\u001b[39m.\u001b[39;49mraw_decode(s, idx\u001b[39m=\u001b[39;49m_w(s, \u001b[39m0\u001b[39;49m)\u001b[39m.\u001b[39;49mend())\n\u001b[0;32m    <a href='file:///c%3A/Python310/lib/json/decoder.py?line=337'>338</a>\u001b[0m     end \u001b[39m=\u001b[39m _w(s, end)\u001b[39m.\u001b[39mend()\n\u001b[0;32m    <a href='file:///c%3A/Python310/lib/json/decoder.py?line=338'>339</a>\u001b[0m     \u001b[39mif\u001b[39;00m end \u001b[39m!=\u001b[39m \u001b[39mlen\u001b[39m(s):\n",
      "File \u001b[1;32mC:\\Python310\\lib\\json\\decoder.py:355\u001b[0m, in \u001b[0;36mJSONDecoder.raw_decode\u001b[1;34m(self, s, idx)\u001b[0m\n\u001b[0;32m    <a href='file:///c%3A/Python310/lib/json/decoder.py?line=352'>353</a>\u001b[0m     obj, end \u001b[39m=\u001b[39m \u001b[39mself\u001b[39m\u001b[39m.\u001b[39mscan_once(s, idx)\n\u001b[0;32m    <a href='file:///c%3A/Python310/lib/json/decoder.py?line=353'>354</a>\u001b[0m \u001b[39mexcept\u001b[39;00m \u001b[39mStopIteration\u001b[39;00m \u001b[39mas\u001b[39;00m err:\n\u001b[1;32m--> <a href='file:///c%3A/Python310/lib/json/decoder.py?line=354'>355</a>\u001b[0m     \u001b[39mraise\u001b[39;00m JSONDecodeError(\u001b[39m\"\u001b[39m\u001b[39mExpecting value\u001b[39m\u001b[39m\"\u001b[39m, s, err\u001b[39m.\u001b[39mvalue) \u001b[39mfrom\u001b[39;00m \u001b[39mNone\u001b[39m\n\u001b[0;32m    <a href='file:///c%3A/Python310/lib/json/decoder.py?line=355'>356</a>\u001b[0m \u001b[39mreturn\u001b[39;00m obj, end\n",
      "\u001b[1;31mJSONDecodeError\u001b[0m: Expecting value: line 1 column 1 (char 0)"
     ]
    }
   ],
   "source": [
    "import csv\n",
    "import json\n",
    "\n",
    "archivo = open(\"bandas.txt\")\n",
    "archivo_csv = open(\"bandas.csv\", \"w\")\n",
    "\n",
    "bandas = json.load(archivo)\n",
    "\n",
    "writer = csv.writer(archivo_csv)\n",
    "writer.writerow([\"Nombre\", \"Ciudad de procedencia\", \"Refencias\"])\n",
    "for banda in bandas:\n",
    "    writer.writerow([banda[\"nombre\"], banda[\"ciudad\"], banda[\"ref\"]])\n",
    "\n",
    "archivo.close()\n",
    "archivo_csv.close()\n",
    "#type(writer)"
   ]
  },
  {
   "cell_type": "markdown",
   "id": "dd2d8e83",
   "metadata": {
    "slideshow": {
     "slide_type": "subslide"
    }
   },
   "source": [
    "#  Lo leemos"
   ]
  },
  {
   "cell_type": "code",
   "execution_count": null,
   "id": "b488c219",
   "metadata": {
    "slideshow": {
     "slide_type": "fragment"
    }
   },
   "outputs": [],
   "source": [
    "archivo_cvs = open(\"bandas.csv\", \"r\")\n",
    "csvreader = csv.reader(archivo_cvs, delimiter=',')\n",
    "\n",
    "for linea in csvreader:\n",
    "    print(linea)\n",
    "\n",
    "archivo_csv.close()"
   ]
  },
  {
   "cell_type": "markdown",
   "id": "e5c52a84",
   "metadata": {
    "slideshow": {
     "slide_type": "subslide"
    }
   },
   "source": [
    "# Otra forma de acceder: csv.DictReader"
   ]
  },
  {
   "cell_type": "code",
   "execution_count": 11,
   "id": "23eaa42d",
   "metadata": {
    "slideshow": {
     "slide_type": "fragment"
    }
   },
   "outputs": [
    {
     "ename": "NameError",
     "evalue": "name 'csv' is not defined",
     "output_type": "error",
     "traceback": [
      "\u001b[1;31m---------------------------------------------------------------------------\u001b[0m",
      "\u001b[1;31mNameError\u001b[0m                                 Traceback (most recent call last)",
      "\u001b[1;32mc:\\Users\\fabian\\Desktop\\Seminario-de-Lenguajes-Python\\Teorias\\clase04.ipynb Cell 91'\u001b[0m in \u001b[0;36m<cell line: 2>\u001b[1;34m()\u001b[0m\n\u001b[0;32m      <a href='vscode-notebook-cell:/c%3A/Users/fabian/Desktop/Seminario-de-Lenguajes-Python/Teorias/clase04.ipynb#ch0000090?line=0'>1</a>\u001b[0m archivo_cvs \u001b[39m=\u001b[39m \u001b[39mopen\u001b[39m(\u001b[39m\"\u001b[39m\u001b[39mbandas.csv\u001b[39m\u001b[39m\"\u001b[39m, \u001b[39m\"\u001b[39m\u001b[39mr\u001b[39m\u001b[39m\"\u001b[39m)\n\u001b[1;32m----> <a href='vscode-notebook-cell:/c%3A/Users/fabian/Desktop/Seminario-de-Lenguajes-Python/Teorias/clase04.ipynb#ch0000090?line=1'>2</a>\u001b[0m csvreader \u001b[39m=\u001b[39m csv\u001b[39m.\u001b[39mDictReader(archivo_cvs, delimiter\u001b[39m=\u001b[39m\u001b[39m'\u001b[39m\u001b[39m,\u001b[39m\u001b[39m'\u001b[39m)\n\u001b[0;32m      <a href='vscode-notebook-cell:/c%3A/Users/fabian/Desktop/Seminario-de-Lenguajes-Python/Teorias/clase04.ipynb#ch0000090?line=3'>4</a>\u001b[0m \u001b[39mfor\u001b[39;00m linea \u001b[39min\u001b[39;00m csvreader:\n\u001b[0;32m      <a href='vscode-notebook-cell:/c%3A/Users/fabian/Desktop/Seminario-de-Lenguajes-Python/Teorias/clase04.ipynb#ch0000090?line=4'>5</a>\u001b[0m     \u001b[39mprint\u001b[39m(linea[\u001b[39m\"\u001b[39m\u001b[39mNombre\u001b[39m\u001b[39m\"\u001b[39m])\n",
      "\u001b[1;31mNameError\u001b[0m: name 'csv' is not defined"
     ]
    }
   ],
   "source": [
    "archivo_cvs = open(\"bandas.csv\", \"r\")\n",
    "csvreader = csv.DictReader(archivo_cvs, delimiter=',')\n",
    "\n",
    "for linea in csvreader:\n",
    "    print(linea[\"Nombre\"])\n",
    "\n",
    "archivo_csv.close()"
   ]
  },
  {
   "cell_type": "markdown",
   "id": "23fe5b83",
   "metadata": {
    "slideshow": {
     "slide_type": "slide"
    }
   },
   "source": [
    "# Desafío 1\n",
    "\n",
    "- Dado el conjunto de datos con series y películas de Netflix, queremos:\n",
    "\n",
    "    1- guardar en otro archivo las peliculas agregadas en el año 2021.\n",
    "\n",
    "    2- los cinco (5) países con más producciones en Netflix.\n"
   ]
  },
  {
   "cell_type": "markdown",
   "id": "9dc197d1",
   "metadata": {
    "slideshow": {
     "slide_type": "slide"
    }
   },
   "source": [
    "# Desafío 2\n",
    "\n",
    "- Implementar un programa que muestre un menú a través del cual se puedan visualizar los resultados del desafío 1.\n",
    "    - Pueden usar la [librería console-menu](https://github.com/aegirhall/console-menu) analizada en clase.\n",
    "    - Pueden agregar más opciones con los ejemplos mostrados en la clase\n"
   ]
  },
  {
   "cell_type": "markdown",
   "id": "d71c30af",
   "metadata": {
    "slideshow": {
     "slide_type": "fragment"
    }
   },
   "source": [
    "## Los que quieran, compartir con @clauBanchoff\n",
    "\n",
    "- Recuerden mandarme mensaje para revisar."
   ]
  }
 ],
 "metadata": {
  "celltoolbar": "Slideshow",
  "kernelspec": {
   "display_name": "Python 3 (ipykernel)",
   "language": "python",
   "name": "python3"
  },
  "language_info": {
   "codemirror_mode": {
    "name": "ipython",
    "version": 3
   },
   "file_extension": ".py",
   "mimetype": "text/x-python",
   "name": "python",
   "nbconvert_exporter": "python",
   "pygments_lexer": "ipython3",
   "version": "3.10.0"
  }
 },
 "nbformat": 4,
 "nbformat_minor": 5
}
