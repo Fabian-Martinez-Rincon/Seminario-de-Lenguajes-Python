{
 "cells": [
  {
   "cell_type": "markdown",
   "id": "younger-ready",
   "metadata": {
    "slideshow": {
     "slide_type": "slide"
    }
   },
   "source": [
    "### Seminario de Lenguajes - Python\n",
    "## Cursada 2022\n",
    "### Archivos. Formatos JSON y CSV"
   ]
  },
  {
   "cell_type": "markdown",
   "id": "e71c51f8",
   "metadata": {
    "slideshow": {
     "slide_type": "slide"
    }
   },
   "source": [
    "# Repasamos lambda\n"
   ]
  },
  {
   "cell_type": "markdown",
   "id": "a3135f83",
   "metadata": {
    "slideshow": {
     "slide_type": "subslide"
    }
   },
   "source": [
    "# Veamos el desafío de la clase anterior\n",
    "\n",
    "Una posible solución:"
   ]
  },
  {
   "cell_type": "code",
   "execution_count": 1,
   "id": "5f34e358",
   "metadata": {
    "slideshow": {
     "slide_type": "fragment"
    }
   },
   "outputs": [
    {
     "data": {
      "text/plain": [
       "['d', 'b', 't', 'b']"
      ]
     },
     "execution_count": 1,
     "metadata": {},
     "output_type": "execute_result"
    }
   ],
   "source": [
    "cadena = \"casa\"\n",
    "cadena_encriptada = list(map(lambda x: chr(ord(x) + 1), cadena))\n",
    "cadena_encriptada"
   ]
  },
  {
   "cell_type": "markdown",
   "id": "522334d2",
   "metadata": {
    "slideshow": {
     "slide_type": "fragment"
    }
   },
   "source": [
    "¿cadena_encriptada es una cadena? ¿De qué tipo es?"
   ]
  },
  {
   "cell_type": "code",
   "execution_count": 3,
   "id": "4ad7ab72",
   "metadata": {
    "slideshow": {
     "slide_type": "fragment"
    }
   },
   "outputs": [
    {
     "data": {
      "text/plain": [
       "str"
      ]
     },
     "execution_count": 3,
     "metadata": {},
     "output_type": "execute_result"
    }
   ],
   "source": [
    "cadena_encriptada = \"\".join(cadena_encriptada)\n",
    "cadena_encriptada #String"
   ]
  },
  {
   "cell_type": "markdown",
   "id": "c103a633",
   "metadata": {
    "slideshow": {
     "slide_type": "fragment"
    }
   },
   "source": [
    "[+Info](https://www.w3schools.com/python/ref_string_join.asp)"
   ]
  },
  {
   "cell_type": "markdown",
   "id": "df69eedb",
   "metadata": {
    "slideshow": {
     "slide_type": "subslide"
    }
   },
   "source": [
    "# Otra forma: función reduce\n"
   ]
  },
  {
   "cell_type": "code",
   "execution_count": 4,
   "id": "c7715f8b",
   "metadata": {
    "slideshow": {
     "slide_type": "fragment"
    }
   },
   "outputs": [
    {
     "data": {
      "text/plain": [
       "'aei'"
      ]
     },
     "execution_count": 4,
     "metadata": {},
     "output_type": "execute_result"
    }
   ],
   "source": [
    "from functools import reduce\n",
    "\n",
    "cadena = [\"a\", \"e\", \"i\"]\n",
    "vocales = reduce((lambda x, y: x + y), cadena)\n",
    "vocales"
   ]
  },
  {
   "cell_type": "code",
   "execution_count": 5,
   "id": "b7843db0",
   "metadata": {
    "slideshow": {
     "slide_type": "fragment"
    }
   },
   "outputs": [
    {
     "data": {
      "text/plain": [
       "24"
      ]
     },
     "execution_count": 5,
     "metadata": {},
     "output_type": "execute_result"
    }
   ],
   "source": [
    "producto = reduce((lambda x, y: x * y), [1, 2, 3, 4])\n",
    "producto"
   ]
  },
  {
   "cell_type": "markdown",
   "id": "a2d49da3",
   "metadata": {
    "slideshow": {
     "slide_type": "subslide"
    }
   },
   "source": [
    "# Otro ejemplo \n",
    "\n",
    "Sacado de https://realpython.com/python-reduce-function/\n"
   ]
  },
  {
   "cell_type": "code",
   "execution_count": 8,
   "id": "315338c4",
   "metadata": {
    "slideshow": {
     "slide_type": "fragment"
    }
   },
   "outputs": [],
   "source": [
    "def my_add(a, b):\n",
    "    result = a + b\n",
    "    print(f\"{a} + {b} = {result}\")\n",
    "    return result"
   ]
  },
  {
   "cell_type": "code",
   "execution_count": 9,
   "id": "cb4b3b45",
   "metadata": {
    "slideshow": {
     "slide_type": "fragment"
    }
   },
   "outputs": [
    {
     "name": "stdout",
     "output_type": "stream",
     "text": [
      "5 + 5 = 10\n"
     ]
    },
    {
     "data": {
      "text/plain": [
       "10"
      ]
     },
     "execution_count": 9,
     "metadata": {},
     "output_type": "execute_result"
    }
   ],
   "source": [
    "my_add(5, 5)"
   ]
  },
  {
   "cell_type": "code",
   "execution_count": 10,
   "id": "efe1b26b",
   "metadata": {
    "slideshow": {
     "slide_type": "fragment"
    }
   },
   "outputs": [
    {
     "name": "stdout",
     "output_type": "stream",
     "text": [
      "0 + 1 = 1\n",
      "1 + 2 = 3\n",
      "3 + 3 = 6\n",
      "6 + 4 = 10\n"
     ]
    },
    {
     "data": {
      "text/plain": [
       "10"
      ]
     },
     "execution_count": 10,
     "metadata": {},
     "output_type": "execute_result"
    }
   ],
   "source": [
    "numbers = [0, 1, 2, 3, 4]\n",
    "reduce(my_add, numbers)"
   ]
  },
  {
   "cell_type": "markdown",
   "id": "tender-beijing",
   "metadata": {
    "slideshow": {
     "slide_type": "slide"
    }
   },
   "source": [
    "# Les dejé algo para investigar en el video del fin de semana.... "
   ]
  },
  {
   "cell_type": "markdown",
   "id": "special-outline",
   "metadata": {
    "slideshow": {
     "slide_type": "fragment"
    }
   },
   "source": [
    "## ¿Cuándo un módulo se denomina  \\_\\_main__?"
   ]
  },
  {
   "cell_type": "markdown",
   "id": "stopped-degree",
   "metadata": {
    "slideshow": {
     "slide_type": "subslide"
    }
   },
   "source": [
    "# Recordemos con este ejemplo cuál es la situación:\n",
    "\n",
    "\n",
    "```python\n",
    "\t#módulo funciones\n",
    "    def uno():\n",
    "        print(\"uno\")\n",
    "        print(f\"El nombre de este módulo es {__name__}\")\n",
    "\t#uno()\n",
    "    \n",
    "\t#uso_funciones\t\n",
    "\timport funciones\n",
    "    funciones.uno()\n",
    "\n",
    "```"
   ]
  },
  {
   "cell_type": "markdown",
   "id": "creative-mistress",
   "metadata": {
    "slideshow": {
     "slide_type": "subslide"
    }
   },
   "source": [
    "# El módulo \\_\\_main__\n",
    "\n",
    "- Las instrucciones ejecutadas en el nivel de llamadas superior del intérprete, ya sea desde un script o interactivamente, se consideran parte del módulo llamado **\\_\\_main__**, por lo tanto tienen su propio espacio de nombres global."
   ]
  },
  {
   "cell_type": "markdown",
   "id": "natural-channels",
   "metadata": {
    "slideshow": {
     "slide_type": "fragment"
    }
   },
   "source": [
    "```python\n",
    "#módulo funciones\n",
    "def uno():\n",
    "    print(\"uno\")\n",
    "    print(f\"El nombre de este módulo es {__name__}\")\n",
    "\n",
    "if __name__ == \"__main__\":\n",
    "    uno()\n",
    "```"
   ]
  },
  {
   "cell_type": "markdown",
   "id": "frank-department",
   "metadata": {
    "slideshow": {
     "slide_type": "subslide"
    }
   },
   "source": [
    "#  Veamos este otro ejemplo:"
   ]
  },
  {
   "cell_type": "markdown",
   "id": "sixth-public",
   "metadata": {
    "slideshow": {
     "slide_type": "fragment"
    }
   },
   "source": [
    "```python\n",
    "# modulo utiles\n",
    "def vocales(cadena):\n",
    "    print(list(filter(lambda l: l.lower() in \"aeiou\", cadena)))\n",
    "\n",
    "# modulo uso_utiles\n",
    "import utiles\n",
    "\n",
    "utiles.vocales(\"Holaaaa!!!!!!\")\n",
    "```"
   ]
  },
  {
   "cell_type": "markdown",
   "id": "rolled-virgin",
   "metadata": {
    "slideshow": {
     "slide_type": "fragment"
    }
   },
   "source": [
    "- Primero: ¿qué hace?"
   ]
  },
  {
   "cell_type": "markdown",
   "id": "korean-given",
   "metadata": {
    "slideshow": {
     "slide_type": "subslide"
    }
   },
   "source": [
    "###  ¿Y si queremos invocar el módulo utiles (e invocar a la función vocales) desde la línea de comandos?¿Cómo les pasamos la cadena a analizar?"
   ]
  },
  {
   "cell_type": "code",
   "execution_count": 12,
   "id": "distributed-performer",
   "metadata": {
    "slideshow": {
     "slide_type": "fragment"
    }
   },
   "outputs": [
    {
     "data": {
      "text/plain": [
       "list"
      ]
     },
     "execution_count": 12,
     "metadata": {},
     "output_type": "execute_result"
    }
   ],
   "source": [
    "import sys\n",
    "type(sys.argv)"
   ]
  },
  {
   "cell_type": "markdown",
   "id": "friendly-legislation",
   "metadata": {
    "slideshow": {
     "slide_type": "fragment"
    }
   },
   "source": [
    "- ¿De qué tipo es argv?\n",
    "- ¿Qué valores contiene?"
   ]
  },
  {
   "cell_type": "markdown",
   "id": "encouraging-julian",
   "metadata": {
    "slideshow": {
     "slide_type": "fragment"
    }
   },
   "source": [
    "```python\n",
    "# modulo utiles\n",
    "def vocales(cadena):\n",
    "    print(list(filter(lambda l: l.lower() in \"aeiou\", cadena)))\n",
    "\n",
    "if __name__ == \"__main__\":\n",
    "    import sys\n",
    "    vocales(sys.argv[1])\n",
    "```"
   ]
  },
  {
   "cell_type": "markdown",
   "id": "african-stand",
   "metadata": {
    "slideshow": {
     "slide_type": "slide"
    }
   },
   "source": [
    "\n",
    "Paquetes\n",
    "========\n",
    "\n",
    "- Veamos el ejemplo de la [documentación oficial de paquetes](https://docs.python.org/3/tutorial/modules.html#packages)\n",
    "\n",
    "<img src=\"imagenes/paquetes.png\" alt=\"Paquetes en Python\" style=\"width:580 px;\"/>"
   ]
  },
  {
   "cell_type": "markdown",
   "id": "patent-locator",
   "metadata": {
    "slideshow": {
     "slide_type": "fragment"
    }
   },
   "source": [
    "```python\n",
    "\timport sound.effects.echo\n",
    "\tfrom sound.effects import echo\n",
    "```"
   ]
  },
  {
   "cell_type": "markdown",
   "id": "smooth-nightmare",
   "metadata": {
    "slideshow": {
     "slide_type": "fragment"
    }
   },
   "source": [
    "### ¿Qué contiene el archivo \\_\\_init__.py?"
   ]
  },
  {
   "cell_type": "markdown",
   "id": "enhanced-somalia",
   "metadata": {
    "slideshow": {
     "slide_type": "subslide"
    }
   },
   "source": [
    "\n",
    "# ¿Qué pasa si tenemos la siguiente sentencia?\n",
    "\n",
    "\n",
    "```python\n",
    "\tfrom sound import *\n",
    "```\n"
   ]
  },
  {
   "cell_type": "markdown",
   "id": "vertical-bloom",
   "metadata": {
    "slideshow": {
     "slide_type": "subslide"
    }
   },
   "source": [
    "- **\\_\\_all__**: es una variable que contiene una lista con los nombres de los módulos que deberían poder importarse  cuando se encuentra la sentencia **from package import \\***.\n",
    "\n",
    "```python\n",
    "\t#Por ejemplo, en sound/effects/__init__.py\n",
    "\t\n",
    "\t__all__ = [\"echo\", \"surround\", \"reverse\"]\n",
    "```\n",
    "\n",
    "- Si **\\_\\_all__** no está definida,  **from sound.effects import \\*** no importa los submódulos dentro del paquete **sound.effects** al espacio de nombres."
   ]
  },
  {
   "cell_type": "markdown",
   "id": "foreign-reader",
   "metadata": {
    "slideshow": {
     "slide_type": "fragment"
    }
   },
   "source": [
    "- Un [artículo para leer luego](https://realpython.com/absolute-vs-relative-python-imports/)."
   ]
  },
  {
   "cell_type": "markdown",
   "id": "sporting-plant",
   "metadata": {
    "slideshow": {
     "slide_type": "fragment"
    }
   },
   "source": [
    "* **Ejemplo:** analicemos esta librería: [console-menu](https://github.com/aegirhall/console-menu)"
   ]
  },
  {
   "cell_type": "markdown",
   "id": "finnish-country",
   "metadata": {
    "slideshow": {
     "slide_type": "slide"
    }
   },
   "source": [
    "# Pensemos en las siguientes situaciones\n",
    "\n",
    "¿Qué estructura usamos si queremos: \n",
    "\n",
    "-  guardar los puntajes cada vez que jugamos a un juego determinado?,\n",
    "-  tener un banco de preguntas para que cada vez que juguemos al juego de repaso las pueda acotar por temas?,\n",
    "-  manipular los Python Plus de los estudiantes por turnos?.\n",
    "\n",
    "**¿Qué tienen todas estas situaciones en común?**\n"
   ]
  },
  {
   "cell_type": "markdown",
   "id": "visible-murder",
   "metadata": {
    "slideshow": {
     "slide_type": "fragment"
    }
   },
   "source": [
    "### Necesitamos una estructura que permita que los datos puedan **persistir** cuando la ejecución del programa finalice."
   ]
  },
  {
   "cell_type": "markdown",
   "id": "interim-people",
   "metadata": {
    "slideshow": {
     "slide_type": "subslide"
    }
   },
   "source": [
    "# Algunas consideraciones antes de empezar\n",
    "\n",
    "- Lo básico: ¿qué es  un **archivo**?\n",
    "- ¿Cómo podemos manipular los archivos desde un programa Python?"
   ]
  },
  {
   "cell_type": "markdown",
   "id": "positive-onion",
   "metadata": {
    "slideshow": {
     "slide_type": "subslide"
    }
   },
   "source": [
    "# Manejo de archivos\n",
    "\n",
    "- Existen funciones predefinidas.\n",
    "- Si las operaciones fallan, se levanta una **excepción**.\n",
    "- Los archivos se manejan como objetos que se crean usando la [función open](https://docs.python.org/3/library/functions.html#open).\n",
    "\n",
    "<img src=\"imagenes/funcion_open.png\" alt=\"Actividad inicial\" style=\"width:650px;\"/>\n"
   ]
  },
  {
   "cell_type": "markdown",
   "id": "ignored-currency",
   "metadata": {
    "slideshow": {
     "slide_type": "fragment"
    }
   },
   "source": [
    "- **Tarea para el hogar**. Investigar: ¿qué diferencias hay entre un archivo de texto y uno binario?"
   ]
  },
  {
   "cell_type": "markdown",
   "id": "small-leadership",
   "metadata": {
    "slideshow": {
     "slide_type": "subslide"
    }
   },
   "source": [
    "# Veamos este ejemplo"
   ]
  },
  {
   "cell_type": "code",
   "execution_count": 13,
   "id": "another-frontier",
   "metadata": {
    "slideshow": {
     "slide_type": "fragment"
    }
   },
   "outputs": [],
   "source": [
    "archi1 = open('archivo.txt', 'w')"
   ]
  },
  {
   "cell_type": "markdown",
   "id": "provincial-scale",
   "metadata": {
    "slideshow": {
     "slide_type": "fragment"
    }
   },
   "source": [
    "- ¿De qué modo se abre este archivo? ¿Qué significa?\n",
    "- Luego de la instrucción, ¿dónde se encuentra archivo.txt?\n",
    "- ¿Cuándo puede dar un error esta sentencia?"
   ]
  },
  {
   "cell_type": "markdown",
   "id": "dedicated-combining",
   "metadata": {
    "slideshow": {
     "slide_type": "fragment"
    }
   },
   "source": [
    "# ¿Y este otro ejemplo?"
   ]
  },
  {
   "cell_type": "code",
   "execution_count": 15,
   "id": "other-server",
   "metadata": {
    "slideshow": {
     "slide_type": "fragment"
    }
   },
   "outputs": [],
   "source": [
    "archi2 = open('archivoxse.txt', 'x')"
   ]
  },
  {
   "cell_type": "markdown",
   "id": "established-angle",
   "metadata": {
    "slideshow": {
     "slide_type": "fragment"
    }
   },
   "source": [
    "- Y en este caso, ¿de qué modo se abre este archivo?\n",
    "- ¿Cuándo puede dar un error esta sentencia?"
   ]
  },
  {
   "cell_type": "markdown",
   "id": "assumed-dayton",
   "metadata": {
    "slideshow": {
     "slide_type": "subslide"
    }
   },
   "source": [
    "# ¿Y en este caso?"
   ]
  },
  {
   "cell_type": "code",
   "execution_count": 16,
   "id": "ultimate-breathing",
   "metadata": {
    "slideshow": {
     "slide_type": "fragment"
    }
   },
   "outputs": [],
   "source": [
    "archi3 = open('archivo.txt')"
   ]
  },
  {
   "cell_type": "markdown",
   "id": "textile-audio",
   "metadata": {
    "slideshow": {
     "slide_type": "fragment"
    }
   },
   "source": [
    "- En realidad [la función open](https://docs.python.org/3/library/functions.html#open) tiene más argumentos:\n",
    "\n",
    "```python\n",
    "\topen(file, mode='r', buffering=-1, encoding=None, errors=None, newline=None, closefd=True, opener=None)\n",
    "```\n",
    "- **encoding**: sólo para modo texto. Por defecto, la codificación establecida en las [configuraciones del sistema](https://docs.python.org/3.8/library/codecs.html#module-codecs) \n",
    "- **errors**: sólo en modo texto. Es una cadena que dice qué hacer ante un error en la codificación/decodificación. (\"strict\", \"ignore\", ..)\n",
    "- **newline**: sólo modo texto. Puede ser: None, '', '\\\\n', '\\\\r', y '\\\\r\\\\n'.\n",
    "\n",
    "```python\n",
    "\tarchi = open(\"pp.xxx\", \"r+\", encoding=\"UTF-8\")\n",
    "```"
   ]
  },
  {
   "cell_type": "code",
   "execution_count": null,
   "id": "f6d20496",
   "metadata": {
    "slideshow": {
     "slide_type": "notes"
    }
   },
   "outputs": [],
   "source": [
    "import locale\n",
    "locale.getpreferredencoding()"
   ]
  },
  {
   "cell_type": "markdown",
   "id": "c4ae0292",
   "metadata": {
    "slideshow": {
     "slide_type": "subslide"
    }
   },
   "source": [
    "## ¿Qué pasa si el archivo no está en la misma carpeta y tenmos que utilizar la ruta completa ?"
   ]
  },
  {
   "cell_type": "code",
   "execution_count": 17,
   "id": "f7349694",
   "metadata": {
    "slideshow": {
     "slide_type": "fragment"
    }
   },
   "outputs": [
    {
     "data": {
      "text/plain": [
       "'/home/claudia/ownCloud/Materias/Python/2022/entorno3.10'"
      ]
     },
     "execution_count": 17,
     "metadata": {},
     "output_type": "execute_result"
    }
   ],
   "source": [
    "import os\n",
    "\n",
    "ruta = os.path.dirname(os.path.realpath(\".\"))\n",
    "ruta "
   ]
  },
  {
   "cell_type": "code",
   "execution_count": 18,
   "id": "4e44b91a",
   "metadata": {
    "slideshow": {
     "slide_type": "fragment"
    }
   },
   "outputs": [
    {
     "data": {
      "text/plain": [
       "'/home/claudia/ownCloud/Materias/Python/2022/entorno3.10/ejemplo/clase4/archivo.txt'"
      ]
     },
     "execution_count": 18,
     "metadata": {},
     "output_type": "execute_result"
    }
   ],
   "source": [
    "ruta_completa = os.path.join(ruta, \"ejemplo\",\"clase4\", \"archivo.txt\")\n",
    "ruta_completa"
   ]
  },
  {
   "cell_type": "markdown",
   "id": "e3c1b3b5",
   "metadata": {
    "slideshow": {
     "slide_type": "slide"
    }
   },
   "source": [
    "# ¿Cómo almacenamos datos en un archivo?\n",
    "- El caso más sencillo: guardanto texto en un archivo."
   ]
  },
  {
   "cell_type": "code",
   "execution_count": 21,
   "id": "a553289f",
   "metadata": {
    "slideshow": {
     "slide_type": "fragment"
    }
   },
   "outputs": [
    {
     "name": "stdout",
     "output_type": "stream",
     "text": [
      "12\n",
      "6\n"
     ]
    }
   ],
   "source": [
    "f = open('archivo.txt', 'w')\n",
    "print(f.write('Hola, xxxxxx'))\n",
    "print(f.write('Mundo!'))\n",
    "\n",
    "f.close()"
   ]
  },
  {
   "cell_type": "markdown",
   "id": "7dbdcc28",
   "metadata": {
    "slideshow": {
     "slide_type": "fragment"
    }
   },
   "source": [
    "- **write(cadena):** escribe *cadena* en el archivo y retorna cantidad de caracteres escritos.\n",
    "- **close():** cierra el archivo."
   ]
  },
  {
   "cell_type": "markdown",
   "id": "2cf4a3bc",
   "metadata": {
    "slideshow": {
     "slide_type": "subslide"
    }
   },
   "source": [
    "# ¿Cómo leemos los datos guardados?"
   ]
  },
  {
   "cell_type": "code",
   "execution_count": 24,
   "id": "c223da11",
   "metadata": {
    "slideshow": {
     "slide_type": "fragment"
    }
   },
   "outputs": [
    {
     "name": "stdout",
     "output_type": "stream",
     "text": [
      ", xxxxxxMundo!\n"
     ]
    },
    {
     "data": {
      "text/plain": [
       "'Hola'"
      ]
     },
     "execution_count": 24,
     "metadata": {},
     "output_type": "execute_result"
    }
   ],
   "source": [
    "f = open('archivo.txt', 'r')\n",
    "x = f.read(4)\n",
    "print(f.read())\n",
    "x"
   ]
  },
  {
   "cell_type": "markdown",
   "id": "6d8e18cf",
   "metadata": {
    "slideshow": {
     "slide_type": "fragment"
    }
   },
   "source": [
    "* **read(cantidad_bytes):** lee *cantidad_bytes* del archivo.\n",
    "* Si cantidad_bytes es <0 o no está, lee hasta fin de archivo.\n",
    "* Retorna \"\" si EOF."
   ]
  },
  {
   "cell_type": "markdown",
   "id": "0ddbb814",
   "metadata": {
    "slideshow": {
     "slide_type": "subslide"
    }
   },
   "source": [
    "- **Tarea**: probar el siguiente ejemplo que muestran otras formas de leer caracteres desde un archivo de texto."
   ]
  },
  {
   "cell_type": "code",
   "execution_count": null,
   "id": "010634d1",
   "metadata": {
    "slideshow": {
     "slide_type": "fragment"
    }
   },
   "outputs": [],
   "source": [
    "def leo_caracteres():\n",
    "    f = open(\"imagine.txt\",\"r\")\n",
    "    for x in f.read():\n",
    "        print(x)\n",
    "    f.close()\n",
    "\n",
    "def leo_lineas():\n",
    "    f = open(\"imagine.txt\",\"r\")\n",
    "    print(f.readlines())\n",
    "    f.close()\n",
    "\n",
    "def otra_forma():\n",
    "    f = open(\"imagine.txt\",\"r\")\n",
    "    for linea in f:\n",
    "        print(linea)\n",
    "    f.close()\n",
    "\n",
    "def main():\n",
    "    print('Leo caracteres')\n",
    "    leo_caracteres()\n",
    "    print('-' * 20)\n",
    "    print('Leo lineas')\n",
    "    leo_lineas()\n",
    "    print('-' * 20)\n",
    "    print('Otra forma')\n",
    "    otra_forma()\n",
    "\n",
    "\n",
    "if __name__ == \"__main__\":\n",
    "    otra_forma()"
   ]
  },
  {
   "cell_type": "markdown",
   "id": "355f35bd",
   "metadata": {
    "slideshow": {
     "slide_type": "slide"
    }
   },
   "source": [
    "# ¿Qué pasa si necesito guardar información que tiene una estructura?\n",
    "\n",
    "- Pensemos en estos ejemplos:\n",
    "\n",
    "\t- Los puntajes cada vez que juego a un juego. Información tipo: nombre jugador,  puntaje, fecha.\n",
    "\t- El banco de preguntas: tema, enunciado, respuesta correcta.\n",
    "\t- Los Python Plus de los estudiantes por turnos: turno, nombre, apellido, num_alumno, cantidad_puntos, etc.\n",
    "\n",
    "- En estos casos también podría usar un archivo de texto: ¿cómo se les ocurre?\n"
   ]
  },
  {
   "cell_type": "markdown",
   "id": "d08ac1df",
   "metadata": {
    "slideshow": {
     "slide_type": "subslide"
    }
   },
   "source": [
    "# Algunas posibilidades\n",
    "\n",
    "```\n",
    "\t\n",
    "\t'equipo: Astralis - e-sport: CSGO - pais: Dinamarca'\n",
    "\t\n",
    "\t---\n",
    "\tequipo:Astralis\n",
    "\te-sport:CSGO\n",
    "\tpais:Dinamarca\n",
    "\t---\n",
    "\n",
    "\t'Astralis-CSGO-Dinamarca'\n",
    "\t\n",
    "\t'Astralis*CSGO*Dinamarca*'\n",
    "\n",
    "```"
   ]
  },
  {
   "cell_type": "markdown",
   "id": "ba869115",
   "metadata": {
    "slideshow": {
     "slide_type": "fragment"
    }
   },
   "source": [
    "-  ¿Pros y contras?\t"
   ]
  },
  {
   "cell_type": "markdown",
   "id": "7c6872e2",
   "metadata": {
    "slideshow": {
     "slide_type": "subslide"
    }
   },
   "source": [
    "# Hay otras formas mejores..."
   ]
  },
  {
   "cell_type": "markdown",
   "id": "ef441bfa",
   "metadata": {
    "slideshow": {
     "slide_type": "slide"
    }
   },
   "source": [
    "# JSON (JavaScript Object Notation)\n",
    "\n",
    "- Es un formato de intercambio de datos muy popular. Por ejemplo:\n",
    "```\n",
    "\t{\"equipo\": \"Astralis\",\n",
    "\t \"e-sport\": \"CSGO\",\n",
    "\t \"pais\": \"Dinamarca\"}\n",
    "    o \n",
    "    [{\"equipo\": \"Astralis\",\n",
    "\t  \"e-sport\": \"CSGO\",\n",
    "\t  \"pais\": \"Dinamarca\"},\n",
    "      {\"equipo\": \"9z\",\n",
    "\t  \"e-sport\": \"CSGO\",\n",
    "\t  \"pais\": \"Argentina\"}]\n",
    "```\n",
    "- [+Info](https://www.json.org/json-en.html)"
   ]
  },
  {
   "cell_type": "markdown",
   "id": "f63b0c96",
   "metadata": {
    "slideshow": {
     "slide_type": "fragment"
    }
   },
   "source": [
    "- Veamos este ejemplo: https://developers.mercadolibre.com.ar/es_ar/categorias-y-publicaciones#close"
   ]
  },
  {
   "cell_type": "markdown",
   "id": "e613e581",
   "metadata": {
    "slideshow": {
     "slide_type": "subslide"
    }
   },
   "source": [
    "# Módulo json\n",
    "- Python tiene un módulo que permite trabajar con este formato.\n",
    "- Para usarlo, debemos importarlo."
   ]
  },
  {
   "cell_type": "code",
   "execution_count": 25,
   "id": "155d57b0",
   "metadata": {
    "slideshow": {
     "slide_type": "fragment"
    }
   },
   "outputs": [],
   "source": [
    "import json"
   ]
  },
  {
   "cell_type": "markdown",
   "id": "04dc41ea",
   "metadata": {
    "slideshow": {
     "slide_type": "fragment"
    }
   },
   "source": [
    "- Permite serializar objetos.\n",
    "    - serializamos con: **dumps()** y **dump()**.\n",
    "    - desserializamos con: **loads()** y **load()**.\n",
    "- Más info en: https://docs.python.org/3/library/json.html\n"
   ]
  },
  {
   "cell_type": "markdown",
   "id": "ee9c90c7",
   "metadata": {
    "slideshow": {
     "slide_type": "subslide"
    }
   },
   "source": [
    "### Veamos este ejemplo\n",
    "-  Generamos un archivo con bandas de distintas ciudades:\n",
    "    - Tenemos: nombre de la banda, ciudad en la que se generó y una referencia a su trabajo. \n",
    "    - Empecemos por La Plata..."
   ]
  },
  {
   "cell_type": "code",
   "execution_count": 26,
   "id": "a72a23bc",
   "metadata": {
    "slideshow": {
     "slide_type": "fragment"
    }
   },
   "outputs": [],
   "source": [
    "import json\n",
    "\n",
    "archivo = open(\"bandas.txt\", \"w\")\n",
    "datos = [\n",
    "    {\"nombre\": \"William Campbell\", \"ciudad\": \"La Plata\", \"ref\": \"www.instagram.com/williamcampbellok\"},\n",
    "    {\"nombre\": \"Buendia\", \"ciudad\": \"La Plata\", \"ref\":\"https://buendia.bandcamp.com/\"},\n",
    "    {\"nombre\": \"Lúmine\", \"ciudad\": \"La Plata\", \"ref\": \"https://www.instagram.com/luminelp/\"}]\n",
    "json.dump(datos, archivo)\n",
    "archivo.close()"
   ]
  },
  {
   "cell_type": "markdown",
   "id": "26288bc7",
   "metadata": {
    "slideshow": {
     "slide_type": "fragment"
    }
   },
   "source": [
    "- ¿De qué tipo es la variable datos?"
   ]
  },
  {
   "cell_type": "code",
   "execution_count": 29,
   "id": "14479618",
   "metadata": {
    "slideshow": {
     "slide_type": "subslide"
    }
   },
   "outputs": [
    {
     "name": "stdout",
     "output_type": "stream",
     "text": [
      "[{'nombre': 'William Campbell', 'ciudad': 'La Plata', 'ref': 'www.instagram.com/williamcampbellok'}, {'nombre': 'Buendia', 'ciudad': 'La Plata', 'ref': 'https://buendia.bandcamp.com/'}, {'nombre': 'Lúmine', 'ciudad': 'La Plata', 'ref': 'https://www.instagram.com/luminelp/'}]\n",
      "[\n",
      "    {\n",
      "        \"nombre\": \"William Campbell\",\n",
      "        \"ciudad\": \"La Plata\",\n",
      "        \"ref\": \"www.instagram.com/williamcampbellok\"\n",
      "    },\n",
      "    {\n",
      "        \"nombre\": \"Buendia\",\n",
      "        \"ciudad\": \"La Plata\",\n",
      "        \"ref\": \"https://buendia.bandcamp.com/\"\n",
      "    },\n",
      "    {\n",
      "        \"nombre\": \"L\\u00famine\",\n",
      "        \"ciudad\": \"La Plata\",\n",
      "        \"ref\": \"https://www.instagram.com/luminelp/\"\n",
      "    }\n",
      "]\n"
     ]
    }
   ],
   "source": [
    "# Ahora accedemos a los datos guardados\n",
    "import json\n",
    "\n",
    "archivo = open(\"bandas.txt\", \"r\")\n",
    "datos = json.load(archivo)\n",
    "print(datos)\n",
    "datos_a_mostrar = json.dumps(datos, indent=4)\n",
    "print(datos_a_mostrar)\n",
    "archivo.close()"
   ]
  },
  {
   "cell_type": "markdown",
   "id": "e294c210",
   "metadata": {
    "slideshow": {
     "slide_type": "fragment"
    }
   },
   "source": [
    "- ¿De qué tipo de datos? ¿Y datos_a_mostrar?"
   ]
  },
  {
   "cell_type": "markdown",
   "id": "237fd0df",
   "metadata": {
    "slideshow": {
     "slide_type": "slide"
    }
   },
   "source": [
    "# CSV: ¿más formatos?\n",
    "\n",
    "\n",
    "- CSV (Comma Separated Values).\n",
    "- Es un formato muy común para importar/exportar desde/hacia hojas de cálculo y bases de datos.\n",
    "- Ejemplo:\n",
    "\n",
    "```\n",
    "nombre,ciudad,ref\n",
    "William Campbell,La Plata,www.instagram.com/williamcampbellok\n",
    "Buendia,La Plata,https://buendia.bandcamp.com/\n",
    "Lúmine,La Plata,https://www.instagram.com/luminelp/\n",
    "```\n",
    "- +Info: https://docs.python.org/3/library/csv.html\n",
    "- [PEP 305](https://www.python.org/dev/peps/pep-0305/)"
   ]
  },
  {
   "cell_type": "markdown",
   "id": "206ee347",
   "metadata": {
    "slideshow": {
     "slide_type": "subslide"
    }
   },
   "source": [
    "# Datasets\n",
    "\n",
    "- Hay muchos datasets disponibles de muchas temáticas:\n",
    "- En nuestro país:\n",
    "    - Datos de [Argentina](https://datos.gob.ar/dataset)\n",
    "    - Datos de [CABA](https://data.buenosaires.gob.ar/)\n",
    "    - Datos de [La Plata](https://catalogodatos.laplata.gob.ar/dataset)\n",
    "- Otros:\n",
    "    - https://data.world/\n",
    "    - https://www.kaggle.com/\n",
    "    - https://www.imdb.com/interfaces/\n",
    "    - Y muchos más..."
   ]
  },
  {
   "cell_type": "markdown",
   "id": "6863fe7e",
   "metadata": {
    "slideshow": {
     "slide_type": "fragment"
    }
   },
   "source": [
    " ## Muchos son datos abiertos, pero otros... no tanto...\n",
    " \n",
    " ### ¡PRESTAR ATENCIÓN  a la licencias y requisitos para su uso!\n"
   ]
  },
  {
   "cell_type": "markdown",
   "id": "db344540",
   "metadata": {
    "slideshow": {
     "slide_type": "subslide"
    }
   },
   "source": [
    "#  ¿Qué vemos en netflix? \n",
    "\n",
    "Vamos a trabajar con el archivo: [netflix_titles.csv](https://www.kaggle.com/shivamb/netflix-shows)"
   ]
  },
  {
   "cell_type": "code",
   "execution_count": 31,
   "id": "d7b45245",
   "metadata": {
    "slideshow": {
     "slide_type": "fragment"
    }
   },
   "outputs": [
    {
     "name": "stdout",
     "output_type": "stream",
     "text": [
      "['show_id', 'type', 'title', 'director', 'cast', 'country', 'date_added', 'release_year', 'rating', 'duration', 'listed_in', 'description']\n"
     ]
    }
   ],
   "source": [
    "import csv\n",
    "\n",
    "ruta = os.path.dirname(os.path.realpath(\".\"))\n",
    "ruta_archivo = os.path.join(ruta, \"teorias\", \"ejemplos\",\"clase4\", \"netflix_titles.csv\")\n",
    "ruta_archivo\n",
    "\n",
    "archivo = open(ruta_archivo, \"r\")\n",
    "csvreader = csv.reader(archivo, delimiter=',')\n",
    "\n",
    "#encabezado = csvreader.__next__()\n",
    "encabezado = next(csvreader)\n",
    "print(encabezado)\n",
    "\n",
    "archivo.close()"
   ]
  },
  {
   "cell_type": "markdown",
   "id": "c40e8692",
   "metadata": {
    "slideshow": {
     "slide_type": "subslide"
    }
   },
   "source": [
    "# El módulo csv\n",
    "\n",
    "- Hay que importarlo.\n",
    "- **csv.reader**: cea un objeto \"iterador\" que nos permite recorrer las líneas del archivo.\n",
    "- ¿Por qué incluimos el paŕametro **delimiter**? ¿[Dialectos](https://docs.python.org/3/library/csv.html#csv.Dialect)?\n",
    "\n",
    "\n",
    "```python\n",
    "     csvreader = csv.reader(archivo, delimiter=',')\n",
    "```"
   ]
  },
  {
   "cell_type": "markdown",
   "id": "99002825",
   "metadata": {
    "slideshow": {
     "slide_type": "subslide"
    }
   },
   "source": [
    "# Leemos el contenido completo"
   ]
  },
  {
   "cell_type": "code",
   "execution_count": 32,
   "id": "08dcbcc4",
   "metadata": {
    "slideshow": {
     "slide_type": "fragment"
    }
   },
   "outputs": [
    {
     "name": "stdout",
     "output_type": "stream",
     "text": [
      "['show_id', 'type', 'title', 'director', 'cast', 'country', 'date_added', 'release_year', 'rating', 'duration', 'listed_in', 'description']\n",
      "The Kingdom                              \n",
      "Okupas                                   \n",
      "No Time for Shame                        \n",
      "Millennials                              \n",
      "Carmel: Who Killed Maria Marta?          Alejandro Hartmann\n",
      "Secreto bien guardado                    \n",
      "Almost Happy                             Hernán Guerschuny\n",
      "Puerta 7                                 \n",
      "Monzón: A Knockout Blow                  \n",
      "El Marginal                              \n",
      "Apache: The Life of Carlos Tevez         \n",
      "Go! Live Your Way                        \n",
      "Heidi, bienvenida a casa                 \n",
      "The Kirlian Frequency                    \n",
      "Creators                                 \n",
      "Edha                                     \n",
      "Historia de un clan                      \n",
      "Psiconautas                              \n"
     ]
    }
   ],
   "source": [
    "archivo = open(ruta_archivo, \"r\")\n",
    "csvreader = csv.reader(archivo, delimiter=',')\n",
    "\n",
    "#encabezado = csvreader.__next__()\n",
    "encabezado = next(csvreader)\n",
    "print(encabezado)\n",
    "\n",
    "for linea in csvreader:\n",
    "    if linea[1] == \"TV Show\" and linea[5] == \"Argentina\": \n",
    "        print(f\"{linea[2]:<40} {linea[3]}\")\n",
    "\n",
    "archivo.close()"
   ]
  },
  {
   "cell_type": "markdown",
   "id": "b3ee3ba5",
   "metadata": {
    "slideshow": {
     "slide_type": "fragment"
    }
   },
   "source": [
    "¿De qué tipo es línea?"
   ]
  },
  {
   "cell_type": "markdown",
   "id": "9a6fc4ed",
   "metadata": {
    "slideshow": {
     "slide_type": "subslide"
    }
   },
   "source": [
    "# Otra solución ..."
   ]
  },
  {
   "cell_type": "code",
   "execution_count": 33,
   "id": "ee3e4469",
   "metadata": {
    "slideshow": {
     "slide_type": "fragment"
    }
   },
   "outputs": [
    {
     "name": "stdout",
     "output_type": "stream",
     "text": [
      "The Kingdom                              \n",
      "Okupas                                   \n",
      "No Time for Shame                        \n",
      "Millennials                              \n",
      "Carmel: Who Killed Maria Marta?          Alejandro Hartmann\n",
      "Secreto bien guardado                    \n",
      "Almost Happy                             Hernán Guerschuny\n",
      "Puerta 7                                 \n",
      "Monzón: A Knockout Blow                  \n",
      "El Marginal                              \n",
      "Apache: The Life of Carlos Tevez         \n",
      "Go! Live Your Way                        \n",
      "Heidi, bienvenida a casa                 \n",
      "The Kirlian Frequency                    \n",
      "Creators                                 \n",
      "Edha                                     \n",
      "Historia de un clan                      \n",
      "Psiconautas                              \n",
      "<filter object at 0x7fa9ac227700>\n"
     ]
    }
   ],
   "source": [
    "archivo = open(ruta_archivo, \"r\")\n",
    "csvreader = csv.reader(archivo, delimiter=',')\n",
    "\n",
    "shows_ar = filter(lambda x:  x[5] == \"Argentina\" and x[1] == \"TV Show\", csvreader)\n",
    "for elem in shows_ar:\n",
    "    print(f\"{elem[2]:<40} {elem[3]}\")\n",
    "    \n",
    "print(shows_ar)\n",
    "archivo.close()"
   ]
  },
  {
   "cell_type": "markdown",
   "id": "d790cdb4",
   "metadata": {
    "slideshow": {
     "slide_type": "subslide"
    }
   },
   "source": [
    "# Creamos nuestro archivo csv de bandas de música"
   ]
  },
  {
   "cell_type": "markdown",
   "id": "23506bd6",
   "metadata": {
    "slideshow": {
     "slide_type": "fragment"
    }
   },
   "source": [
    "- **csv.writer:** retorna un objeto que convierte los datos con los que trabajamos en el programa en cadenas con el formato delimitadas con el separador correspondiente. "
   ]
  },
  {
   "cell_type": "code",
   "execution_count": null,
   "id": "eadaedb2",
   "metadata": {
    "slideshow": {
     "slide_type": "fragment"
    }
   },
   "outputs": [],
   "source": [
    "import csv\n",
    "import json\n",
    "\n",
    "archivo = open(\"bandas.txt\")\n",
    "archivo_csv = open(\"bandas.csv\", \"w\")\n",
    "\n",
    "bandas = json.load(archivo)\n",
    "\n",
    "writer = csv.writer(archivo_csv)\n",
    "writer.writerow([\"Nombre\", \"Ciudad de procedencia\", \"Refencias\"])\n",
    "for banda in bandas:\n",
    "    writer.writerow([banda[\"nombre\"], banda[\"ciudad\"], banda[\"ref\"]])\n",
    "\n",
    "archivo.close()\n",
    "archivo_csv.close()\n",
    "#type(writer)"
   ]
  },
  {
   "cell_type": "markdown",
   "id": "dd2d8e83",
   "metadata": {
    "slideshow": {
     "slide_type": "subslide"
    }
   },
   "source": [
    "#  Lo leemos"
   ]
  },
  {
   "cell_type": "code",
   "execution_count": null,
   "id": "b488c219",
   "metadata": {
    "slideshow": {
     "slide_type": "fragment"
    }
   },
   "outputs": [],
   "source": [
    "archivo_cvs = open(\"bandas.csv\", \"r\")\n",
    "csvreader = csv.reader(archivo_cvs, delimiter=',')\n",
    "\n",
    "for linea in csvreader:\n",
    "    print(linea)\n",
    "\n",
    "archivo_csv.close()"
   ]
  },
  {
   "cell_type": "markdown",
   "id": "e5c52a84",
   "metadata": {
    "slideshow": {
     "slide_type": "subslide"
    }
   },
   "source": [
    "# Otra forma de acceder: csv.DictReader"
   ]
  },
  {
   "cell_type": "code",
   "execution_count": null,
   "id": "23eaa42d",
   "metadata": {
    "slideshow": {
     "slide_type": "fragment"
    }
   },
   "outputs": [],
   "source": [
    "archivo_cvs = open(\"bandas.csv\", \"r\")\n",
    "csvreader = csv.DictReader(archivo_cvs, delimiter=',')\n",
    "\n",
    "for linea in csvreader:\n",
    "    print(linea[\"Nombre\"])\n",
    "\n",
    "archivo_csv.close()"
   ]
  },
  {
   "cell_type": "markdown",
   "id": "23fe5b83",
   "metadata": {
    "slideshow": {
     "slide_type": "slide"
    }
   },
   "source": [
    "# Desafío 1\n",
    "\n",
    "- Dado el conjunto de datos con series y películas de Netflix, queremos:\n",
    "\n",
    "    1- guardar en otro archivo las peliculas agregadas en el año 2021.\n",
    "\n",
    "    2- los cinco (5) países con más producciones en Netflix.\n"
   ]
  },
  {
   "cell_type": "markdown",
   "id": "9dc197d1",
   "metadata": {
    "slideshow": {
     "slide_type": "slide"
    }
   },
   "source": [
    "# Desafío 2\n",
    "\n",
    "- Implementar un programa que muestre un menú a través del cual se puedan visualizar los resultados del desafío 1.\n",
    "    - Pueden usar la [librería console-menu](https://github.com/aegirhall/console-menu) analizada en clase.\n",
    "    - Pueden agregar más opciones con los ejemplos mostrados en la clase\n"
   ]
  },
  {
   "cell_type": "markdown",
   "id": "d71c30af",
   "metadata": {
    "slideshow": {
     "slide_type": "fragment"
    }
   },
   "source": [
    "## Los que quieran, compartir con @clauBanchoff\n",
    "\n",
    "- Recuerden mandarme mensaje para revisar."
   ]
  }
 ],
 "metadata": {
  "celltoolbar": "Slideshow",
  "kernelspec": {
   "display_name": "Python 3 (ipykernel)",
   "language": "python",
   "name": "python3"
  },
  "language_info": {
   "codemirror_mode": {
    "name": "ipython",
    "version": 3
   },
   "file_extension": ".py",
   "mimetype": "text/x-python",
   "name": "python",
   "nbconvert_exporter": "python",
   "pygments_lexer": "ipython3",
   "version": "3.10.0"
  }
 },
 "nbformat": 4,
 "nbformat_minor": 5
}
