{
 "cells": [
  {
   "cell_type": "markdown",
   "id": "b015a19f",
   "metadata": {},
   "source": [
    "# Actividad 1 por Python plus\n"
   ]
  },
  {
   "cell_type": "markdown",
   "id": "b0d0ad1d",
   "metadata": {},
   "source": [
    "## Parte I: resolvé el siguiente desafío:"
   ]
  },
  {
   "cell_type": "markdown",
   "id": "62d05628",
   "metadata": {},
   "source": [
    "EJERCICIO 24: dado el archivo denominado [Pokemon.csv](https://archivos.linti.unlp.edu.ar/index.php/s/l0v1FI2FlSKpVnK) que contiene datos sobre pokemones, se desea generar un archivo con aquellos pokemones de las generaciones 1 y 2 (Generation) cuy\n",
    "o nombre esté compuesta por más de una palabra y el valor total (Total) sea menor a 500.\n",
    "\n",
    "Incluir el código de invocación a la función donde se pueda probar la misma. "
   ]
  },
  {
   "cell_type": "code",
   "execution_count": 1,
   "id": "5021bb7c",
   "metadata": {},
   "outputs": [],
   "source": [
    "import os\n",
    "import csv\n",
    "\n",
    "def Pokemon():\n",
    "    file = open(nuevo, \"w\")\n",
    "    with open(nombre, newline='') as File:  \n",
    "        reader = csv.reader(File)\n",
    "        for row in reader:\n",
    "            mayusculas = len([c for c in row[1] if c.isupper()])\n",
    "            if (row[11]== 1) | (row[11]== 2) & ((mayusculas>1) & (row[4]>500)):\n",
    "                file.write(str(row) + os.linesep)\n",
    "    file.close()\n",
    "nombre = 'Pokemon.csv'\n",
    "nuevo = 'NuevosPoke.txt'\n",
    "Pokemon(nombre,nuevo)"
   ]
  }
 ],
 "metadata": {
  "kernelspec": {
   "display_name": "Python 3 (ipykernel)",
   "language": "python",
   "name": "python3"
  },
  "language_info": {
   "codemirror_mode": {
    "name": "ipython",
    "version": 3
   },
   "file_extension": ".py",
   "mimetype": "text/x-python",
   "name": "python",
   "nbconvert_exporter": "python",
   "pygments_lexer": "ipython3",
   "version": "3.8.10"
  }
 },
 "nbformat": 4,
 "nbformat_minor": 5
}
