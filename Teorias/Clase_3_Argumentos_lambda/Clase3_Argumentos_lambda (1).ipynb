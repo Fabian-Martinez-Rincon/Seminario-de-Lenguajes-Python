{
 "cells": [
  {
   "cell_type": "markdown",
   "id": "static-removal",
   "metadata": {
    "slideshow": {
     "slide_type": "slide"
    }
   },
   "source": [
    "# Seminario de Lenguajes - Python\n",
    "## Cursada 2021\n",
    "\n",
    "## Clase 3: funciones (cont.) - expresiones lambda"
   ]
  },
  {
   "cell_type": "markdown",
   "id": "greenhouse-attitude",
   "metadata": {
    "slideshow": {
     "slide_type": "slide"
    }
   },
   "source": [
    "# Primer desafío\n",
    "\n",
    "## Queremos escribir una función que imprima sus argumentos agregando de qué tipo son. \n",
    "- Por ejemplo, podríamos invocarla de la siguiente manera:\n",
    "\n",
    "```python\n",
    "imprimo(1) --> 1 es de tipo <class 'int'>\n",
    "imprimo(2, \"hola\") --> 2 es de tipo <class 'int'>, hola es de tipo  <class 'str'>\n",
    "imprimo([1,2], \"hola\", 3.2) --> [1, 2] es de tipo <class 'list', hola es de tipo <class 'str'>, 3.2 es de tipo <class 'float'>\n",
    "```"
   ]
  },
  {
   "cell_type": "markdown",
   "id": "removable-feeding",
   "metadata": {
    "slideshow": {
     "slide_type": "fragment"
    }
   },
   "source": [
    "¿Qué tiene de distinta esta función respecto a las que vimos antes o conocemos de otros lenguajes?"
   ]
  },
  {
   "cell_type": "code",
   "execution_count": 6,
   "id": "fbadc98b",
   "metadata": {
    "slideshow": {
     "slide_type": "subslide"
    }
   },
   "outputs": [
    {
     "name": "stdout",
     "output_type": "stream",
     "text": [
      "1\n"
     ]
    }
   ],
   "source": [
    "# Opciones?\n",
    "def imprimo():\n",
    "    print(\"Hola\")\n",
    "def imprimo(par1, par2):\n",
    "    print(par1)\n",
    "def imprimo(par1, par2, par3):\n",
    "    print(par1)\n",
    "\n",
    "imprimo(1,2,3)"
   ]
  },
  {
   "cell_type": "markdown",
   "id": "adult-palmer",
   "metadata": {
    "slideshow": {
     "slide_type": "subslide"
    }
   },
   "source": [
    "# Podemos definir funciones un número variable de parámetros"
   ]
  },
  {
   "cell_type": "code",
   "execution_count": 7,
   "id": "automated-russia",
   "metadata": {
    "slideshow": {
     "slide_type": "fragment"
    }
   },
   "outputs": [
    {
     "name": "stdout",
     "output_type": "stream",
     "text": [
      "1 es de tipo <class 'int'>\n",
      "2 es de tipo <class 'int'>\n",
      "3 es de tipo <class 'int'>\n"
     ]
    }
   ],
   "source": [
    "def imprimo(*args):\n",
    "    \"\"\" Esta función imprime los argumentos y sus tipos\"\"\"\n",
    "\n",
    "    for valor in args:\n",
    "        print(f\"{valor} es de tipo {type(valor)}\")\n",
    "imprimo(1,2,3)    "
   ]
  },
  {
   "cell_type": "markdown",
   "id": "adjustable-orlando",
   "metadata": {
    "slideshow": {
     "slide_type": "fragment"
    }
   },
   "source": [
    "- **args** es una **tupla** que representa a los  parámetros pasados."
   ]
  },
  {
   "cell_type": "code",
   "execution_count": 8,
   "id": "mighty-spelling",
   "metadata": {
    "slideshow": {
     "slide_type": "fragment"
    }
   },
   "outputs": [
    {
     "name": "stdout",
     "output_type": "stream",
     "text": [
      "1 es de tipo <class 'int'>\n",
      "------------------------------\n",
      "2 es de tipo <class 'int'>\n",
      "hola es de tipo <class 'str'>\n",
      "------------------------------\n",
      "[1, 2] es de tipo <class 'list'>\n",
      "hola es de tipo <class 'str'>\n",
      "3.2 es de tipo <class 'float'>\n"
     ]
    }
   ],
   "source": [
    "imprimo(1)\n",
    "print(\"-\"*30)\n",
    "imprimo(2, \"hola\")\n",
    "print(\"-\"*30)\n",
    "imprimo([1,2], \"hola\", 3.2)"
   ]
  },
  {
   "cell_type": "markdown",
   "id": "identified-distributor",
   "metadata": {
    "slideshow": {
     "slide_type": "subslide"
    }
   },
   "source": [
    "# Otra forma de definir una función con un número variable de parámetros"
   ]
  },
  {
   "cell_type": "code",
   "execution_count": 9,
   "id": "critical-strip",
   "metadata": {
    "slideshow": {
     "slide_type": "fragment"
    }
   },
   "outputs": [
    {
     "name": "stdout",
     "output_type": "stream",
     "text": [
      "banda1 es Nirvana\n",
      "banda2 es Foo Fighters\n",
      "banda3 es AC/DC\n"
     ]
    }
   ],
   "source": [
    "def imprimo_otros_valores(**kwargs):\n",
    "    \"\"\" ..... \"\"\"\n",
    "\n",
    "    for clave, valor in kwargs.items():\n",
    "        print(f\"{clave} es {valor}\")\n",
    "\n",
    "imprimo_otros_valores(banda1= 'Nirvana', banda2=\"Foo Fighters\", banda3=\"AC/DC\")"
   ]
  },
  {
   "cell_type": "markdown",
   "id": "polar-characteristic",
   "metadata": {
    "slideshow": {
     "slide_type": "fragment"
    }
   },
   "source": [
    "- **kwargs** es una **diccionario** que representa a los  parámetros pasados."
   ]
  },
  {
   "cell_type": "markdown",
   "id": "damaged-jacket",
   "metadata": {
    "slideshow": {
     "slide_type": "subslide"
    }
   },
   "source": [
    "# También podemos tener lo siguiente:"
   ]
  },
  {
   "cell_type": "code",
   "execution_count": 10,
   "id": "patent-pattern",
   "metadata": {
    "slideshow": {
     "slide_type": "fragment"
    }
   },
   "outputs": [
    {
     "name": "stdout",
     "output_type": "stream",
     "text": [
      "3\n"
     ]
    }
   ],
   "source": [
    "def imprimo_datos(par1, par2, par3):\n",
    "    print(par3)\n",
    "\n",
    "lista = [1, 2, 3]\n",
    "imprimo_datos(*lista)"
   ]
  },
  {
   "cell_type": "code",
   "execution_count": 11,
   "id": "biological-queensland",
   "metadata": {
    "slideshow": {
     "slide_type": "fragment"
    }
   },
   "outputs": [
    {
     "name": "stdout",
     "output_type": "stream",
     "text": [
      "Messi 12345\n"
     ]
    }
   ],
   "source": [
    "def imprimo_contacto(nombre, celu):\n",
    "    #print(type(celu))\n",
    "    print(nombre, celu)\n",
    "\n",
    "contacto = {\"nombre\": \"Messi\", \"celu\": 12345}\n",
    "imprimo_contacto(**contacto)"
   ]
  },
  {
   "cell_type": "markdown",
   "id": "little-oasis",
   "metadata": {
    "slideshow": {
     "slide_type": "fragment"
    }
   },
   "source": [
    "Observar el nombre de los parámetros: ¿qué podríamos decir?"
   ]
  },
  {
   "cell_type": "markdown",
   "id": "great-parameter",
   "metadata": {
    "slideshow": {
     "slide_type": "subslide"
    }
   },
   "source": [
    "# Probar en casa estos ejemplos:"
   ]
  },
  {
   "cell_type": "code",
   "execution_count": 12,
   "id": "amended-manufacturer",
   "metadata": {
    "slideshow": {
     "slide_type": "fragment"
    }
   },
   "outputs": [],
   "source": [
    "def imprimo_elementos1(uno, dos, tres, cuatro):\n",
    "    \"\"\"Imprimo los valores de los dos primeros parámetros\"\"\"\n",
    "    print( f\"{uno}, {dos}\")\n",
    "\n",
    "def imprimo_elementos2(*argumentos):\n",
    "    \"\"\"Imprimo los valores de los argumentos\"\"\"\n",
    "    for valor in argumentos:\n",
    "        print( valor)\n",
    "\n",
    "def imprimo_elementos3(**argumentos):\n",
    "    \"\"\"Imprimo una tabla nombre-valor\"\"\"\n",
    "    for nombre, valor in argumentos.items():\n",
    "        print( f\"{nombre} = {valor}\")"
   ]
  },
  {
   "cell_type": "code",
   "execution_count": 13,
   "id": "representative-configuration",
   "metadata": {
    "slideshow": {
     "slide_type": "subslide"
    }
   },
   "outputs": [
    {
     "name": "stdout",
     "output_type": "stream",
     "text": [
      "Invoco a imprimo_elementos3 con  tabla_numeros como parámetro\n",
      "uno = 1\n",
      "dos = 2\n",
      "tres = 3\n",
      "cuatro = 4\n",
      "--------------------\n",
      "Invoco a imprimo_elementos3 con los parámetros nombrados\n",
      "uno = 1\n",
      "dos = 2\n",
      "tres = 3\n",
      "cuatro = 4\n",
      "--------------------\n",
      "Invoco a imprimo_elementos1 con  parámetros nombrados\n",
      "I, II\n",
      "--------------------\n",
      "Invoco a imprimo_elementos1 con  parámetros simples\n",
      "I, II\n",
      "--------------------\n",
      "Invoco a imprimo_elementos2 con  parámetros simples\n",
      "1\n",
      "2\n",
      "3\n",
      "4\n"
     ]
    }
   ],
   "source": [
    "tabla_numeros = { \"uno\": 1, \"dos\": 2, \"tres\":3, \"cuatro\": 4}\n",
    "\n",
    "print(\"Invoco a imprimo_elementos3 con  tabla_numeros como parámetro\")\n",
    "imprimo_elementos3(**tabla_numeros)\n",
    "print(\"-\" * 20)\n",
    "\n",
    "print(\"Invoco a imprimo_elementos3 con los parámetros nombrados\")\n",
    "imprimo_elementos3(uno =1, dos = 2, tres = 3, cuatro = 4)\n",
    "print(\"-\" * 20)\n",
    "\n",
    "print(\"Invoco a imprimo_elementos1 con  parámetros nombrados\")\n",
    "imprimo_elementos1(uno =\"I\", dos = \"II\", tres = \"III\", cuatro = \"IV\")\n",
    "\n",
    "print(\"-\" * 20)\n",
    "\n",
    "print(\"Invoco a imprimo_elementos1 con  parámetros simples\")\n",
    "imprimo_elementos1(\"I\", \"II\", \"III\", \"IV\")\n",
    "\n",
    "print(\"-\" * 20)\n",
    "print(\"Invoco a imprimo_elementos2 con  parámetros simples\")\n",
    "imprimo_elementos2(1,2,3,4)\n"
   ]
  },
  {
   "cell_type": "markdown",
   "id": "alpine-monkey",
   "metadata": {
    "slideshow": {
     "slide_type": "subslide"
    }
   },
   "source": [
    "# Segundo desafío: ¿todo junto se puede? \n",
    "### Probar en casa este ejemplo y analizar el orden en el que definimos los parámetros.  "
   ]
  },
  {
   "cell_type": "code",
   "execution_count": 14,
   "id": "found-marsh",
   "metadata": {
    "scrolled": true,
    "slideshow": {
     "slide_type": "fragment"
    }
   },
   "outputs": [
    {
     "name": "stdout",
     "output_type": "stream",
     "text": [
      "Mensaje original\n",
      "Hola\n",
      "\n",
      "En otros idiomas\n",
      "----------------------------------------\n",
      "hello\n",
      "Hallo\n",
      "Aloha \n",
      "Witam\n",
      "Kia ora\n",
      "\n",
      "En detalle\n",
      "----------------------------------------\n",
      "ingles: hello\n",
      "aleman: Hallo\n",
      "hawaiano: Aloha\n",
      "polaco: Witam\n",
      "maori: Kia ora\n",
      "\n",
      "Fuente: traductor de Google. \n"
     ]
    }
   ],
   "source": [
    "def imprimo_muchos_valores(mensaje_inicial, *en_otro_idioma, **en_detalle):\n",
    "    print(\"Mensaje original\")\n",
    "    print(mensaje_inicial)\n",
    "    print(\"\\nEn otros idiomas\")\n",
    "    print(\"-\" * 40)\n",
    "    for val in en_otro_idioma:\n",
    "        print(val)\n",
    "    print(\"\\nEn detalle\")\n",
    "    print(\"-\" * 40)\n",
    "\n",
    "    for clave in en_detalle:\n",
    "        print(f\"{clave}: {en_detalle[clave]}\")\n",
    "    print(\"\\nFuente: traductor de Google. \")\n",
    "imprimo_muchos_valores(\"Hola\", \n",
    "    \"hello\", \"Hallo\", \"Aloha \", \"Witam\", \"Kia ora\",\n",
    "    ingles= \"hello\",\n",
    "    aleman=\"Hallo\",\n",
    "    hawaiano=\"Aloha\",\n",
    "    polaco=\"Witam\",\n",
    "    maori=\"Kia ora\")"
   ]
  },
  {
   "cell_type": "markdown",
   "id": "trying-spectrum",
   "metadata": {
    "slideshow": {
     "slide_type": "slide"
    }
   },
   "source": [
    "# Variables locales y globales"
   ]
  },
  {
   "cell_type": "code",
   "execution_count": 15,
   "id": "aggressive-tracker",
   "metadata": {
    "slideshow": {
     "slide_type": "fragment"
    }
   },
   "outputs": [
    {
     "name": "stdout",
     "output_type": "stream",
     "text": [
      "13\n",
      "9\n"
     ]
    }
   ],
   "source": [
    "x = 12\n",
    "a = 13\n",
    "def funcion(a):\n",
    "    global x\n",
    "    x = 9\n",
    "    a = 10\n",
    "\n",
    "funcion(a)\n",
    "print(a)\n",
    "print(x)"
   ]
  },
  {
   "cell_type": "markdown",
   "id": "hispanic-radiation",
   "metadata": {
    "slideshow": {
     "slide_type": "fragment"
    }
   },
   "source": [
    "- Variables locales enmascaran las globales.\n",
    "- Acceso a las globales mediante **global**."
   ]
  },
  {
   "cell_type": "markdown",
   "id": "considered-hindu",
   "metadata": {
    "slideshow": {
     "slide_type": "subslide"
    }
   },
   "source": [
    "# ATENCION: ¿qué pasa en los siguientes ejemplos?\n"
   ]
  },
  {
   "cell_type": "code",
   "execution_count": 16,
   "id": "perceived-rendering",
   "metadata": {
    "slideshow": {
     "slide_type": "fragment"
    }
   },
   "outputs": [
    {
     "ename": "UnboundLocalError",
     "evalue": "local variable 'x' referenced before assignment",
     "output_type": "error",
     "traceback": [
      "\u001b[1;31m---------------------------------------------------------------------------\u001b[0m",
      "\u001b[1;31mUnboundLocalError\u001b[0m                         Traceback (most recent call last)",
      "\u001b[1;32mc:\\Users\\fabian\\Desktop\\Seminario-de-Lenguajes-Python\\Teorias\\Clase_3_Argumentos_lambda\\Clase3_Argumentos_lambda (1).ipynb Cell 25'\u001b[0m in \u001b[0;36m<cell line: 11>\u001b[1;34m()\u001b[0m\n\u001b[0;32m      <a href='vscode-notebook-cell:/c%3A/Users/fabian/Desktop/Seminario-de-Lenguajes-Python/Teorias/Clase_3_Argumentos_lambda/Clase3_Argumentos_lambda%20%281%29.ipynb#ch0000024?line=7'>8</a>\u001b[0m     x \u001b[39m=\u001b[39m x \u001b[39m+\u001b[39m \u001b[39m1\u001b[39m\n\u001b[0;32m      <a href='vscode-notebook-cell:/c%3A/Users/fabian/Desktop/Seminario-de-Lenguajes-Python/Teorias/Clase_3_Argumentos_lambda/Clase3_Argumentos_lambda%20%281%29.ipynb#ch0000024?line=8'>9</a>\u001b[0m     \u001b[39mprint\u001b[39m(x)\n\u001b[1;32m---> <a href='vscode-notebook-cell:/c%3A/Users/fabian/Desktop/Seminario-de-Lenguajes-Python/Teorias/Clase_3_Argumentos_lambda/Clase3_Argumentos_lambda%20%281%29.ipynb#ch0000024?line=10'>11</a>\u001b[0m funcion2()\n",
      "\u001b[1;32mc:\\Users\\fabian\\Desktop\\Seminario-de-Lenguajes-Python\\Teorias\\Clase_3_Argumentos_lambda\\Clase3_Argumentos_lambda (1).ipynb Cell 25'\u001b[0m in \u001b[0;36mfuncion2\u001b[1;34m()\u001b[0m\n\u001b[0;32m      <a href='vscode-notebook-cell:/c%3A/Users/fabian/Desktop/Seminario-de-Lenguajes-Python/Teorias/Clase_3_Argumentos_lambda/Clase3_Argumentos_lambda%20%281%29.ipynb#ch0000024?line=5'>6</a>\u001b[0m \u001b[39mdef\u001b[39;00m \u001b[39mfuncion2\u001b[39m():\n\u001b[1;32m----> <a href='vscode-notebook-cell:/c%3A/Users/fabian/Desktop/Seminario-de-Lenguajes-Python/Teorias/Clase_3_Argumentos_lambda/Clase3_Argumentos_lambda%20%281%29.ipynb#ch0000024?line=7'>8</a>\u001b[0m     x \u001b[39m=\u001b[39m x \u001b[39m+\u001b[39m \u001b[39m1\u001b[39m\n\u001b[0;32m      <a href='vscode-notebook-cell:/c%3A/Users/fabian/Desktop/Seminario-de-Lenguajes-Python/Teorias/Clase_3_Argumentos_lambda/Clase3_Argumentos_lambda%20%281%29.ipynb#ch0000024?line=8'>9</a>\u001b[0m     \u001b[39mprint\u001b[39m(x)\n",
      "\u001b[1;31mUnboundLocalError\u001b[0m: local variable 'x' referenced before assignment"
     ]
    }
   ],
   "source": [
    "x = 12\n",
    "def funcion1():\n",
    "    temp = x + 1\n",
    "    print(temp)\n",
    "\n",
    "def funcion2():\n",
    "    x = x + 1\n",
    "    print(x)\n",
    "\n",
    "funcion2()"
   ]
  },
  {
   "cell_type": "markdown",
   "id": "medieval-dover",
   "metadata": {
    "slideshow": {
     "slide_type": "subslide"
    }
   },
   "source": [
    "# Funciones anidadas\n"
   ]
  },
  {
   "cell_type": "code",
   "execution_count": 17,
   "id": "continuing-instruction",
   "metadata": {
    "slideshow": {
     "slide_type": "fragment"
    }
   },
   "outputs": [
    {
     "name": "stdout",
     "output_type": "stream",
     "text": [
      "uno\n",
      "uno_uno\n"
     ]
    }
   ],
   "source": [
    "def uno():\n",
    "    def uno_uno():\n",
    "        print(\"uno_uno\")\n",
    "    def uno_dos():\n",
    "        print(\"uno_dos\")\n",
    "  \n",
    "    print(\"uno\")\n",
    "    uno_uno()\n",
    "    \n",
    "def dos():\n",
    "    print(\"dos\")\n",
    "    uno_dos()\n",
    "\n",
    "uno()"
   ]
  },
  {
   "cell_type": "markdown",
   "id": "final-patio",
   "metadata": {
    "slideshow": {
     "slide_type": "subslide"
    }
   },
   "source": [
    "# ¿Qué imprimimos en este caso?"
   ]
  },
  {
   "cell_type": "code",
   "execution_count": 18,
   "id": "declared-stadium",
   "metadata": {
    "slideshow": {
     "slide_type": "fragment"
    }
   },
   "outputs": [
    {
     "name": "stdout",
     "output_type": "stream",
     "text": [
      "En uno_uno: 100\n",
      "En uno: 100\n",
      "En ppal: 0\n"
     ]
    }
   ],
   "source": [
    "\n",
    "x = 0\n",
    "def uno():\n",
    "    x = 10\n",
    "    def uno_uno():\n",
    "        nonlocal x\n",
    "        #global x\n",
    "        x = 100\n",
    "        print(f\"En uno_uno: {x}\")\n",
    "\n",
    "    uno_uno()\n",
    "    print(f\"En uno: {x}\") \n",
    "uno()\n",
    "print(f\"En ppal: {x}\") "
   ]
  },
  {
   "cell_type": "markdown",
   "id": "negative-retreat",
   "metadata": {
    "slideshow": {
     "slide_type": "fragment"
    }
   },
   "source": [
    "- **global** y **nonlocal** permiten acceder a varables no locales a una función."
   ]
  },
  {
   "cell_type": "markdown",
   "id": "separated-tournament",
   "metadata": {
    "slideshow": {
     "slide_type": "slide"
    }
   },
   "source": [
    "# Las funciones tienen atributos\n",
    "\n",
    "- Retomemos esta función:"
   ]
  },
  {
   "cell_type": "code",
   "execution_count": 21,
   "id": "instrumental-budget",
   "metadata": {
    "slideshow": {
     "slide_type": "fragment"
    }
   },
   "outputs": [
    {
     "name": "stdout",
     "output_type": "stream",
     "text": [
      " Esta función calcula el promedio de las notas recibida por parámetro.\n",
      "    notas: es un diccionario de forma nombre_estudiante: nota\n",
      "    \n",
      "None\n",
      "calculo_promedio\n"
     ]
    }
   ],
   "source": [
    "def calculo_promedio(notas):\n",
    "    \"\"\" Esta función calcula el promedio de las notas recibida por parámetro.\n",
    "    notas: es un diccionario de forma nombre_estudiante: nota\n",
    "    \"\"\"\n",
    "    suma = 0\n",
    "    for estu in notas:\n",
    "        suma += notas[estu]\n",
    "    promedio = 0 if len(notas)==0 else suma/len(notas)    \n",
    "    return promedio\n",
    "\n",
    "print(calculo_promedio.__doc__)\n",
    "print(calculo_promedio.__defaults__)\n",
    "print(calculo_promedio.__name__)"
   ]
  },
  {
   "cell_type": "markdown",
   "id": "chronic-school",
   "metadata": {
    "slideshow": {
     "slide_type": "subslide"
    }
   },
   "source": [
    "# Las funciones tienen atributos\n",
    "\n",
    "- **funcion.\\_\\_doc__**: es el **docstring**.\n",
    "- **funcion.\\_\\_name__**: es una cadena con el nombre la función.\n",
    "- **funcion.\\_\\_defaults__**: es una tupla con los valores por defecto de los parámetros opcionales.\n",
    "\n"
   ]
  },
  {
   "cell_type": "markdown",
   "id": "convertible-tanzania",
   "metadata": {
    "slideshow": {
     "slide_type": "slide"
    }
   },
   "source": [
    "# Volvamos a los parámetros \n",
    "\n",
    "-  ¿Qué les parece que imprime este código?¿Por qué?"
   ]
  },
  {
   "cell_type": "code",
   "execution_count": 22,
   "id": "weighted-people",
   "metadata": {
    "slideshow": {
     "slide_type": "fragment"
    }
   },
   "outputs": [
    {
     "ename": "NameError",
     "evalue": "name 'i' is not defined",
     "output_type": "error",
     "traceback": [
      "\u001b[1;31m---------------------------------------------------------------------------\u001b[0m",
      "\u001b[1;31mNameError\u001b[0m                                 Traceback (most recent call last)",
      "\u001b[1;32mc:\\Users\\fabian\\Desktop\\Seminario-de-Lenguajes-Python\\Teorias\\Clase_3_Argumentos_lambda\\Clase3_Argumentos_lambda (1).ipynb Cell 35'\u001b[0m in \u001b[0;36m<cell line: 1>\u001b[1;34m()\u001b[0m\n\u001b[1;32m----> <a href='vscode-notebook-cell:/c%3A/Users/fabian/Desktop/Seminario-de-Lenguajes-Python/Teorias/Clase_3_Argumentos_lambda/Clase3_Argumentos_lambda%20%281%29.ipynb#ch0000034?line=0'>1</a>\u001b[0m \u001b[39mdef\u001b[39;00m \u001b[39mfuncion\u001b[39m(x\u001b[39m=\u001b[39mi):\n\u001b[0;32m      <a href='vscode-notebook-cell:/c%3A/Users/fabian/Desktop/Seminario-de-Lenguajes-Python/Teorias/Clase_3_Argumentos_lambda/Clase3_Argumentos_lambda%20%281%29.ipynb#ch0000034?line=1'>2</a>\u001b[0m     \u001b[39mprint\u001b[39m(x)\n\u001b[0;32m      <a href='vscode-notebook-cell:/c%3A/Users/fabian/Desktop/Seminario-de-Lenguajes-Python/Teorias/Clase_3_Argumentos_lambda/Clase3_Argumentos_lambda%20%281%29.ipynb#ch0000034?line=3'>4</a>\u001b[0m i \u001b[39m=\u001b[39m \u001b[39m10\u001b[39m\n",
      "\u001b[1;31mNameError\u001b[0m: name 'i' is not defined"
     ]
    }
   ],
   "source": [
    "\n",
    "def funcion(x=i):\n",
    "    print(x)\n",
    "\n",
    "i = 10\n",
    "funcion()"
   ]
  },
  {
   "cell_type": "markdown",
   "id": "suspended-appreciation",
   "metadata": {
    "slideshow": {
     "slide_type": "slide"
    }
   },
   "source": [
    "# Tercer desafío\n",
    "- Queremos implementar una función que dada una cadena de texto, retorne las palabras que contiene en orden alfabético."
   ]
  },
  {
   "cell_type": "code",
   "execution_count": 23,
   "id": "vietnamese-flower",
   "metadata": {
    "slideshow": {
     "slide_type": "fragment"
    }
   },
   "outputs": [
    {
     "name": "stdout",
     "output_type": "stream",
     "text": [
      "['día.', 'gran', 'Hoy', 'puede', 'ser', 'un']\n"
     ]
    }
   ],
   "source": [
    "# Una posible solución\n",
    "def ordeno1(cadena:str=\"ss\"):\n",
    "    \"\"\" Implementación usando sort\"\"\"\n",
    "\n",
    "    lista = cadena.split()\n",
    "    lista.sort(key=str.lower)\n",
    "    return lista\n",
    "\n",
    "print(ordeno1(\"Hoy puede ser un gran día. \"))"
   ]
  },
  {
   "cell_type": "markdown",
   "id": "bibliographic-celebrity",
   "metadata": {
    "slideshow": {
     "slide_type": "subslide"
    }
   },
   "source": [
    "# Otra forma"
   ]
  },
  {
   "cell_type": "code",
   "execution_count": null,
   "id": "continental-muscle",
   "metadata": {
    "slideshow": {
     "slide_type": "fragment"
    }
   },
   "outputs": [],
   "source": [
    "# Otra posible solución\n",
    "def ordeno2(cadena:str):\n",
    "    \"\"\" Implementación usando sorted\"\"\"\n",
    "\n",
    "    lista = cadena.split()\n",
    "    return sorted(lista, key=str.lower)\n",
    "\n",
    "print(ordeno2(\"Hoy puede ser un gran día. \"))"
   ]
  },
  {
   "cell_type": "markdown",
   "id": "separate-filing",
   "metadata": {
    "slideshow": {
     "slide_type": "slide"
    }
   },
   "source": [
    "# Cuarto desafío\n",
    "- Queremos implementar una función que dada una colección con datos de usuarios de un determinado juego (por ejemplo nombre, nivel y puntaje), queremos retornar esta colección ordenada de acuerdo al nombre."
   ]
  },
  {
   "cell_type": "code",
   "execution_count": null,
   "id": "progressive-initial",
   "metadata": {
    "slideshow": {
     "slide_type": "fragment"
    }
   },
   "outputs": [],
   "source": [
    "# Solución"
   ]
  },
  {
   "cell_type": "markdown",
   "id": "genuine-choice",
   "metadata": {
    "slideshow": {
     "slide_type": "subslide"
    }
   },
   "source": [
    "# Analicemos esta solución"
   ]
  },
  {
   "cell_type": "code",
   "execution_count": 24,
   "id": "numerous-nursing",
   "metadata": {
    "slideshow": {
     "slide_type": "fragment"
    }
   },
   "outputs": [
    {
     "name": "stdout",
     "output_type": "stream",
     "text": [
      "[('1962', 'Nivel1', 12), ('caike', 'Nivel2', 1020), ('Straka^', 'Nivel2', 1020), ('JonY BoY', 'Nivel3', 15)]\n"
     ]
    }
   ],
   "source": [
    "def ordeno3(usuarios):\n",
    "    \"\"\" Usamos sorted con una expresión lambda\"\"\"\n",
    "\n",
    "    return sorted(usuarios, key=lambda usuario: usuario[1])\n",
    "\n",
    "usuarios = [\n",
    "    ('JonY BoY', 'Nivel3', 15),\n",
    "    ('1962', 'Nivel1', 12),\n",
    "    ('caike', 'Nivel2', 1020),\n",
    "    ('Straka^', 'Nivel2', 1020),\n",
    "]\n",
    "print(ordeno3(usuarios))"
   ]
  },
  {
   "cell_type": "markdown",
   "id": "adopted-netherlands",
   "metadata": {
    "slideshow": {
     "slide_type": "subslide"
    }
   },
   "source": [
    "# ¿Qué son las expresiones lambda?\n",
    "\n",
    "\n",
    "- Son funciones anónimas.\n",
    "```python\n",
    " lambda parametros : expresion \n",
    "```\n",
    "\n",
    "- [+Info](https://docs.python.org/3/tutorial/controlflow.html#lambda-expressions)"
   ]
  },
  {
   "cell_type": "code",
   "execution_count": 25,
   "id": "hybrid-array",
   "metadata": {
    "slideshow": {
     "slide_type": "fragment"
    }
   },
   "outputs": [
    {
     "data": {
      "text/plain": [
       "<function __main__.<lambda>(a, b=1)>"
      ]
     },
     "execution_count": 25,
     "metadata": {},
     "output_type": "execute_result"
    }
   ],
   "source": [
    "lambda a, b: a*b\n",
    "lambda a, b=1: a*b"
   ]
  },
  {
   "cell_type": "code",
   "execution_count": 26,
   "id": "liable-whale",
   "metadata": {
    "slideshow": {
     "slide_type": "fragment"
    }
   },
   "outputs": [],
   "source": [
    "lambda a, b=1: a*b\n",
    "    \n",
    "def producto(a, b=1):\n",
    "    return a*b"
   ]
  },
  {
   "cell_type": "markdown",
   "id": "theoretical-bronze",
   "metadata": {
    "slideshow": {
     "slide_type": "subslide"
    }
   },
   "source": [
    "# Algunos ejemplos de uso"
   ]
  },
  {
   "cell_type": "code",
   "execution_count": 27,
   "id": "embedded-ticket",
   "metadata": {
    "slideshow": {
     "slide_type": "fragment"
    }
   },
   "outputs": [
    {
     "name": "stdout",
     "output_type": "stream",
     "text": [
      "8\n",
      "12\n"
     ]
    }
   ],
   "source": [
    "lista_de_acciones = [lambda x: x * 2, lambda x: x * 3]\n",
    "\n",
    "param = 4\n",
    "\n",
    "for accion in lista_de_acciones:\n",
    "    print(accion(param))"
   ]
  },
  {
   "cell_type": "markdown",
   "id": "elder-darkness",
   "metadata": {
    "slideshow": {
     "slide_type": "fragment"
    }
   },
   "source": [
    "- ¿Qué tipo de elementos contiene la lista?\n",
    "- ¿Qué imprime?"
   ]
  },
  {
   "cell_type": "markdown",
   "id": "challenging-developer",
   "metadata": {
    "slideshow": {
     "slide_type": "subslide"
    }
   },
   "source": [
    "# Un ejemplo de la documentación oficial"
   ]
  },
  {
   "cell_type": "code",
   "execution_count": 28,
   "id": "recreational-ghana",
   "metadata": {
    "slideshow": {
     "slide_type": "fragment"
    }
   },
   "outputs": [
    {
     "name": "stdout",
     "output_type": "stream",
     "text": [
      "44 48\n",
      "55\n"
     ]
    }
   ],
   "source": [
    "def make_incrementor(n):\n",
    "    return lambda x: x + n\n",
    "\n",
    "f = make_incrementor(2)\n",
    "g = make_incrementor(6)\n",
    "\n",
    "print(f(42), g(42))\n",
    "print(make_incrementor(22)(33))"
   ]
  },
  {
   "cell_type": "markdown",
   "id": "minus-difference",
   "metadata": {
    "slideshow": {
     "slide_type": "subslide"
    }
   },
   "source": [
    "# La función map"
   ]
  },
  {
   "cell_type": "code",
   "execution_count": 29,
   "id": "protecting-lincoln",
   "metadata": {
    "slideshow": {
     "slide_type": "fragment"
    }
   },
   "outputs": [
    {
     "name": "stdout",
     "output_type": "stream",
     "text": [
      "[2, 4, 6, 8, 10, 12, 14]\n"
     ]
    }
   ],
   "source": [
    "def doble(x):\n",
    "    return 2*x\n",
    "\n",
    "lista  = [1, 2, 3, 4, 5, 6, 7]\n",
    "\n",
    "dobles = list(map(doble, lista))\n",
    "print(dobles)"
   ]
  },
  {
   "cell_type": "markdown",
   "id": "spanish-recommendation",
   "metadata": {
    "slideshow": {
     "slide_type": "subslide"
    }
   },
   "source": [
    "# La función filter"
   ]
  },
  {
   "cell_type": "code",
   "execution_count": 30,
   "id": "unique-coach",
   "metadata": {
    "slideshow": {
     "slide_type": "fragment"
    }
   },
   "outputs": [
    {
     "name": "stdout",
     "output_type": "stream",
     "text": [
      "[2, 4, 6]\n"
     ]
    }
   ],
   "source": [
    "def es_par(x):\n",
    "    return x % 2 == 0\n",
    "\n",
    "lista  = [1, 2, 3, 4, 5, 6, 7]\n",
    "\n",
    "pares = list(filter(es_par, lista))\n",
    "print(pares)"
   ]
  },
  {
   "cell_type": "markdown",
   "id": "romantic-apple",
   "metadata": {
    "slideshow": {
     "slide_type": "subslide"
    }
   },
   "source": [
    "# map y fiter con  lambda"
   ]
  },
  {
   "cell_type": "code",
   "execution_count": null,
   "id": "spare-negotiation",
   "metadata": {
    "slideshow": {
     "slide_type": "fragment"
    }
   },
   "outputs": [
    {
     "name": "stdout",
     "output_type": "stream",
     "text": [
      "<map object at 0x00000144B50EDAB0>\n",
      "[2, 4, 6]\n"
     ]
    }
   ],
   "source": [
    "lista  = [1, 2, 3, 4, 5, 6, 7]\n",
    "\n",
    "dobles = map(lambda x: 2*x, lista)\n",
    "pares = list(filter(lambda x: x%2 == 0, lista))\n",
    "\n",
    "print(dobles)\n",
    "print(pares)"
   ]
  },
  {
   "cell_type": "markdown",
   "id": "superior-healing",
   "metadata": {
    "slideshow": {
     "slide_type": "slide"
    }
   },
   "source": [
    "# Quinto desafío\n",
    "\n",
    "### Usando expresiones lambda escribir una función que permita codificar una frase según el siguiente algoritmo:\n",
    "\n",
    "```\n",
    "encripto(\"a\") --> \"b\"\n",
    "encripto(\"ABC\") --> \"BCD\"\n",
    "encripto(\"Rock2021\") --> \"Spdl3132\"\n",
    "```\n",
    "\n",
    "\n",
    "- Una explicación simple de la WIkipedia: [Cifrado César](https://es.wikipedia.org/wiki/Cifrado_C%C3%A9sar#:~:text=El%20cifrado%20C%C3%A9sar%20mueve%20cada,de%20espacios%20en%20el%20alfabeto.&text=Es%20un%20tipo%20de%20cifrado,m%C3%A1s%20adelante%20en%20el%20alfabeto.)\n",
    "\n",
    "###  Subir el código modificado a su  repositorio en  GitHub.\n",
    "\n",
    "- Compartir el enlace a la cuenta @clauBanchoff"
   ]
  }
 ],
 "metadata": {
  "celltoolbar": "Slideshow",
  "kernelspec": {
   "display_name": "Python 3.10.0 64-bit",
   "language": "python",
   "name": "python3"
  },
  "language_info": {
   "codemirror_mode": {
    "name": "ipython",
    "version": 3
   },
   "file_extension": ".py",
   "mimetype": "text/x-python",
   "name": "python",
   "nbconvert_exporter": "python",
   "pygments_lexer": "ipython3",
   "version": "3.10.0"
  },
  "vscode": {
   "interpreter": {
    "hash": "369f2c481f4da34e4445cda3fffd2e751bd1c4d706f27375911949ba6bb62e1c"
   }
  }
 },
 "nbformat": 4,
 "nbformat_minor": 5
}
