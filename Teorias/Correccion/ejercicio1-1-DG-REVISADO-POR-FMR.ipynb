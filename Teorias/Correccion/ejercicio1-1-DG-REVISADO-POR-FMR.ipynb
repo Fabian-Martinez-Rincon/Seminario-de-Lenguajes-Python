{
 "cells": [
  {
   "cell_type": "markdown",
   "id": "14df4a10",
   "metadata": {},
   "source": [
    "# Actividad 1 por Python plus\n"
   ]
  },
  {
   "cell_type": "markdown",
   "id": "eb80dfd8",
   "metadata": {},
   "source": [
    "## Parte I\n",
    "\n",
    "### Solución propuesta por tu compañero/a\n"
   ]
  },
  {
   "cell_type": "markdown",
   "id": "b2c22533",
   "metadata": {},
   "source": [
    "### -- Copiá acá el enunciado a corregir --\n",
    "\n",
    "Incluí también la URL del cuaderno asignado"
   ]
  },
  {
   "cell_type": "markdown",
   "id": "6001c8ca",
   "metadata": {},
   "source": [
    "EJERCICIO 7: dado el archivo denominado [BBB_nuevo.csv](https://archivos.linti.unlp.edu.ar/index.php/s/q9b3rCrlhOS1yWU) que contiene los accesos al recurso BigBlueButton que usamos para las clases virtuales de la materia, se desea generar una función que retorne los 3 usuarios con menos actividad registrada.\n",
    "\n",
    "URL del cuaderno asignado [link](https://drive.google.com/file/d/1fdWOHDWHaG_hXgavQZbTvSwGoZoFN4iD/view)"
   ]
  },
  {
   "cell_type": "code",
   "execution_count": 15,
   "id": "ced69cb2",
   "metadata": {
    "scrolled": true
   },
   "outputs": [
    {
     "name": "stdout",
     "output_type": "stream",
     "text": [
      "('Dodrio', 1) ('Pidgeot', 1) ('Poliwhirl', 1)\n",
      "Counter({'Zubat': 97, 'Rapidash': 75, 'Arbok': 67, 'Spearow': 64, 'Furret': 61, 'Snorlax': 59, 'Pidgey': 57, 'Squirtle': 48, 'Bellsprout': 46, 'Jynx': 43, 'Venomoth': 43, 'Rhyhorn': 42, 'Diglett': 40, 'Primeape': 39, 'Persian': 37, 'Oddish': 37, 'Caterpie': 35, 'Nidoran': 33, 'Wartortle': 32, 'Kakuna': 31, 'Magneton': 31, 'Kadabra': 31, 'Sandshrew': 30, 'Beedrill': 28, 'Ninetales': 28, 'Mankey': 28, 'Muk': 27, 'Alakazam': 25, 'Nidoking': 25, 'Onix': 25, 'Kangaskhan': 24, 'Golem': 23, 'Electabuzz': 23, 'Meowth': 23, 'Rhydon': 22, 'Koffing': 22, 'Vileplume': 22, 'Weedle': 22, 'Drowzee': 21, 'Dewgong': 20, 'Clefable': 20, 'Slowbro': 20, 'Pidgeotto': 19, 'Lapras': 19, 'Hypno': 18, 'Grimer': 18, 'Tauros': 17, 'Clefairy': 17, 'Machamp': 17, 'Hitmonlee': 16, 'Golbat': 16, 'Poliwrath': 16, 'Psyduck': 15, 'Weepinbell': 15, 'Fearow': 15, 'Lickitung': 15, 'Haunter': 14, 'Shellder': 14, 'Venusaur': 13, 'Nidorina': 13, 'Nidoqueen': 13, 'Jolteon': 12, 'Victreebel': 12, 'Nidorino': 11, 'Graveler': 11, 'Exeggutor': 11, 'Voltorb': 10, 'Meganium': 10, 'Cloyster': 10, 'Machop': 10, 'Tentacruel': 9, 'Charmander': 8, 'Seel': 8, \"Farfetch'd\": 8, 'Abra': 8, 'Gastly': 8, 'Metapod': 8, 'Golduck': 7, 'Krabby': 7, 'Dugtrio': 6, 'Arcanine': 6, 'Machoke': 5, 'Dragonite': 5, 'Pikachu': 5, 'Weezing': 5, 'Raticate': 5, 'Mr. Mime': 5, 'Growlithe': 5, 'Butterfree': 4, 'Tentacool': 4, 'Paras': 4, 'Seaking': 4, 'Chansey': 4, 'Magnemite': 3, 'Jigglypuff': 3, 'Doduo': 3, 'Rattata': 3, 'Totodile': 3, 'Parasect': 3, 'Magmar': 2, 'Marowak': 2, 'Exeggcute': 2, 'Charmeleon': 2, 'Raichu': 2, 'Hitmonchan': 2, 'Ivysaur': 2, 'Vulpix': 2, 'Ekans': 2, 'Nombre completo del usuario': 1, 'Charizard': 1, 'Porygon': 1, 'Poliwhirl': 1, 'Pidgeot': 1, 'Dodrio': 1})\n"
     ]
    }
   ],
   "source": [
    "#Solución prppuesta por tu compañero/a\n",
    "import os\n",
    "from collections import Counter\n",
    "import csv\n",
    "\n",
    "def tres_menores (x):\n",
    "    print(x[len(x)-1],x[len(x)-2],x[len(x)-3])\n",
    "    return\n",
    "# Aca faltan retornar los 3 usuarios con menor actividad ya que solo los imprime\n",
    "\n",
    "accseso = []\n",
    "titulo = os.path.join(os.getcwd(), 'titulo.csv')\n",
    "#crea un nuevo archivo que es innecesario\n",
    "archivo_accesos = os.path.join(os.getcwd(), 'BBB_nuevo.csv')\n",
    "with open(archivo_accesos, 'r', encoding='utf-8') as fp:\n",
    "    reader = csv.reader(fp, delimiter=',')\n",
    "    for user in reader:\n",
    "        accseso.append(user[1])\n",
    "\n",
    "cont = Counter(accseso)\n",
    "tres_menores(cont.most_common())\n",
    "# esta bien pensado pero lo que necesitamos es guardar los 3 mas relevantes, y aca estamos guardando toda la estructura\n",
    "# e imprimiendo los 3, esta bien planteado pero no es lo que pide\n",
    "print(cont)\n"
   ]
  },
  {
   "cell_type": "markdown",
   "id": "1eae6299",
   "metadata": {},
   "source": [
    "## Parte II "
   ]
  },
  {
   "cell_type": "markdown",
   "id": "4e9717da",
   "metadata": {},
   "source": [
    "### Calificá de acuerdo a las siguientes pautas:"
   ]
  },
  {
   "cell_type": "code",
   "execution_count": 10,
   "id": "2762a6c2",
   "metadata": {
    "scrolled": true
   },
   "outputs": [],
   "source": [
    "# Puntos acumulados del trabajo de mi conpañero/a\n",
    "puntos_parte_I = 0"
   ]
  },
  {
   "cell_type": "markdown",
   "id": "fb152d91",
   "metadata": {},
   "source": [
    "1.- **¿El algoritmo para el procesamiento de datos es correcto?:** +5 puntos\n",
    "\n",
    "- Suma 5 puntos si, inpendientemente si define una función o guarda los datos en un archivo como lo pide el enunciado.\n"
   ]
  },
  {
   "cell_type": "code",
   "execution_count": 11,
   "id": "00a9cdca",
   "metadata": {
    "scrolled": true
   },
   "outputs": [],
   "source": [
    "# puntos a sumar de esta consigna:\n",
    "# \n",
    "puntos_parte_I += 5"
   ]
  },
  {
   "cell_type": "markdown",
   "id": "43ba367c",
   "metadata": {},
   "source": [
    "2.-**¿Define la función o genera el archivo de acuerdo a lo pedido??**: +10 puntos\n",
    "\n",
    "- Suma 5 puntos: si lo hace pero presenta algún error.\n",
    "\n",
    "- Suma 10 puntos: si está correcto"
   ]
  },
  {
   "cell_type": "code",
   "execution_count": 5,
   "id": "e3963e5d",
   "metadata": {
    "scrolled": true
   },
   "outputs": [],
   "source": [
    "# puntos a sumar de esta consigna:\n",
    "# La funcion no retorna los datos, solo los imprime\n",
    "puntos_parte_I += 0"
   ]
  },
  {
   "cell_type": "markdown",
   "id": "e619052f",
   "metadata": {},
   "source": [
    "3.- **Sobre el acceso al archivo de datos:** -10  a 5 puntos\n",
    "\n",
    "- Descuento 5 puntos si lo abre utilizando una ruta absoluta (ejemplo: /home/archivo/archivo.csv)\n",
    "- Descuento 5 puntos si no se cierra el archivo.\n",
    "- Suma 5 puntos si usa adecuadamente la sentencia with."
   ]
  },
  {
   "cell_type": "code",
   "execution_count": 6,
   "id": "b55c9896",
   "metadata": {
    "scrolled": true
   },
   "outputs": [],
   "source": [
    "# puntos a sumar de esta consigna:\n",
    "puntos_parte_I += 5"
   ]
  },
  {
   "cell_type": "markdown",
   "id": "1670ee4b",
   "metadata": {},
   "source": [
    "4.- **Alguna otra falla o detalles que quieras marcar?**: - 5 puntos\n",
    "\n",
    "- Especificá cuál es el error que encontrás"
   ]
  },
  {
   "cell_type": "code",
   "execution_count": 7,
   "id": "1e985faa",
   "metadata": {
    "scrolled": true
   },
   "outputs": [],
   "source": [
    "# puntos a descontar de esta consigna:\n",
    "#Que marca el return vacio\n",
    "\n",
    "puntos_parte_I -= 5"
   ]
  },
  {
   "cell_type": "markdown",
   "id": "50b1c6fc",
   "metadata": {},
   "source": [
    "### Total de puntos de la actividad (parte I):"
   ]
  },
  {
   "cell_type": "code",
   "execution_count": 8,
   "id": "afbe1851",
   "metadata": {
    "scrolled": true
   },
   "outputs": [
    {
     "name": "stdout",
     "output_type": "stream",
     "text": [
      "Puntos actividad 1 - Parte I: 5\n"
     ]
    }
   ],
   "source": [
    "print(f\"Puntos actividad 1 - Parte I: {puntos_parte_I if puntos_parte_I >0 else 0}\")"
   ]
  },
  {
   "cell_type": "markdown",
   "id": "34aa40a5",
   "metadata": {},
   "source": [
    "### ¿Algo más que no fue considerado?"
   ]
  },
  {
   "cell_type": "markdown",
   "id": "1e1f3415",
   "metadata": {},
   "source": [
    "--- Dejá acá tus comentarios ---\n",
    "Los comentarios los puse en el programa\n"
   ]
  },
  {
   "cell_type": "markdown",
   "id": "dc26afe2",
   "metadata": {},
   "source": [
    "## Parte II - Total 40 puntos"
   ]
  },
  {
   "cell_type": "code",
   "execution_count": null,
   "id": "a397db33",
   "metadata": {
    "scrolled": true
   },
   "outputs": [],
   "source": [
    "# Puntos acumulados de mi parte II- A COMPLETAR POR LA CATEDRA\n",
    "puntos_parte_II = 0"
   ]
  },
  {
   "cell_type": "markdown",
   "id": "93b1dce8",
   "metadata": {},
   "source": [
    "### Corrección de la parte I de mi compañero/a: 10 puntos\n",
    "\n",
    "- Suma 10 puntos si la evaluación realizada es correcta.\n",
    "- Suma 5 puntos si la sección de arhivos está mal evaluada pero el resto es correcta.\n",
    "- Suma 5 puntos si la sección está bien evalauda pero el resto no. "
   ]
  },
  {
   "cell_type": "code",
   "execution_count": null,
   "id": "8ebab756",
   "metadata": {
    "scrolled": true
   },
   "outputs": [],
   "source": [
    "# Sumo puntos de la sección - A COMPLETAR POR LA CATEDRA\n",
    "puntos_parte_II += 0"
   ]
  },
  {
   "cell_type": "markdown",
   "id": "b6836a8f",
   "metadata": {},
   "source": [
    "### Análisis de la  solución propuesta por mi compañero/a: 10 puntos"
   ]
  },
  {
   "cell_type": "markdown",
   "id": "3631026c",
   "metadata": {},
   "source": [
    "- **¿Qué estructuras de datos usa para recorrer los datos ingresados desde el archivo?** 3 puntos.\n",
    "\n",
    "Utiliza una lista\n",
    "\n",
    "- **¿Usa expresiones lambda, funciones map, filter, reduce lu otra similar? ¿Están correctamente definidas?** 2 puntos.\n",
    "\n",
    "No utiliza ninguna de las mencionaadas\n",
    "\n",
    "- **Recorre el archivo más de lo necesario para resolver el ejercicio? Justificar!!** 5 puntos si justifica.\n",
    "\n",
    "No, el archivo es recorrido lo necesario \n"
   ]
  },
  {
   "cell_type": "code",
   "execution_count": null,
   "id": "d63dc7e9",
   "metadata": {
    "scrolled": true
   },
   "outputs": [],
   "source": [
    "# Sumo puntos de la sección - A COMPLETAR POR LA CATEDRA\n",
    "puntos_parte_II += 0"
   ]
  },
  {
   "cell_type": "markdown",
   "id": "29fdc855",
   "metadata": {},
   "source": [
    "### Escribí una solución alternativa a la planteada por tu compañero/a: 20 puntos\n",
    "Esta solución será evaluada de acuerdo a las mismas pautas establecidas en este cuaderno."
   ]
  },
  {
   "cell_type": "code",
   "execution_count": 14,
   "id": "9a1bc0dc",
   "metadata": {
    "scrolled": true
   },
   "outputs": [
    {
     "name": "stdout",
     "output_type": "stream",
     "text": [
      "[('Dodrio', 1), ('Pidgeot', 1), ('Poliwhirl', 1)]\n"
     ]
    }
   ],
   "source": [
    "# Solución alternativa\n",
    "\n",
    "import os\n",
    "from collections import Counter\n",
    "import csv\n",
    "from typing import Iterable\n",
    "\n",
    "def tres_menores (usuarios:Iterable[list[str]])-> list[tuple[str,int]]:\n",
    "    listado_nombres = [user[1] for user in usuarios]\n",
    "    tres_menos_frecuentes = Counter(listado_nombres).most_common()[:-4:-1]\n",
    "    return tres_menos_frecuentes\n",
    "\n",
    "usuarios_csv_path = os.path.join(os.getcwd(),'BBB_nuevo.csv')\n",
    "with open(usuarios_csv_path, 'r', encoding='utf-8') as fp:\n",
    "    reader = csv.reader(fp, delimiter=',')\n",
    "    print(tres_menores(reader)) "
   ]
  },
  {
   "cell_type": "code",
   "execution_count": null,
   "id": "b61dae7c",
   "metadata": {
    "scrolled": true
   },
   "outputs": [],
   "source": [
    "# Sumo puntos de la sección - A COMPLETAR POR LA CATEDRA\n",
    "puntos_parte_II += 0"
   ]
  },
  {
   "cell_type": "markdown",
   "id": "b0ba1701",
   "metadata": {},
   "source": [
    "### Total puntos de la actividad"
   ]
  },
  {
   "cell_type": "code",
   "execution_count": null,
   "id": "8248b652",
   "metadata": {
    "scrolled": true
   },
   "outputs": [],
   "source": [
    "print(f\"Puntos actividad 1 - Parte II: {puntos_parte_II if puntos_parte_II >0 else 0}\")"
   ]
  }
 ],
 "metadata": {
  "kernelspec": {
   "display_name": "Python 3 (ipykernel)",
   "language": "python",
   "name": "python3"
  },
  "language_info": {
   "codemirror_mode": {
    "name": "ipython",
    "version": 3
   },
   "file_extension": ".py",
   "mimetype": "text/x-python",
   "name": "python",
   "nbconvert_exporter": "python",
   "pygments_lexer": "ipython3",
   "version": "3.10.0"
  }
 },
 "nbformat": 4,
 "nbformat_minor": 5
}
