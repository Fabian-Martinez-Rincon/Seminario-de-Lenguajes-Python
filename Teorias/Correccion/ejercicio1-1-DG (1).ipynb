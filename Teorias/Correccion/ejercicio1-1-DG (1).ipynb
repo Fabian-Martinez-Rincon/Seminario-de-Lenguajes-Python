{
 "cells": [
  {
   "cell_type": "markdown",
   "id": "b015a19f",
   "metadata": {},
   "source": [
    "# Actividad 1 por Python plus\n"
   ]
  },
  {
   "cell_type": "markdown",
   "id": "b0d0ad1d",
   "metadata": {},
   "source": [
    "## Parte I: resolvé el siguiente desafío:"
   ]
  },
  {
   "cell_type": "markdown",
   "id": "8254357a",
   "metadata": {},
   "source": [
    "EJERCICIO 7: dado el archivo denominado [BBB_nuevo.csv](https://archivos.linti.unlp.edu.ar/index.php/s/q9b3rCrlhOS1yWU) que contiene los accesos al recurso BigBlueButton que usamos para las clases virtuales de la materia, se desea generar una función que retorne los 3 usuarios con menos actividad registrada."
   ]
  },
  {
   "cell_type": "code",
   "execution_count": 6,
   "id": "5021bb7c",
   "metadata": {},
   "outputs": [
    {
     "name": "stdout",
     "output_type": "stream",
     "text": [
      "('Dodrio', 1) ('Pidgeot', 1) ('Poliwhirl', 1)\n"
     ]
    }
   ],
   "source": [
    "#Solución\n",
    "import os\n",
    "from collections import Counter\n",
    "import csv\n",
    "\n",
    "def tres_menores (x):\n",
    "    print(x[len(x)-1],x[len(x)-2],x[len(x)-3])\n",
    "    return\n",
    "\n",
    "accseso = []\n",
    "titulo = os.path.join(os.getcwd(), 'titulo.csv')\n",
    "archivo_accesos = os.path.join(os.getcwd(), 'BBB_nuevo.csv')\n",
    "with open(archivo_accesos, 'r', encoding='utf-8') as fp:\n",
    "    reader = csv.reader(fp, delimiter=',')\n",
    "    for user in reader:\n",
    "        accseso.append(user[1])\n",
    "\n",
    "cont = Counter(accseso)\n",
    "tres_menores(cont.most_common())\n",
    "\n",
    "\n",
    "\n",
    "        \n",
    "              \n",
    "\n",
    "        \n",
    "\n",
    "\n",
    "    "
   ]
  }
 ],
 "metadata": {
  "kernelspec": {
   "display_name": "Python 3 (ipykernel)",
   "language": "python",
   "name": "python3"
  },
  "language_info": {
   "codemirror_mode": {
    "name": "ipython",
    "version": 3
   },
   "file_extension": ".py",
   "mimetype": "text/x-python",
   "name": "python",
   "nbconvert_exporter": "python",
   "pygments_lexer": "ipython3",
   "version": "3.10.4"
  }
 },
 "nbformat": 4,
 "nbformat_minor": 5
}
