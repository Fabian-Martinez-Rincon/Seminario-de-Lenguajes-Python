{
 "cells": [
  {
   "cell_type": "markdown",
   "id": "younger-ready",
   "metadata": {
    "slideshow": {
     "slide_type": "slide"
    }
   },
   "source": [
    "# Seminario de Lenguajes - Python\n",
    "## Cursada 2022\n",
    "### Clase 6: GUI - Introducción al manejo de excepciones en Python."
   ]
  },
  {
   "cell_type": "markdown",
   "id": "apparent-asset",
   "metadata": {
    "slideshow": {
     "slide_type": "slide"
    }
   },
   "source": [
    "# ¿Saben qué son las GUI?"
   ]
  },
  {
   "cell_type": "markdown",
   "id": "advance-direction",
   "metadata": {
    "slideshow": {
     "slide_type": "fragment"
    }
   },
   "source": [
    "## GUI: Graphical User Interface"
   ]
  },
  {
   "cell_type": "markdown",
   "id": "further-chase",
   "metadata": {
    "slideshow": {
     "slide_type": "fragment"
    }
   },
   "source": [
    "<center>\n",
    "<img src=\"imagenes/SimpleGUI_todo.png\" alt=\"simpleGUI\" style=\"width:450px;\"/>\n",
    "</center>"
   ]
  },
  {
   "cell_type": "markdown",
   "id": "changed-toner",
   "metadata": {
    "slideshow": {
     "slide_type": "subslide"
    }
   },
   "source": [
    "\n",
    "# GUI en Python\n",
    "\n",
    "- Vamos a usar [PySimpleGUI](https://pysimplegui.readthedocs.io/en/latest/)\n",
    "\n",
    "- Es un **framework** bastante simple para desarrollar interfaces gráficas en Python.\n",
    "- Es software libre:  https://github.com/PySimpleGUI/PySimpleGUI\n",
    "- Se instala con pip: **pip install pysimplegui**\n",
    "\n",
    "- Vamos a ir de a poco...\n",
    "- Más info en: https://pysimplegui.readthedocs.io/en/latest/cookbook/\n",
    "- También en https://realpython.com/pysimplegui-python/\n",
    "\n",
    "\n"
   ]
  },
  {
   "cell_type": "markdown",
   "id": "spoken-fiction",
   "metadata": {
    "slideshow": {
     "slide_type": "subslide"
    }
   },
   "source": [
    "# ¿Con qué elementos podemos trabajar?\n",
    "\n",
    "<img src=\"imagenes/SimpleGUI_todoElementos.png\" alt=\"Elementos de PYSimpleGUI\" style=\"width:1050px;\"/>"
   ]
  },
  {
   "cell_type": "markdown",
   "id": "scenic-paintball",
   "metadata": {
    "slideshow": {
     "slide_type": "subslide"
    }
   },
   "source": [
    "# Popups: las ventanas más sencillas"
   ]
  },
  {
   "cell_type": "code",
   "execution_count": 6,
   "id": "sound-desire",
   "metadata": {
    "slideshow": {
     "slide_type": "fragment"
    }
   },
   "outputs": [
    {
     "data": {
      "text/plain": [
       "'OK'"
      ]
     },
     "execution_count": 6,
     "metadata": {},
     "output_type": "execute_result"
    }
   ],
   "source": [
    "import PySimpleGUI as sg      \n",
    "sg.Popup('Mi primera ventanita')"
   ]
  },
  {
   "cell_type": "markdown",
   "id": "combined-sapphire",
   "metadata": {
    "slideshow": {
     "slide_type": "fragment"
    }
   },
   "source": [
    "- **import PySimpleGUI as sg**, permite acceder a los recursos por  el nombre **sg**."
   ]
  },
  {
   "cell_type": "code",
   "execution_count": 5,
   "id": "lucky-resort",
   "metadata": {
    "slideshow": {
     "slide_type": "fragment"
    }
   },
   "outputs": [
    {
     "data": {
      "text/plain": [
       "'OK'"
      ]
     },
     "execution_count": 5,
     "metadata": {},
     "output_type": "execute_result"
    }
   ],
   "source": [
    "import PySimpleGUI as sg      \n",
    "\n",
    "sg.Popup('Mi  primera ventanita', button_color=('black', 'red'))\n",
    "\n",
    "sg.PopupYesNo('Mi  primera ventanita', button_color=('black', 'green'))\n",
    "\n",
    "sg.PopupOKCancel('Mi  primera ventanita', button_color=('black', 'grey'))\n",
    "\n",
    "texto = sg.PopupGetText('Titulo', 'Ingresá algo')      \n",
    "sg.Popup('Resultados', 'Ingresaste el siguiente texto: ', texto)"
   ]
  },
  {
   "cell_type": "markdown",
   "id": "informational-hamburg",
   "metadata": {
    "slideshow": {
     "slide_type": "subslide"
    }
   },
   "source": [
    "# Creamos una ventana en PySimpleGUI"
   ]
  },
  {
   "cell_type": "code",
   "execution_count": 4,
   "id": "concrete-console",
   "metadata": {
    "slideshow": {
     "slide_type": "fragment"
    }
   },
   "outputs": [
    {
     "data": {
      "text/plain": [
       "(None, [])"
      ]
     },
     "execution_count": 4,
     "metadata": {},
     "output_type": "execute_result"
    }
   ],
   "source": [
    "import PySimpleGUI as sg\n",
    "\n",
    "sg.Window(title=\"Hola Mundo!\", layout=[[]], margins=(100, 50)).read()"
   ]
  },
  {
   "cell_type": "markdown",
   "id": "descending-kidney",
   "metadata": {
    "slideshow": {
     "slide_type": "fragment"
    }
   },
   "source": [
    "- **margins**: tamaño de la ventana en pixeles.\n",
    "- **read()**: devuelve una **tupla** con un **evento** y **los valores** de todos los elementos de entrada en la ventana."
   ]
  },
  {
   "cell_type": "markdown",
   "id": "rolled-fisher",
   "metadata": {
    "slideshow": {
     "slide_type": "subslide"
    }
   },
   "source": [
    "# Sobre los eventos"
   ]
  },
  {
   "cell_type": "code",
   "execution_count": 7,
   "id": "naval-violence",
   "metadata": {
    "slideshow": {
     "slide_type": "fragment"
    }
   },
   "outputs": [],
   "source": [
    "import PySimpleGUI as sg      \n",
    "\n",
    "layout = [[sg.Text(\"Hola Mundo!\")], [sg.Button(\"OK\")]]\n",
    "\n",
    "window = sg.Window(\"Primera Demo\", layout, margins=(200, 150))\n",
    "\n",
    "while True:\n",
    "    event, values = window.read()\n",
    "\n",
    "    if event == \"OK\" or event == sg.WIN_CLOSED:\n",
    "        break\n",
    "\n",
    "window.close()"
   ]
  },
  {
   "cell_type": "markdown",
   "id": "c959c6ab",
   "metadata": {
    "slideshow": {
     "slide_type": "fragment"
    }
   },
   "source": [
    "- ¿Qué representa **sg.WIN_CLOSED**?\n",
    "- ¿Cuándo termina este programa?"
   ]
  },
  {
   "cell_type": "markdown",
   "id": "compact-bandwidth",
   "metadata": {
    "slideshow": {
     "slide_type": "subslide"
    }
   },
   "source": [
    "#  ¿Cómo recuperamos los valores ingresados desde la UI?"
   ]
  },
  {
   "cell_type": "code",
   "execution_count": 10,
   "id": "demanding-account",
   "metadata": {
    "slideshow": {
     "slide_type": "fragment"
    }
   },
   "outputs": [
    {
     "name": "stdout",
     "output_type": "stream",
     "text": [
      "Datos ingresados:  {0: '21', 1: '1'}\n"
     ]
    }
   ],
   "source": [
    "import PySimpleGUI as sg\n",
    "\n",
    "layout = [ [sg.Text('Ingresá primer valor'), sg.InputText()],\n",
    "           [sg.Text('Ingresá segundo valor'), sg.InputText()],\n",
    "           [sg.Button('Ok'), sg.Button('Cancel')] ]\n",
    "\n",
    "window = sg.Window(\"Segunda Demo\", layout, margins=(200, 150))\n",
    "\n",
    "while True:\n",
    "    event, values = window.read()\n",
    "\n",
    "    if event == \"Cancel\" or event == sg.WIN_CLOSED:\n",
    "        break\n",
    "    print('Datos ingresados: ', values)\n",
    "\n",
    "window.close()"
   ]
  },
  {
   "cell_type": "markdown",
   "id": "fb860c6c",
   "metadata": {
    "slideshow": {
     "slide_type": "fragment"
    }
   },
   "source": [
    "- ¿De qué tipo es **values**?"
   ]
  },
  {
   "cell_type": "markdown",
   "id": "occupied-calculation",
   "metadata": {
    "slideshow": {
     "slide_type": "subslide"
    }
   },
   "source": [
    "# Layout: ¿cómo organizamos la UI?\n",
    "\n",
    "\n",
    "Representa al esquema  o  diseño de nuestra UI: **cómo se distribuyen los elementos en la UI**.\n"
   ]
  },
  {
   "cell_type": "code",
   "execution_count": 11,
   "id": "committed-penetration",
   "metadata": {
    "slideshow": {
     "slide_type": "fragment"
    }
   },
   "outputs": [],
   "source": [
    "layout = [ [sg.Text('Ingresá primer valor'), sg.InputText()],\n",
    "           [sg.Text('Ingresá segundo valor'), sg.InputText()],\n",
    "           [sg.Button('Ok'), sg.Button('Cancel')] ]"
   ]
  },
  {
   "cell_type": "markdown",
   "id": "bulgarian-doctor",
   "metadata": {
    "slideshow": {
     "slide_type": "fragment"
    }
   },
   "source": [
    "- ¿De qué tipo es la variable layout?\n",
    "- ¿Qué elementos estamos incluyendo?"
   ]
  },
  {
   "cell_type": "markdown",
   "id": "through-kinase",
   "metadata": {
    "slideshow": {
     "slide_type": "subslide"
    }
   },
   "source": [
    "\n",
    "# Elementos de la UI\n",
    "\n",
    "- Acá van algunos disponibles en PySimpleGUI\n",
    "\n",
    "\t- Buttons: File Browse, Folder Browse, Color chooser, Date picker, etc.\n",
    "\t- Checkbox, Radio Button, Listbox    \n",
    "\t- Slider, Progress Bar \n",
    "\t- Multi-line Text Input, Scroll-able Output  \n",
    "\t- Image, Menu, Frame, Column, Graph, Table\n",
    "\n",
    "- Referencias: https://pysimplegui.readthedocs.io/en/latest/call%20reference/#element-and-function-call-reference"
   ]
  },
  {
   "cell_type": "markdown",
   "id": "certain-battle",
   "metadata": {
    "slideshow": {
     "slide_type": "subslide"
    }
   },
   "source": [
    "# Agreguemos elementos a nuestra ventana"
   ]
  },
  {
   "cell_type": "code",
   "execution_count": 1,
   "id": "appreciated-hindu",
   "metadata": {
    "slideshow": {
     "slide_type": "fragment"
    }
   },
   "outputs": [
    {
     "data": {
      "text/plain": [
       "'OK'"
      ]
     },
     "execution_count": 1,
     "metadata": {},
     "output_type": "execute_result"
    }
   ],
   "source": [
    "import PySimpleGUI as sg      \n",
    "\n",
    "layout = [[sg.Input('Ingresa algo')], \n",
    "          [sg.Listbox(values=('Item 1', 'Item 2', 'Item 3'))],   \n",
    "          [sg.OK()]] \n",
    "\n",
    "window = sg.Window(\"Elementos básicos\", layout, margins=(200, 150))\n",
    "event, values = window.read()\n",
    "\n",
    "sg.Popup(event, values, line_width=200)      \n"
   ]
  },
  {
   "cell_type": "code",
   "execution_count": 3,
   "id": "dental-praise",
   "metadata": {
    "slideshow": {
     "slide_type": "fragment"
    }
   },
   "outputs": [],
   "source": [
    "sg.ChangeLookAndFeel('DarkAmber')      \n",
    "\n",
    "layout = [[sg.Listbox(values=('Item 1', 'Item 2', 'Item 3'), background_color='yellow', size=(20,3)),\n",
    "          [sg.Input('Last input')],\n",
    "          [sg.ColorChooserButton(\"  Elegi color\")],\n",
    "          [sg.OK()]] ]"
   ]
  },
  {
   "cell_type": "markdown",
   "id": "varying-number",
   "metadata": {
    "slideshow": {
     "slide_type": "subslide"
    }
   },
   "source": [
    "\n",
    "# PySimpleGUI en GitHub\n",
    "\n",
    "\n",
    "* En [GitHub](https://github.com/PySimpleGUI)  hay mucha información y referencias útiles.\n",
    "* Por ejemplo, hay [varios ejemplos](https://github.com/PySimpleGUI/PySimpleGUI/tree/master/DemoPrograms) que pueden servir de base para nuestros desarrollos.\n",
    "                             "
   ]
  },
  {
   "cell_type": "markdown",
   "id": "internal-serve",
   "metadata": {
    "slideshow": {
     "slide_type": "fragment"
    }
   },
   "source": [
    "# ¡¡Las ventajas del software libre!!"
   ]
  },
  {
   "cell_type": "markdown",
   "id": "0d5e751a",
   "metadata": {
    "slideshow": {
     "slide_type": "slide"
    }
   },
   "source": [
    "# Probemos los siguientes códigos:"
   ]
  },
  {
   "cell_type": "code",
   "execution_count": 4,
   "id": "31ac348d",
   "metadata": {
    "slideshow": {
     "slide_type": "fragment"
    }
   },
   "outputs": [
    {
     "ename": "FileNotFoundError",
     "evalue": "[Errno 2] No such file or directory: 'pppppppp.txt'",
     "output_type": "error",
     "traceback": [
      "\u001b[1;31m---------------------------------------------------------------------------\u001b[0m",
      "\u001b[1;31mFileNotFoundError\u001b[0m                         Traceback (most recent call last)",
      "\u001b[1;32mc:\\Users\\fabian\\Desktop\\Seminario-de-Lenguajes-Python\\Teorias\\Clase6_GUI_excepciones.ipynb Cell 30'\u001b[0m in \u001b[0;36m<cell line: 1>\u001b[1;34m()\u001b[0m\n\u001b[1;32m----> <a href='vscode-notebook-cell:/c%3A/Users/fabian/Desktop/Seminario-de-Lenguajes-Python/Teorias/Clase6_GUI_excepciones.ipynb#ch0000029?line=0'>1</a>\u001b[0m archivo \u001b[39m=\u001b[39m \u001b[39mopen\u001b[39;49m(\u001b[39m\"\u001b[39;49m\u001b[39mpppppppp.txt\u001b[39;49m\u001b[39m\"\u001b[39;49m)\n",
      "\u001b[1;31mFileNotFoundError\u001b[0m: [Errno 2] No such file or directory: 'pppppppp.txt'"
     ]
    }
   ],
   "source": [
    "archivo = open(\"pppppppp.txt\")"
   ]
  },
  {
   "cell_type": "code",
   "execution_count": null,
   "id": "0b2e6f5c",
   "metadata": {
    "slideshow": {
     "slide_type": "fragment"
    }
   },
   "outputs": [],
   "source": [
    "mis_notas = (10, 7, 7)\n",
    "mis_notas[0] = 11111\n",
    "print(mis_notas[5])"
   ]
  },
  {
   "cell_type": "markdown",
   "id": "66eccf65",
   "metadata": {
    "slideshow": {
     "slide_type": "fragment"
    }
   },
   "source": [
    "## ¡Esto no puede pasar nunca en nuestros programas!"
   ]
  },
  {
   "cell_type": "markdown",
   "id": "25b60448",
   "metadata": {
    "slideshow": {
     "slide_type": "subslide"
    }
   },
   "source": [
    "# ¿Qué es un excepción?"
   ]
  },
  {
   "cell_type": "markdown",
   "id": "641c0e68",
   "metadata": {
    "slideshow": {
     "slide_type": "fragment"
    }
   },
   "source": [
    "- Una **excepción** es un acontecimiento, que ocurre durante la ejecución de un programa, que **interrumpe** el flujo normal de las instrucciones del programa. "
   ]
  },
  {
   "cell_type": "markdown",
   "id": "ac6725c7",
   "metadata": {
    "slideshow": {
     "slide_type": "subslide"
    }
   },
   "source": [
    "# ¿Qué situaciones pueden levantar excepciones?\n",
    "\n",
    "- Abrir un archivo que no existe o  donde no tenemos permisos adecuados.\n",
    "- Acceder a un elemento de un diccionario con una clave que no existe.\n",
    "- Invocar a un método o función que no fue definida.\n",
    "- Referirse a una variable que no fue definida.\n",
    "- Mezclar tipos de datos sin convertirlos previamente.\n",
    "- Etc."
   ]
  },
  {
   "cell_type": "markdown",
   "id": "aa09de9b",
   "metadata": {
    "slideshow": {
     "slide_type": "subslide"
    }
   },
   "source": [
    "# Excepciones \"sin manejar\"\n",
    "\n",
    "<img src=\"imagenes/excepciones_inicio.png\" alt=\"excepciones\" style=\"width:850px;\"/>\n"
   ]
  },
  {
   "cell_type": "markdown",
   "id": "cae97ea3",
   "metadata": {
    "slideshow": {
     "slide_type": "subslide"
    }
   },
   "source": [
    "# ¿Qué debemos investigar para trabajar con  excepciones?\n",
    "\n",
    "Primero: ¿el lenguaje de programación tiene soporte para el manejo de excepciones?\n",
    "   - Si no presenta ningún mecanísmo para esto, podríamos simularlo con otros recursos. Ejemplo: Pascal o C.\n",
    "   - Si provee mecanismos para el manejo de excepciones: ¿cuáles? Ejemplo: Python, Javascript, Java, Ruby, etc."
   ]
  },
  {
   "cell_type": "markdown",
   "id": "f4bb026c",
   "metadata": {
    "slideshow": {
     "slide_type": "subslide"
    }
   },
   "source": [
    "# Si tenemos recursos para manejar excepciones...\n",
    "### ¿Qué debemos investigar para trabajar con  excepciones?\n",
    "\n",
    "- ¿Qué acción se toma después de levantada y manejada una excepción? ¿Se continúa con la ejecución de la unidad que lo provocó o se termina?\n",
    "- ¿Cómo se alcanza una excepción? \n",
    "- ¿Cómo especificar los manejadores de excepciones que se deben ejecutar cuando se alcanzan las mismas?\n",
    "- ¿Qué sucede cuando no se encuentra un manejador para una excepción levantada?\n",
    "- ¿El lenguaje tiene excepciones predefinidas?\n",
    "- ¿Podemos levantar en forma explícita una excepción?\n",
    "- ¿Podemos crear nuestras propias excepciones?"
   ]
  },
  {
   "cell_type": "markdown",
   "id": "1016d89d",
   "metadata": {
    "slideshow": {
     "slide_type": "fragment"
    }
   },
   "source": [
    "#### Vamos a responder esto en estas clases"
   ]
  },
  {
   "cell_type": "markdown",
   "id": "e4c05b12",
   "metadata": {
    "slideshow": {
     "slide_type": "slide"
    }
   },
   "source": [
    "# Excepciones en Python\n",
    "\n",
    "Se utiliza el bloque **try: except:**\n",
    "\n",
    "```python\n",
    "\n",
    "try:\n",
    "    sentencias\n",
    "except nombreExcepción:\n",
    "    sentencias\n",
    "except nombreExcepción:\n",
    "    sentencias\n",
    "except:\n",
    "```\n",
    "\n",
    "- [+Info](https://docs.python.org/3/library/exceptions.html)"
   ]
  },
  {
   "cell_type": "markdown",
   "id": "f80b18f0",
   "metadata": {
    "slideshow": {
     "slide_type": "subslide"
    }
   },
   "source": [
    "# Veamos un ejemplo"
   ]
  },
  {
   "cell_type": "code",
   "execution_count": 5,
   "id": "d77739a8",
   "metadata": {
    "slideshow": {
     "slide_type": "fragment"
    }
   },
   "outputs": [
    {
     "name": "stdout",
     "output_type": "stream",
     "text": [
      "10\n"
     ]
    }
   ],
   "source": [
    "XX = 10\n",
    "try:\n",
    "    print(XX)\n",
    "except NameError:\n",
    "    print(\"Usaste una variable que no está definida\")"
   ]
  },
  {
   "cell_type": "markdown",
   "id": "6eae0fee",
   "metadata": {
    "slideshow": {
     "slide_type": "subslide"
    }
   },
   "source": [
    "# ¿Dónde debería estar el manejador de la excepción?"
   ]
  },
  {
   "cell_type": "code",
   "execution_count": 7,
   "id": "34c7a69c",
   "metadata": {
    "slideshow": {
     "slide_type": "fragment"
    }
   },
   "outputs": [
    {
     "name": "stdout",
     "output_type": "stream",
     "text": [
      "['www.instagram.com/williamcampbellok']\n"
     ]
    }
   ],
   "source": [
    "bandas = {\n",
    "    \"William Campbell\": {\"ciudad\": \"La Plata\", \"ref\": \"www.instagram.com/williamcampbellok\"},\n",
    "    \"Buendia\": {\"ciudad\": \"La Plata\", \"ref\":\"https://buendia.bandcamp.com/\"},\n",
    "    \"Lúmine\": {\"ciudad\": \"La Plata\", \"ref\": \"https://www.instagram.com/luminelp/\"},\n",
    "    \"La Renga\": {\"ciudad\": \"XXXX\", \"ref\": \"https://www.larenga.com/\"},\n",
    "    \"Divididos\": {\"ciudad\": \"XXXX\", \"ref\": \"http://divididos.com.ar/\"}}\n",
    "mis_bandas = []\n",
    "nombre_banda =  input(\"Ingresá el nombre de la banda que te gusta\")\n",
    "mis_bandas.append(bandas[nombre_banda][\"ref\"])\n",
    "                            \n",
    "print(mis_bandas)"
   ]
  },
  {
   "cell_type": "markdown",
   "id": "d06caded",
   "metadata": {
    "slideshow": {
     "slide_type": "fragment"
    }
   },
   "source": [
    "- ¿Cuándo se puede producir una excepción en este código?\n",
    "- ¿Qué excepción se produce?\n",
    "- ¿Dónde ubicamos las sentencias que **manejen** la excepción?"
   ]
  },
  {
   "cell_type": "code",
   "execution_count": null,
   "id": "04915f19",
   "metadata": {
    "slideshow": {
     "slide_type": "subslide"
    }
   },
   "outputs": [],
   "source": [
    "bandas = {\n",
    "    \"William Campbell\": {\"ciudad\": \"La Plata\", \"ref\": \"www.instagram.com/williamcampbellok\"},\n",
    "    \"Buendia\": {\"ciudad\": \"La Plata\", \"ref\":\"https://buendia.bandcamp.com/\"},\n",
    "    \"Lúmine\": {\"ciudad\": \"La Plata\", \"ref\": \"https://www.instagram.com/luminelp/\"},\n",
    "    \"La Renga\": {\"ciudad\": \"XXXX\", \"ref\": \"ALGUNA\"},\n",
    "    \"Divididos\": {\"ciudad\": \"XXXX\", \"ref\": \"xxx\"}}\n",
    "mis_bandas = []\n",
    "nombre_banda =  input(\"Ingresá el nombre de la banda que te gusta\")\n",
    "\n",
    "try:\n",
    "     mis_bandas.append({\"banda\": nombre_banda, \"url\":bandas[nombre_banda]})\n",
    "except KeyError:\n",
    "    print(\"Ingresaste el nombre de una banda que no tengo registrada\")\n",
    "                            \n",
    "print(mis_bandas)"
   ]
  },
  {
   "cell_type": "markdown",
   "id": "aff529a8",
   "metadata": {
    "slideshow": {
     "slide_type": "fragment"
    }
   },
   "source": [
    "- Ahora el programa no se **rompe** si ingreso un valor que NO es clave en mi diccionario."
   ]
  },
  {
   "cell_type": "markdown",
   "id": "0ccff77d",
   "metadata": {
    "slideshow": {
     "slide_type": "subslide"
    }
   },
   "source": [
    "# Seguimos con las bandas..."
   ]
  },
  {
   "cell_type": "code",
   "execution_count": null,
   "id": "66019988",
   "metadata": {},
   "outputs": [],
   "source": [
    "mis_bandas = []\n",
    "nombre_banda =  input(\"Ingresá el nombre de la banda que te gusta\")\n",
    "try:\n",
    "    while nombre_banda != \"FIN\":\n",
    "        mis_bandas.append({\"banda\": nombre_banda, \"datos\":bandas[nombre_banda]})\n",
    "        nombre_banda =  input(\"Ingresá el nombre de la banda que te gusta\")\n",
    "except KeyError:\n",
    "    print(\"Ingresaste el nombre de una banda que no tengo registrada. Intentalo de nuevo.\")\n",
    "print(mis_bandas)"
   ]
  },
  {
   "cell_type": "markdown",
   "id": "34413212",
   "metadata": {
    "slideshow": {
     "slide_type": "fragment"
    }
   },
   "source": [
    "### ¿Qué podemos decir de este ejemplo? ¿Es cierto que siempre finalizamos la iteración con \"FIN\"?"
   ]
  },
  {
   "cell_type": "markdown",
   "id": "f35e00b5",
   "metadata": {
    "slideshow": {
     "slide_type": "fragment"
    }
   },
   "source": [
    "- ¿Qué acción se toma después de levantada y manejada una excepción?. ¿Se continúa con la ejecución de la unidad que lo provocó o se termina?"
   ]
  },
  {
   "cell_type": "markdown",
   "id": "0f022647",
   "metadata": {
    "slideshow": {
     "slide_type": "subslide"
    }
   },
   "source": [
    "# Python FINALIZA el bloque que levanta la excepción  \n",
    "\n",
    "- En el caso anterior: ¿cuál es el bloque que finaliza?"
   ]
  },
  {
   "cell_type": "code",
   "execution_count": null,
   "id": "617d3d7f",
   "metadata": {},
   "outputs": [],
   "source": [
    "mis_bandas = []\n",
    "nombre_banda =  input(\"Ingresá el nombre de la banda que te gusta\")\n",
    "try:\n",
    "    while nombre_banda != \"FIN\":\n",
    "        mis_bandas.append({\"banda\": nombre_banda, \"datos\":bandas[nombre_banda]})\n",
    "        nombre_banda =  input(\"Ingresá el nombre de la banda que te gusta\")\n",
    "    print(\"Hola\")\n",
    "except KeyError:\n",
    "    print(\"Ingresaste el nombre de una banda que no tengo registrada. Intentalo de nuevo.\")\n",
    "print(mis_bandas)"
   ]
  },
  {
   "cell_type": "markdown",
   "id": "aceac4dc",
   "metadata": {
    "slideshow": {
     "slide_type": "fragment"
    }
   },
   "source": [
    "El manejo de excepciones hizo que al intentar acceder al diccionario con una clave inexistente:\n",
    "- el program **no se rompa**,\n",
    "- tomamos alguna acción. En este caso, **informamos cuál es el problema** y,\n",
    "- el programa continúa con la ejecución hasta el final.\n",
    "\n",
    "Pero: ¿el while finaliza siempre con FIN?"
   ]
  },
  {
   "cell_type": "markdown",
   "id": "d15557db",
   "metadata": {
    "slideshow": {
     "slide_type": "subslide"
    }
   },
   "source": [
    "# ¿Y si no queremos que se corte el ingreso de datos?"
   ]
  },
  {
   "cell_type": "code",
   "execution_count": null,
   "id": "05387c6d",
   "metadata": {},
   "outputs": [],
   "source": [
    "mis_bandas = []\n",
    "\n",
    "nombre_banda =  input(\"Ingresá el nombre de la banda que te gusta\")\n",
    "while nombre_banda != \"FIN\":\n",
    "    try:\n",
    "        mis_bandas.append({\"banda\": nombre_banda, \"datos\":bandas[nombre_banda]})\n",
    "    except KeyError:\n",
    "        print(\"Ingresaste el nombre de una banda que no tengo registrada. Intentalo de nuevo.\")\n",
    "    \n",
    "    nombre_banda =  input(\"Ingresá el nombre de la banda que te gusta\")\n",
    "                            \n",
    "print(mis_bandas)"
   ]
  },
  {
   "cell_type": "markdown",
   "id": "103edd78",
   "metadata": {
    "slideshow": {
     "slide_type": "fragment"
    }
   },
   "source": [
    "- ¿Cuál es el bloque que finaliza su ejecución?\n",
    "- Afectamos el manejador de excepciones SOLO a la sentencia que intenta acceder el diccionario."
   ]
  },
  {
   "cell_type": "markdown",
   "id": "c40ac819",
   "metadata": {
    "slideshow": {
     "slide_type": "slide"
    }
   },
   "source": [
    "# Tarea para el hogar:\n",
    "\n",
    "- Investigar para qué se utilizan las cláusulas **finally** y **else** en el bloque try.. except"
   ]
  },
  {
   "cell_type": "markdown",
   "id": "ca2841d5",
   "metadata": {
    "slideshow": {
     "slide_type": "slide"
    }
   },
   "source": [
    "#  Seguimos la próxima ..."
   ]
  }
 ],
 "metadata": {
  "celltoolbar": "Slideshow",
  "kernelspec": {
   "display_name": "Python 3 (ipykernel)",
   "language": "python",
   "name": "python3"
  },
  "language_info": {
   "codemirror_mode": {
    "name": "ipython",
    "version": 3
   },
   "file_extension": ".py",
   "mimetype": "text/x-python",
   "name": "python",
   "nbconvert_exporter": "python",
   "pygments_lexer": "ipython3",
   "version": "3.10.0"
  }
 },
 "nbformat": 4,
 "nbformat_minor": 5
}
