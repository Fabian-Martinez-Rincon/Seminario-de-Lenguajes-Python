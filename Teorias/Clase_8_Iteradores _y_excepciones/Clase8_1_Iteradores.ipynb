{
 "cells": [
  {
   "cell_type": "markdown",
   "id": "typical-option",
   "metadata": {
    "slideshow": {
     "slide_type": "slide"
    }
   },
   "source": [
    "### Seminario de Lenguajes - Python\n",
    "## Cursada 2022\n",
    "### Iteradores -  Definición de nuevas excepciones"
   ]
  },
  {
   "cell_type": "markdown",
   "id": "wrong-remainder",
   "metadata": {
    "slideshow": {
     "slide_type": "slide"
    }
   },
   "source": [
    "# ¿Qué observan en el siguiente código?"
   ]
  },
  {
   "cell_type": "code",
   "execution_count": null,
   "id": "another-peninsula",
   "metadata": {
    "slideshow": {
     "slide_type": "fragment"
    }
   },
   "outputs": [],
   "source": [
    "cadena = \"Seminario de Python\"\n",
    "for caracter in cadena:\n",
    "    print(caracter)\n",
    "\n",
    "lista = ['esto', 'es', 'una', 'lista']\n",
    "for palabra in lista:\n",
    "    print(palabra)\n",
    "\n",
    "superheroes = { 'Ironman' : 'Marvel', 'Batman' : 'DC'}\n",
    "for clave, valor in superheroes.items():\n",
    "    print(\"{} : {}\". format(clave, valor))\n",
    "\n",
    "for linea in open(\"imagine.txt\"):\n",
    "    print(linea)"
   ]
  },
  {
   "cell_type": "markdown",
   "id": "placed-financing",
   "metadata": {
    "slideshow": {
     "slide_type": "subslide"
    }
   },
   "source": [
    "# Todas son secuencias iterables\n",
    "\n",
    "## ¿Qué significa?\n",
    "\t\n",
    "- Todas pueden ser recorridas por la estructura: **for** var **in** secuencia."
   ]
  },
  {
   "cell_type": "markdown",
   "id": "behind-technology",
   "metadata": {
    "slideshow": {
     "slide_type": "fragment"
    }
   },
   "source": [
    "- Todas implementan un método especial denominado **\\_\\_iter__**. \n",
    "    -  \\_\\_iter__ devuelve un iterador capaz de recorrer la secuencia.\n",
    "\n",
    "Un **iterador** es un objeto que permite recorrer uno a uno los elementos de una estructura de datos para poder operar con ellos."
   ]
  },
  {
   "cell_type": "markdown",
   "id": "surprising-persian",
   "metadata": {
    "slideshow": {
     "slide_type": "subslide"
    }
   },
   "source": [
    "# Iteradores\n",
    "\n",
    "- Un iterador tiene que implementar un método **\\_\\_next__** que debe devolver los elementos, de a uno por vez, comenzando por el primero. \n",
    "- Y al llegar al final de la estructura, debe levantar una excepción de tipo **StopIteration**."
   ]
  },
  {
   "cell_type": "markdown",
   "id": "supposed-theory",
   "metadata": {
    "slideshow": {
     "slide_type": "subslide"
    }
   },
   "source": [
    "# Los siguientes códigos son equivalentes:"
   ]
  },
  {
   "cell_type": "code",
   "execution_count": null,
   "id": "downtown-decade",
   "metadata": {
    "slideshow": {
     "slide_type": "fragment"
    }
   },
   "outputs": [],
   "source": [
    "lista = ['uno', 'dos', 'tres']\n",
    "for palabra in lista:\n",
    "    print(palabra)"
   ]
  },
  {
   "cell_type": "code",
   "execution_count": null,
   "id": "individual-russia",
   "metadata": {
    "slideshow": {
     "slide_type": "fragment"
    }
   },
   "outputs": [],
   "source": [
    "iterador = iter(lista)\n",
    "while True:\n",
    "    try:\n",
    "        palabra = next(iterador) # o iterador.__next__()\n",
    "    except StopIteration:\n",
    "        break\n",
    "    print(palabra)"
   ]
  },
  {
   "cell_type": "markdown",
   "id": "durable-sculpture",
   "metadata": {
    "slideshow": {
     "slide_type": "fragment"
    }
   },
   "source": [
    "- La función **iter** retorna un objeto iterador."
   ]
  },
  {
   "cell_type": "markdown",
   "id": "recent-dollar",
   "metadata": {
    "slideshow": {
     "slide_type": "subslide"
    }
   },
   "source": [
    "# Veamos este ejemplo: "
   ]
  },
  {
   "cell_type": "code",
   "execution_count": null,
   "id": "aging-reconstruction",
   "metadata": {
    "slideshow": {
     "slide_type": "fragment"
    }
   },
   "outputs": [],
   "source": [
    "class CadenaInvertida:\n",
    "    def __init__(self, cadena):\n",
    "        self._cadena = cadena\n",
    "        self._posicion = len(cadena)\n",
    "\n",
    "    def __iter__(self):\n",
    "        return(self) \n",
    "\n",
    "    def __next__(self):\n",
    "        if self._posicion == 0:\n",
    "            raise(StopIteration)\n",
    "        self._posicion = self._posicion - 1\n",
    "        return(self._cadena[self._posicion])\n",
    "\n",
    "cadena_invertida = CadenaInvertida('Seminario de Python')\n",
    "\n",
    "for caracter in cadena_invertida:\n",
    "     print(caracter, end=' ')"
   ]
  },
  {
   "cell_type": "markdown",
   "id": "arbitrary-proof",
   "metadata": {
    "slideshow": {
     "slide_type": "fragment"
    }
   },
   "source": [
    "- ¿Qué creen que imprime?"
   ]
  },
  {
   "cell_type": "markdown",
   "id": "hollow-writer",
   "metadata": {
    "slideshow": {
     "slide_type": "slide"
    }
   },
   "source": [
    "# Podemos definir nuestras excepciones"
   ]
  },
  {
   "cell_type": "code",
   "execution_count": null,
   "id": "micro-organization",
   "metadata": {
    "slideshow": {
     "slide_type": "fragment"
    }
   },
   "outputs": [],
   "source": [
    "class ExcepcionRara(Exception):\n",
    "    \"\"\" Esta excepción se producirá cuando .....\"\"\"\n",
    "    \n",
    "    def __init__(self, valor):\n",
    "        self.data = valor\n",
    "        \n",
    "    def __str__(self):\n",
    "        return f\"Info: {self.data}\""
   ]
  },
  {
   "cell_type": "markdown",
   "id": "ranking-colon",
   "metadata": {
    "slideshow": {
     "slide_type": "fragment"
    }
   },
   "source": [
    "- Las excepciones definidas por el usuario deberán derivar de la clase Exception, directa o indirectamente."
   ]
  },
  {
   "cell_type": "markdown",
   "id": "educated-partner",
   "metadata": {
    "slideshow": {
     "slide_type": "subslide"
    }
   },
   "source": [
    "# ¿Cómo levantamos esta excepción?"
   ]
  },
  {
   "cell_type": "markdown",
   "id": "amino-edmonton",
   "metadata": {
    "slideshow": {
     "slide_type": "fragment"
    }
   },
   "source": [
    "- Como levantamos cualquier otra excepción: **raise**"
   ]
  },
  {
   "cell_type": "code",
   "execution_count": null,
   "id": "controlled-friday",
   "metadata": {
    "slideshow": {
     "slide_type": "fragment"
    }
   },
   "outputs": [],
   "source": [
    "try:\n",
    "    raise ExcepcionRara(\"Hola mundo\")\n",
    "    \n",
    "except ExcepcionRara as e:\n",
    "    print(f\"Ups! Se produjo la excepción rara!! {e}\")"
   ]
  },
  {
   "cell_type": "markdown",
   "id": "patient-filename",
   "metadata": {
    "slideshow": {
     "slide_type": "subslide"
    }
   },
   "source": [
    "# Algunas convenciones\n",
    "\n",
    "- Según la PEP 8, el nombre de de la clase debería tener el sufijo \"Error\", **si la excepción representa un error**.\n",
    "- Veamos este ejemplo de la [documentación oficial](https://docs.python.org/es/3/tutorial/errors.html):"
   ]
  },
  {
   "cell_type": "code",
   "execution_count": null,
   "id": "internal-personal",
   "metadata": {
    "slideshow": {
     "slide_type": "fragment"
    }
   },
   "outputs": [],
   "source": [
    "class Error(Exception):\n",
    "    \"\"\"Base class for exceptions in this module.\"\"\"\n",
    "    pass\n",
    "\n",
    "class InputError(Error):\n",
    "    \"\"\"Exception raised for errors in the input.\n",
    "    Attributes:\n",
    "        expression -- input expression in which the error occurred\n",
    "        message -- explanation of the error\n",
    "    \"\"\"\n",
    "\n",
    "    def __init__(self, expression, message):\n",
    "        self.expression = expression\n",
    "        self.message = message"
   ]
  },
  {
   "cell_type": "code",
   "execution_count": null,
   "id": "offensive-conspiracy",
   "metadata": {
    "slideshow": {
     "slide_type": "fragment"
    }
   },
   "outputs": [],
   "source": [
    "try:\n",
    "    raise InputError(\"xxx\",\"hola\")\n",
    "except InputError as e: \n",
    "    print(e)"
   ]
  },
  {
   "cell_type": "markdown",
   "id": "fuzzy-birth",
   "metadata": {
    "slideshow": {
     "slide_type": "notes"
    }
   },
   "source": [
    "#  Al crear un módulo que puede producir distintos errores, se puede crear una clase base para las excepciones definidas en ese módulo y extenderla para crear clases derivadas correspondientes."
   ]
  },
  {
   "cell_type": "markdown",
   "id": "gothic-missouri",
   "metadata": {
    "slideshow": {
     "slide_type": "slide"
    }
   },
   "source": [
    "<img src=\"imagenes/portada_video.png\" alt=\"nos vemos el martes\" style=\"width:1050px;\"/>\n"
   ]
  }
 ],
 "metadata": {
  "celltoolbar": "Slideshow",
  "kernelspec": {
   "display_name": "Python 3 (ipykernel)",
   "language": "python",
   "name": "python3"
  },
  "language_info": {
   "codemirror_mode": {
    "name": "ipython",
    "version": 3
   },
   "file_extension": ".py",
   "mimetype": "text/x-python",
   "name": "python",
   "nbconvert_exporter": "python",
   "pygments_lexer": "ipython3",
   "version": "3.10.2"
  }
 },
 "nbformat": 4,
 "nbformat_minor": 5
}
