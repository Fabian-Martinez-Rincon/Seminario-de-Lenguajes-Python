{
 "cells": [
  {
   "cell_type": "markdown",
   "id": "handed-string",
   "metadata": {
    "slideshow": {
     "slide_type": "slide"
    }
   },
   "source": [
    "# Seminario de Lenguajes - Python\n",
    "## Cursada 2022\n",
    "### Aspectos básicos de  POO"
   ]
  },
  {
   "cell_type": "markdown",
   "id": "determined-question",
   "metadata": {
    "slideshow": {
     "slide_type": "subslide"
    }
   },
   "source": [
    "# Repasemos algunos conceptos vistos previamente"
   ]
  },
  {
   "cell_type": "markdown",
   "id": "complete-weight",
   "metadata": {
    "slideshow": {
     "slide_type": "subslide"
    }
   },
   "source": [
    "# <center> Un objeto es una colección de datos con un comportamiento asociado en una única entidad.</center>\n",
    "\n",
    "<center>\n",
    "<img src=\"imagenes/objeto_jugador.png\" alt=\"Objeto Jugador\" style=\"width:350px;\"/>\n",
    "</center>"
   ]
  },
  {
   "cell_type": "markdown",
   "id": "italian-hobby",
   "metadata": {
    "slideshow": {
     "slide_type": "subslide"
    }
   },
   "source": [
    "# POO: conceptos básicos\n",
    "\n",
    "- En POO un programa puede verse como un **conjunto de objetos** que interactúan entre ellos **enviándose mensajes**.\n",
    "- Estos mensajes están asociados al **comportamiento** del objeto (conjunto de **métodos**).\n",
    "\n",
    "<center>\n",
    "<img src=\"imagenes/envio_mensaje.png\" alt=\"Envío de mensajes\" style=\"width:650px;\"/>\n",
    "</center>\n"
   ]
  },
  {
   "cell_type": "markdown",
   "id": "subjective-authorization",
   "metadata": {
    "slideshow": {
     "slide_type": "slide"
    }
   },
   "source": [
    "# El mundo de los objetos \n",
    "\n",
    "<center>\n",
    "<img src=\"imagenes/objetos.png\" alt=\"Muchos objetos\" style=\"width:850px;\"/>\n",
    "</center>\n",
    "\n",
    "- No todos los objetos son iguales, ni tienen el mismo comportamiento.\n",
    "- Así agrupamos a los objetos de acuerdo a características comunes."
   ]
  },
  {
   "cell_type": "markdown",
   "id": "reserved-experiment",
   "metadata": {
    "slideshow": {
     "slide_type": "subslide"
    }
   },
   "source": [
    "# Objetos y clases\n",
    "\n",
    "\n",
    "##  <center> Una clase describe las propiedades o atributos de objetos y las acciones o métodos que pueden hacer o ejecutar dichos objetos.</center> \n"
   ]
  },
  {
   "cell_type": "markdown",
   "id": "refined-retention",
   "metadata": {
    "slideshow": {
     "slide_type": "fragment"
    }
   },
   "source": [
    "<center>\n",
    "<img src=\"imagenes/clases.png\" alt=\"Clases\" style=\"width:550px;\"/></center>"
   ]
  },
  {
   "cell_type": "markdown",
   "id": "0ac9806d",
   "metadata": {
    "slideshow": {
     "slide_type": "subslide"
    }
   },
   "source": [
    "# La clase SuperHeroe"
   ]
  },
  {
   "cell_type": "code",
   "execution_count": null,
   "id": "3cc50386",
   "metadata": {
    "slideshow": {
     "slide_type": "fragment"
    }
   },
   "outputs": [],
   "source": [
    "class SuperHeroe():\n",
    "    \"\"\" Esta clase  define a un superheroe \n",
    "    villanos:  representa a los enemigos de todos los superhéroes\n",
    "    \"\"\"  \n",
    "    villanos = []\n",
    "        \n",
    "    def __init__(self, nombre, alias):\n",
    "        self._nombre = nombre\n",
    "        self._enemigos = []\n",
    "                \n",
    "    def get_nombre(self):\n",
    "        return self._nombre\n",
    "  \n",
    "    def get_enemigos(self):\n",
    "        return self._enemigos\n",
    "        \n",
    "    def agregar_enemigo(self, otro_enemigo):\n",
    "        \"Agrega un enemigo a los enemigos del superhéroe\"\n",
    "        self._enemigos.append(otro_enemigo)\n",
    "        SuperHeroe.villanos.append(otro_enemigo)"
   ]
  },
  {
   "cell_type": "markdown",
   "id": "49df5b5d",
   "metadata": {
    "slideshow": {
     "slide_type": "fragment"
    }
   },
   "source": [
    "¿self?¿Cuáles son las variables de instancias?¿Y los métodos?¿Y villanos?"
   ]
  },
  {
   "cell_type": "markdown",
   "id": "f427c9a3",
   "metadata": {
    "slideshow": {
     "slide_type": "subslide"
    }
   },
   "source": [
    "# Creamos instancias de SuperHeroes"
   ]
  },
  {
   "cell_type": "code",
   "execution_count": null,
   "id": "4a8ab778",
   "metadata": {
    "slideshow": {
     "slide_type": "fragment"
    }
   },
   "outputs": [],
   "source": [
    "batman = SuperHeroe( \"Bruce Wayne\", \"Batman\")\n",
    "ironman = SuperHeroe( \"Tony Stark\", \"ironman\")\n"
   ]
  },
  {
   "cell_type": "markdown",
   "id": "664c19a8",
   "metadata": {
    "slideshow": {
     "slide_type": "fragment"
    }
   },
   "source": [
    "Agregamos enemigos..."
   ]
  },
  {
   "cell_type": "code",
   "execution_count": null,
   "id": "dd2aff40",
   "metadata": {
    "slideshow": {
     "slide_type": "fragment"
    }
   },
   "outputs": [],
   "source": [
    "batman.agregar_enemigo(\"Joker\")\n",
    "batman.agregar_enemigo(\"Pinguino\")\n",
    "batman.agregar_enemigo(\"Gatubela\")\n",
    "\n",
    "ironman.agregar_enemigo(\"Whiplash\")\n",
    "ironman.agregar_enemigo(\"Thanos\")"
   ]
  },
  {
   "cell_type": "markdown",
   "id": "d1032b36",
   "metadata": {
    "slideshow": {
     "slide_type": "subslide"
    }
   },
   "source": [
    "# Mostramos los enemigos\n",
    "Definimos una función,FUERA de la clase, que dado el nombre de un SuperHeroes, muestra en pantalla la lista de sus enemigos. "
   ]
  },
  {
   "cell_type": "code",
   "execution_count": null,
   "id": "several-windsor",
   "metadata": {
    "slideshow": {
     "slide_type": "fragment"
    }
   },
   "outputs": [],
   "source": [
    "def imprimo_villanos(nombre, lista_de_villanos):\n",
    "    \"imprime  la lista de todos los villanos de nombre\"\n",
    "    print(\"*\"*40)\n",
    "    print(f\"Los enemigos de {nombre}\")\n",
    "    print(\"*\"*40)\n",
    "    for malo in lista_de_villanos:\n",
    "        print(malo)"
   ]
  },
  {
   "cell_type": "code",
   "execution_count": null,
   "id": "foster-thomas",
   "metadata": {
    "slideshow": {
     "slide_type": "fragment"
    }
   },
   "outputs": [],
   "source": [
    "#imprimo_villanos(batman.get_nombre(), batman.get_enemigos())\n",
    "#imprimo_villanos(ironman.get_nombre(), ironman.get_enemigos())\n",
    "\n",
    "imprimo_villanos(\"todos los superhéroes\", SuperHeroe.villanos)"
   ]
  },
  {
   "cell_type": "markdown",
   "id": "communist-rwanda",
   "metadata": {
    "slideshow": {
     "slide_type": "subslide"
    }
   },
   "source": [
    "## Objetos  y clases\n",
    "\n",
    "- La  **clase** define las propiedades y los métodos de los objetos.\n",
    "\n",
    "- Los **objetos** son instancias de una clase.\n",
    "\n",
    "- Cuando se crea un objeto, se ejecuta el método **\\_\\_init()__** que permite inicializar el objeto.\n",
    "\n",
    "- La definición de la clase especifica qué partes son privadas y cuáles públicas.\n",
    "\n"
   ]
  },
  {
   "cell_type": "markdown",
   "id": "d3ee202b",
   "metadata": {
    "slideshow": {
     "slide_type": "fragment"
    }
   },
   "source": [
    "¿Cómo se especifica privado o público en Python?"
   ]
  },
  {
   "cell_type": "markdown",
   "id": "several-chemical",
   "metadata": {
    "slideshow": {
     "slide_type": "subslide"
    }
   },
   "source": [
    "\n",
    "# Mensajes y métodos\n",
    "\n",
    "TODO el procesamiento en este modelo es activado por mensajes entre objetos.\n",
    "\n",
    "- El **mensaje** es el modo de comunicación entre los objetos. Cuando se invoca una función de un objeto, lo que se está haciendo es **enviando un mensaje** a dicho objeto.\n",
    "- El **método** es la función que está asociada a un objeto determinado y cuya ejecución sólo puede desencadenarse a través del envío de un mensaje recibido.\n"
   ]
  },
  {
   "cell_type": "markdown",
   "id": "warming-rider",
   "metadata": {
    "slideshow": {
     "slide_type": "fragment"
    }
   },
   "source": [
    "- La **interfaz pública** del objeto está formada por las propiedades y métodos que otros objetos pueden usar para interactuar con él."
   ]
  },
  {
   "cell_type": "markdown",
   "id": "daily-teacher",
   "metadata": {
    "slideshow": {
     "slide_type": "fragment"
    }
   },
   "source": [
    "- ¿Qué pasa si todas las propiedades y métodos son privadas? ¿Y si son todas públicas?"
   ]
  },
  {
   "cell_type": "markdown",
   "id": "expected-ballet",
   "metadata": {
    "slideshow": {
     "slide_type": "subslide"
    }
   },
   "source": [
    "# <center>¿e-sports?</center>\n",
    "\n",
    "<center>\n",
    "<img src=\"imagenes/herencia_multiple.png\" alt=\"Actividad inicial\" style=\"width:650px;\"/></center>\n",
    "\n",
    "- Un jugador de FIFA **\"es un\"** Jugador, pero también **\"es un\"** Deportista.\n",
    "\n",
    "## <center>Python tiene **herencia múltiple**</center>"
   ]
  },
  {
   "cell_type": "code",
   "execution_count": null,
   "id": "strong-reach",
   "metadata": {
    "slideshow": {
     "slide_type": "subslide"
    }
   },
   "outputs": [],
   "source": [
    "class Jugador:\n",
    "    def __init__(self, nombre, juego=\"Tetris\", tiene_equipo= False, equipo=None):\n",
    "        self.nombre = nombre\n",
    "        self.juego = juego\n",
    "        self.tiene_equipo = tiene_equipo\n",
    "        self.equipo = equipo\n",
    "    def jugar(self):\n",
    "            if self.tiene_equipo:\n",
    "                    print (f\"{self.nombre} juega en el equipo {self.equipo} al {self.juego}\")\n",
    "            else:\n",
    "                    print(f\"{self.nombre} juega solo al {self.juego}\")\n",
    "class Deportista:\n",
    "    def __init__(self, nombre, equipo = None):\n",
    "        self.nombre = nombre\n",
    "        self.equipo = equipo\n",
    "    def jugar(self): \n",
    "        print (f\"Mi equipo es {self.equipo}\")\n"
   ]
  },
  {
   "cell_type": "code",
   "execution_count": null,
   "id": "15cdf713",
   "metadata": {
    "slideshow": {
     "slide_type": "subslide"
    }
   },
   "outputs": [],
   "source": [
    "class JugadorDeFIFA(Jugador, Deportista):\n",
    "    def __init__(self, nombre, equipo):\n",
    "        Jugador.__init__(self, nombre, \"PS4\", True, equipo)\n",
    "        Deportista.__init__(self,nombre, equipo)\n",
    "\n",
    "class JugadorDeLOL(Deportista, Jugador):\n",
    "    def __init__(self, nombre, equipo):\n",
    "        Jugador.__init__(self, nombre, \"LOL\")\n",
    "        Deportista.__init__(self, nombre, equipo)"
   ]
  },
  {
   "cell_type": "code",
   "execution_count": null,
   "id": "82d8b8a7",
   "metadata": {
    "slideshow": {
     "slide_type": "fragment"
    }
   },
   "outputs": [],
   "source": [
    "nico = JugadorDeFIFA('Nico Villalba', \"Guild Esports\")\n",
    "nico.jugar()\n",
    "faker = JugadorDeLOL(\"Faker\", \"SK Telecom\")\n",
    "faker.jugar()"
   ]
  },
  {
   "cell_type": "markdown",
   "id": "supposed-spoke",
   "metadata": {
    "slideshow": {
     "slide_type": "subslide"
    }
   },
   "source": [
    "# ¿Qué términos asociamos con la programación orientada a objetos?\n",
    "    \n",
    "\n",
    "- Completar: https://www.menti.com/c49iykk8fw\n",
    "\n",
    "<center>\n",
    "<img src=\"imagenes/qr_poo.png\" alt=\"Actividad inicial\" style=\"width:450px;\"/> </center>\n",
    "\n",
    "[Resultados](https://www.mentimeter.com/s/a2c0d5ea38ce2d876080956412a97a98/e4054cfa194f)"
   ]
  },
  {
   "cell_type": "markdown",
   "id": "incoming-closure",
   "metadata": {
    "slideshow": {
     "slide_type": "subslide"
    }
   },
   "source": [
    "# Destacados ...\n",
    "\n",
    "- Encapsulamiento\n",
    "    - **class**, métodos privados y públicos, propiedades.\n",
    "\n",
    "- Herencia\n",
    "\t* Clases bases y derivadas.\n",
    "\t* Herencia múltiple.\n",
    "\n",
    "- **¿Polimorfismo?**"
   ]
  },
  {
   "cell_type": "markdown",
   "id": "stainless-tattoo",
   "metadata": {
    "slideshow": {
     "slide_type": "slide"
    }
   },
   "source": [
    "# Polimorfismo\n",
    "\n",
    "- Capacidad de los objetos de distintas clases de responder a mensajes con el mismo nombre.\n",
    "- Ejemplo: + entre enteros y cadenas.\n",
    "- En Python al no ser necesario especificar explícitamente el tipo de los parámetros que recibe una función, las funciones son naturalmente polimórficas."
   ]
  },
  {
   "cell_type": "code",
   "execution_count": null,
   "id": "victorian-african",
   "metadata": {
    "slideshow": {
     "slide_type": "fragment"
    }
   },
   "outputs": [],
   "source": [
    "print(\"hola \" + \"que tal.\")\n",
    "print(3 + 4)"
   ]
  },
  {
   "cell_type": "markdown",
   "id": "earlier-stupid",
   "metadata": {
    "slideshow": {
     "slide_type": "subslide"
    }
   },
   "source": [
    "# ¿Podemos sumar dos jugadores?\n",
    "\n",
    "- Podemos definir el método\\_\\_add\\_\\_ "
   ]
  },
  {
   "cell_type": "code",
   "execution_count": null,
   "id": "ef48b39e",
   "metadata": {
    "slideshow": {
     "slide_type": "fragment"
    }
   },
   "outputs": [],
   "source": [
    "class Jugador:\n",
    "    def __init__(self, nombre, juego=\"Tetris\", tiene_equipo= False, equipo=None):\n",
    "        self._nombre = nombre\n",
    "        self.juego = juego\n",
    "        self.tiene_equipo = tiene_equipo\n",
    "        self.equipo = equipo\n",
    "    def jugar(self):\n",
    "            if self.tiene_equipo:\n",
    "                    print (f\"{self.nombre} juega en el equipo {self.equipo} al {self.juego}\")\n",
    "            else:\n",
    "                    print(f\"{self.nombre} juega solo al {self.juego}\")\n",
    "    def __add__(self, otro):\n",
    "         return (f\"Ambos jugadores son {self._nombre} y {otro._nombre}\")"
   ]
  },
  {
   "cell_type": "code",
   "execution_count": null,
   "id": "f4f7c2f0",
   "metadata": {
    "slideshow": {
     "slide_type": "fragment"
    }
   },
   "outputs": [],
   "source": [
    "nico = Jugador('Nico Villalba', \"Guild Esports\")\n",
    "faker = Jugador(\"Faker\", \"SK Telecom\")\n",
    "print(nico + faker)"
   ]
  },
  {
   "cell_type": "markdown",
   "id": "dress-warner",
   "metadata": {
    "slideshow": {
     "slide_type": "subslide"
    }
   },
   "source": [
    "# En el ejemplo de e-sports de la clase pasada"
   ]
  },
  {
   "cell_type": "code",
   "execution_count": null,
   "id": "residential-manchester",
   "metadata": {
    "slideshow": {
     "slide_type": "fragment"
    }
   },
   "outputs": [],
   "source": [
    "class Jugador:\n",
    "    def __init__(self, nombre, juego=\"Tetris\", tiene_equipo= False, equipo=None):\n",
    "        self.nombre = nombre\n",
    "        self.juego = juego\n",
    "        self.tiene_equipo = tiene_equipo\n",
    "        self.equipo = equipo\n",
    "    def jugar(self):\n",
    "        if self.tiene_equipo:\n",
    "                print (f\"{self.nombre} juega en el equipo {self.equipo} al {self.juego}\")\n",
    "        else:\n",
    "                print(f\"{self.nombre} juega solo al {self.juego}\")\n",
    "\n",
    "class Deportista:\n",
    "    def __init__(self, nombre, equipo = None):\n",
    "        self.nombre = nombre\n",
    "        self.equipo = equipo\n",
    "    def jugar(self): \n",
    "        print (f\"Mi equipo es {self.equipo}\")"
   ]
  },
  {
   "cell_type": "code",
   "execution_count": null,
   "id": "romance-venture",
   "metadata": {
    "slideshow": {
     "slide_type": "subslide"
    }
   },
   "outputs": [],
   "source": [
    "class JugadorDeFIFA(Jugador, Deportista):\n",
    "    def __init__(self, nombre, equipo):\n",
    "        Jugador.__init__(self, nombre, \"PS4\", True, equipo)\n",
    "        Deportista.__init__(self,nombre, equipo)\n",
    "\n",
    "class JugadorDeLOL(Deportista, Jugador):\n",
    "    def __init__(self, nombre, equipo):\n",
    "        Jugador.__init__(self, nombre, \"LOL\")\n",
    "        Deportista.__init__(self, nombre, equipo)\n",
    "\n",
    "nico = JugadorDeFIFA('Nico Villalba', \"Guild Esports\")\n",
    "faker = JugadorDeLOL(\"Faker\", \"SK Telecom\")\n",
    "\n",
    "nico.jugar()\n",
    "faker.jugar()"
   ]
  },
  {
   "cell_type": "markdown",
   "id": "integral-sacrifice",
   "metadata": {
    "slideshow": {
     "slide_type": "subslide"
    }
   },
   "source": [
    "# Observemos la modificación realizada"
   ]
  },
  {
   "cell_type": "code",
   "execution_count": null,
   "id": "massive-scholarship",
   "metadata": {
    "slideshow": {
     "slide_type": "fragment"
    }
   },
   "outputs": [],
   "source": [
    "class Jugador:\n",
    "    def __init__(self, nombre, juego=\"Tetris\", tiene_equipo= False, equipo=None):\n",
    "        self.nombre = nombre\n",
    "        self.juego = juego\n",
    "        self.tiene_equipo = tiene_equipo\n",
    "        self.equipo = equipo\n",
    "        \n",
    "    def jugar(self):\n",
    "        if self.tiene_equipo:\n",
    "                print (f\"{self.nombre} juega en el equipo {self.equipo} al {self.juego}\")\n",
    "        else:\n",
    "                print(f\"{self.nombre} juega solo al {self.nombre}\")\n",
    "\n",
    "class JugadorDeFIFA(Jugador):\n",
    "    def __init__(self, nombre, equipo):\n",
    "        super().__init__(nombre, \"PS4\", True, equipo)\n",
    "            \n",
    "class JugadorDeLOL(Jugador):\n",
    "    def __init__(self, nombre, equipo):\n",
    "        super().__init__(nombre, \"LOL\")"
   ]
  },
  {
   "cell_type": "markdown",
   "id": "automatic-cleanup",
   "metadata": {
    "slideshow": {
     "slide_type": "fragment"
    }
   },
   "source": [
    "- ¿super()?"
   ]
  },
  {
   "cell_type": "code",
   "execution_count": null,
   "id": "presidential-window",
   "metadata": {
    "slideshow": {
     "slide_type": "subslide"
    }
   },
   "outputs": [],
   "source": [
    "nico = JugadorDeFIFA('Nico Villalba', \"Basilea\")\n",
    "faker = JugadorDeLOL(\"Faker\", \"SK Telecom\")\n",
    "\n",
    "nico.jugar()\n",
    "faker.jugar()"
   ]
  },
  {
   "cell_type": "markdown",
   "id": "seasonal-torture",
   "metadata": {
    "slideshow": {
     "slide_type": "subslide"
    }
   },
   "source": [
    "# super y herencia múltiple\n",
    "\n",
    "- ¿Qué imprime? "
   ]
  },
  {
   "cell_type": "code",
   "execution_count": null,
   "id": "numerous-extraction",
   "metadata": {
    "slideshow": {
     "slide_type": "fragment"
    }
   },
   "outputs": [],
   "source": [
    "class A():\n",
    "    def __init__(self):\n",
    "        print(\"Soy A\")\n",
    "\n",
    "class B():\n",
    "    def __init__(self):\n",
    "        print(\"Soy B\")\n",
    "\n",
    "class C(B, A):\n",
    "    def __init__(self):\n",
    "        print(\"Soy C\")\n",
    "        super().__init__()"
   ]
  },
  {
   "cell_type": "code",
   "execution_count": null,
   "id": "2283e2d0",
   "metadata": {
    "slideshow": {
     "slide_type": "fragment"
    }
   },
   "outputs": [],
   "source": [
    "obj = C()"
   ]
  },
  {
   "cell_type": "markdown",
   "id": "composed-scholarship",
   "metadata": {
    "slideshow": {
     "slide_type": "subslide"
    }
   },
   "source": [
    "# Recordemos: MRO \"Method Resolution Order\""
   ]
  },
  {
   "cell_type": "code",
   "execution_count": null,
   "id": "compact-navigation",
   "metadata": {
    "slideshow": {
     "slide_type": "fragment"
    }
   },
   "outputs": [],
   "source": [
    "C.__mro__"
   ]
  },
  {
   "cell_type": "code",
   "execution_count": null,
   "id": "8d6d2276",
   "metadata": {
    "slideshow": {
     "slide_type": "subslide"
    }
   },
   "outputs": [],
   "source": [
    "class A():\n",
    "    def funcion1(self):\n",
    "        return (\"Hola\")\n",
    "\n",
    "class B():\n",
    "    def funcion1(self):\n",
    "        return (\"Chau\")\n",
    "\n",
    "class C(A, B):\n",
    "    def funcion1(self):\n",
    "        return (\"Hasta la vista!\")\n",
    "\n",
    "    def saludo(self):\n",
    "        #x = self.funcion1()\n",
    "        x = super().funcion1()\n",
    "        print(x)\n"
   ]
  },
  {
   "cell_type": "code",
   "execution_count": null,
   "id": "36941ca4",
   "metadata": {
    "slideshow": {
     "slide_type": "fragment"
    }
   },
   "outputs": [],
   "source": [
    "obj = C()\n",
    "\n",
    "obj.saludo()"
   ]
  },
  {
   "cell_type": "markdown",
   "id": "champion-proxy",
   "metadata": {
    "slideshow": {
     "slide_type": "fragment"
    }
   },
   "source": [
    "- Entonces, super() a qué clase base hace referencia?\n",
    "- [+Info](https://docs.python.org/3/library/functions.html#super)"
   ]
  },
  {
   "cell_type": "markdown",
   "id": "running-wisconsin",
   "metadata": {
    "slideshow": {
     "slide_type": "subslide"
    }
   },
   "source": [
    "# También podemos chequear.."
   ]
  },
  {
   "cell_type": "code",
   "execution_count": null,
   "id": "suited-table",
   "metadata": {
    "slideshow": {
     "slide_type": "fragment"
    }
   },
   "outputs": [],
   "source": [
    "\"Es de clase A\" if isinstance(obj, A) else \"NO es A\""
   ]
  },
  {
   "cell_type": "code",
   "execution_count": null,
   "id": "judicial-floating",
   "metadata": {
    "slideshow": {
     "slide_type": "fragment"
    }
   },
   "outputs": [],
   "source": [
    "\"Es subclase de A\" if issubclass(C, A) else \"NO es subclase de A\""
   ]
  },
  {
   "cell_type": "markdown",
   "id": "a7e86eb5",
   "metadata": {
    "slideshow": {
     "slide_type": "subslide"
    }
   },
   "source": [
    "# Probamos en casa\n",
    "\n",
    "¿Qué podemos decir de las variables de instancias cuyo nombre comienza con \\_\\_?"
   ]
  },
  {
   "cell_type": "code",
   "execution_count": null,
   "id": "58f4e640",
   "metadata": {
    "slideshow": {
     "slide_type": "fragment"
    }
   },
   "outputs": [],
   "source": [
    "class A:\n",
    "    def __init__(self, x, y, z):\n",
    "        self.varX = x\n",
    "        self._varY = y\n",
    "        self.__varZ = z\n",
    "\n",
    "    def demo(self):\n",
    "        return f\"ESTOY en A: x: {self.varX} -- y:{self._varY} --- z:{self.__varZ}\"\n",
    "\n",
    "class B(A):\n",
    "    def __init__(self):\n",
    "        super().__init__(\"x\", \"y\", \"z\")\n",
    "            \n",
    "    def demo(self):\n",
    "        #return(super().demo())\n",
    "        return f\"ESTOY en B: x: {self.varX} -- y:{self._varY} --- z:{self.__varZ}\"\n",
    "\n",
    "objB = B()\n",
    "print(objB.demo())"
   ]
  },
  {
   "cell_type": "markdown",
   "id": "innocent-proof",
   "metadata": {
    "slideshow": {
     "slide_type": "slide"
    }
   },
   "source": [
    "# Avancemos un poco más"
   ]
  },
  {
   "cell_type": "markdown",
   "id": "narrow-ecuador",
   "metadata": {
    "slideshow": {
     "slide_type": "subslide"
    }
   },
   "source": [
    "# getters y setters"
   ]
  },
  {
   "cell_type": "code",
   "execution_count": null,
   "id": "pursuant-madness",
   "metadata": {
    "slideshow": {
     "slide_type": "fragment"
    }
   },
   "outputs": [],
   "source": [
    "class Demo:\n",
    "    def __init__(self):\n",
    "        self._x = 0\n",
    "\n",
    "    def getx(self):\n",
    "        return self._x\n",
    "        \n",
    "    def setx(self, value):\n",
    "        self._x = value\n",
    "\n",
    "    def delx(self):\n",
    "        del self._x\n"
   ]
  },
  {
   "cell_type": "markdown",
   "id": "thorough-cleaners",
   "metadata": {
    "slideshow": {
     "slide_type": "fragment"
    }
   },
   "source": [
    "- ¿Cuántas variables de instancia?\n",
    "- Por cada variable de instancia no pública tenemos un método **get** y un método **set**.\n",
    "- ¿Y **del**? "
   ]
  },
  {
   "cell_type": "markdown",
   "id": "sized-shell",
   "metadata": {
    "slideshow": {
     "slide_type": "fragment"
    }
   },
   "source": [
    "- TAREA: ¿qué dice la PEP 8 sobre esto?"
   ]
  },
  {
   "cell_type": "markdown",
   "id": "private-vector",
   "metadata": {
    "slideshow": {
     "slide_type": "subslide"
    }
   },
   "source": [
    "# Propiedades\n",
    "\n",
    "- Podemos definir a x como una **propiedad** de la clase. ¿Qué significa esto? ¿Cuál es la ventaja?"
   ]
  },
  {
   "cell_type": "code",
   "execution_count": null,
   "id": "invisible-warning",
   "metadata": {
    "slideshow": {
     "slide_type": "fragment"
    }
   },
   "outputs": [],
   "source": [
    "class Demo:\n",
    "    def __init__(self):\n",
    "        self._x = 0\n",
    "    def getx(self):\n",
    "        print(\"estoy en get\")\n",
    "        return self._x\n",
    "    def setx(self, value):\n",
    "        print(\"estoy en set\")\n",
    "        self._x = value\n",
    "    def delx(self):\n",
    "        print(\"estoy en del\")\n",
    "        del self._x\n",
    "    \n",
    "    x = property(getx, setx, delx, \"x es una propiedad\")"
   ]
  },
  {
   "cell_type": "code",
   "execution_count": null,
   "id": "social-electricity",
   "metadata": {
    "slideshow": {
     "slide_type": "fragment"
    }
   },
   "outputs": [],
   "source": [
    "obj = Demo()\n",
    "obj.x = 10\n",
    "print(obj.x)\n",
    "del obj.x"
   ]
  },
  {
   "cell_type": "markdown",
   "id": "naughty-transcription",
   "metadata": {
    "slideshow": {
     "slide_type": "subslide"
    }
   },
   "source": [
    "# La función property()\n",
    "\n",
    "- **property()** crea una propiedad de la clase. \n",
    "\n",
    "- Forma general: \n",
    "\n",
    "\n",
    "```python\n",
    "\tproperty(fget=None, fset=None, fdel=None, doc=None)\n",
    "\n",
    "\tx = property(getx, setx, delx, \"x es una propiedad\")\n",
    "```"
   ]
  },
  {
   "cell_type": "markdown",
   "id": "remarkable-rwanda",
   "metadata": {
    "slideshow": {
     "slide_type": "fragment"
    }
   },
   "source": [
    "- [+Info](https://docs.python.org/3/library/functions.html?highlight=property#property)"
   ]
  },
  {
   "cell_type": "markdown",
   "id": "disabled-spyware",
   "metadata": {
    "slideshow": {
     "slide_type": "subslide"
    }
   },
   "source": [
    "# Más sobre property()\n",
    "\n",
    "- Qué pasa con el siguiente código si la propiedad x se define de la siguiente manera:"
   ]
  },
  {
   "cell_type": "code",
   "execution_count": null,
   "id": "minute-switzerland",
   "metadata": {
    "slideshow": {
     "slide_type": "fragment"
    }
   },
   "outputs": [],
   "source": [
    "class Demo:\n",
    "    def __init__(self):\n",
    "        self._x = 0\n",
    "\n",
    "    def getx(self):\n",
    "        return self._x\n",
    "\n",
    "    def setx(self, value):\n",
    "        self._x = value\n",
    "\n",
    "    def delx(self):\n",
    "        del self._x\n",
    "    \n",
    "    x = property(getx)"
   ]
  },
  {
   "cell_type": "code",
   "execution_count": null,
   "id": "general-service",
   "metadata": {
    "slideshow": {
     "slide_type": "fragment"
    }
   },
   "outputs": [],
   "source": [
    "obj = Demo()\n",
    "obj.x = 10"
   ]
  },
  {
   "cell_type": "markdown",
   "id": "excessive-imaging",
   "metadata": {
    "slideshow": {
     "slide_type": "subslide"
    }
   },
   "source": [
    "# ¿Y esto?"
   ]
  },
  {
   "cell_type": "code",
   "execution_count": null,
   "id": "ultimate-average",
   "metadata": {
    "slideshow": {
     "slide_type": "fragment"
    }
   },
   "outputs": [],
   "source": [
    "class Demo:\n",
    "    def __init__(self):\n",
    "        self._x = 0\n",
    "\n",
    "    @property\n",
    "    def x(self):\n",
    "        return self._x"
   ]
  },
  {
   "cell_type": "code",
   "execution_count": null,
   "id": "three-intent",
   "metadata": {
    "slideshow": {
     "slide_type": "fragment"
    }
   },
   "outputs": [],
   "source": [
    "obj = Demo()\n",
    "print(obj.x)"
   ]
  },
  {
   "cell_type": "markdown",
   "id": "collaborative-moisture",
   "metadata": {
    "slideshow": {
     "slide_type": "fragment"
    }
   },
   "source": [
    "- @property es un **decorador**."
   ]
  },
  {
   "cell_type": "markdown",
   "id": "considerable-brighton",
   "metadata": {
    "slideshow": {
     "slide_type": "subslide"
    }
   },
   "source": [
    "# ¿Qué es un decorador?\n",
    "\n",
    "- Un decorador es una función que recibe una función como argumento y extiende el comportamiento de esta última función sin modificarla explícitamente."
   ]
  },
  {
   "cell_type": "markdown",
   "id": "worldwide-geography",
   "metadata": {
    "slideshow": {
     "slide_type": "fragment"
    }
   },
   "source": [
    "### RECORDAMOS: las funciones son objetos de primera clase\n",
    " \n",
    "- **¿Qué significa esto?** Pueden ser asignadas a variables, almacenadas en estructuras de datos, pasadas como argumentos a otras funciones e incluso retornadas como valores de otras funciones."
   ]
  },
  {
   "cell_type": "markdown",
   "id": "restricted-instrumentation",
   "metadata": {
    "slideshow": {
     "slide_type": "subslide"
    }
   },
   "source": [
    "# Observemos el siguiente código"
   ]
  },
  {
   "cell_type": "code",
   "execution_count": null,
   "id": "floral-hybrid",
   "metadata": {
    "slideshow": {
     "slide_type": "fragment"
    }
   },
   "outputs": [],
   "source": [
    "def decimos_hola(nombre):\n",
    "    return f\"Hola {nombre}!\"\n",
    "\n",
    "def decimos_chau(nombre):\n",
    "    return f\"Chau {nombre}!\"\n",
    "\n",
    "def saludo_a_Clau(saludo):\n",
    "    return saludo(\"Clau\")"
   ]
  },
  {
   "cell_type": "code",
   "execution_count": null,
   "id": "analyzed-medium",
   "metadata": {
    "slideshow": {
     "slide_type": "fragment"
    }
   },
   "outputs": [],
   "source": [
    "#saludo_a_Clau(decimos_hola)\n",
    "saludo_a_Clau(decimos_chau)"
   ]
  },
  {
   "cell_type": "markdown",
   "id": "talented-stomach",
   "metadata": {
    "slideshow": {
     "slide_type": "subslide"
    }
   },
   "source": [
    "# ¿Qué podemos decir de este ejemplo?\n",
    "- Ejemplo sacado de https://realpython.com/primer-on-python-decorators/"
   ]
  },
  {
   "cell_type": "code",
   "execution_count": null,
   "id": "premier-composer",
   "metadata": {
    "slideshow": {
     "slide_type": "fragment"
    }
   },
   "outputs": [],
   "source": [
    "def decorador(funcion):\n",
    "    def funcion_interna():\n",
    "        print(\"Antes de  invocar a la función.\")\n",
    "        funcion()\n",
    "        print(\"Después de invocar a la función.\")\n",
    "    \n",
    "    return funcion_interna\n",
    "\n",
    "def decimos_hola():\n",
    "    print(\"Hola!\")"
   ]
  },
  {
   "cell_type": "code",
   "execution_count": null,
   "id": "latin-criticism",
   "metadata": {
    "slideshow": {
     "slide_type": "fragment"
    }
   },
   "outputs": [],
   "source": [
    "saludo = decorador(decimos_hola)"
   ]
  },
  {
   "cell_type": "markdown",
   "id": "apparent-landing",
   "metadata": {
    "slideshow": {
     "slide_type": "fragment"
    }
   },
   "source": [
    "- ¿De qué tipo es saludo?"
   ]
  },
  {
   "cell_type": "markdown",
   "id": "minor-boring",
   "metadata": {
    "slideshow": {
     "slide_type": "subslide"
    }
   },
   "source": [
    "```python\n",
    "def decorador(funcion):\n",
    "    def funcion_interna():\n",
    "        print(\"Antes de  invocar a la función.\")\n",
    "        funcion()\n",
    "        print(\"Después de invocar a la función.\")\n",
    "    return funcion_interna\n",
    "\n",
    "def decimos_hola():\n",
    "    print(\"Hola!\")\n",
    "\n",
    "saludo = decorador(decimos_hola)\n",
    "```"
   ]
  },
  {
   "cell_type": "markdown",
   "id": "parental-mills",
   "metadata": {
    "slideshow": {
     "slide_type": "fragment"
    }
   },
   "source": [
    "- ¿A qué función hace referencia saludo?"
   ]
  },
  {
   "cell_type": "code",
   "execution_count": null,
   "id": "demographic-mission",
   "metadata": {
    "slideshow": {
     "slide_type": "fragment"
    }
   },
   "outputs": [],
   "source": [
    "saludo()"
   ]
  },
  {
   "cell_type": "markdown",
   "id": "second-shame",
   "metadata": {
    "slideshow": {
     "slide_type": "subslide"
    }
   },
   "source": [
    "# Otra forma de escribir esto en Python:"
   ]
  },
  {
   "cell_type": "code",
   "execution_count": null,
   "id": "nuclear-equipment",
   "metadata": {
    "slideshow": {
     "slide_type": "fragment"
    }
   },
   "outputs": [],
   "source": [
    "def decorador(funcion):\n",
    "    def funcion_interna():\n",
    "        print(\"Antes de  invocar a la función.\")\n",
    "        funcion()\n",
    "        print(\"Después de invocar a la función.\")\n",
    "    return funcion_interna\n",
    "\n",
    "@decorador\n",
    "def decimos_hola():\n",
    "    print(\"Hola!\")\n"
   ]
  },
  {
   "cell_type": "code",
   "execution_count": null,
   "id": "virgin-locator",
   "metadata": {
    "slideshow": {
     "slide_type": "fragment"
    }
   },
   "outputs": [],
   "source": [
    "decimos_hola()"
   ]
  },
  {
   "cell_type": "markdown",
   "id": "written-coffee",
   "metadata": {
    "slideshow": {
     "slide_type": "subslide"
    }
   },
   "source": [
    "# Es equivalente a: \n",
    "    \n",
    "```python\n",
    "decimos_hola = decorador(decimos_hola)\n",
    "```"
   ]
  },
  {
   "cell_type": "markdown",
   "id": "forbidden-blame",
   "metadata": {
    "slideshow": {
     "slide_type": "fragment"
    }
   },
   "source": [
    "- [+Ínfo](https://realpython.com/primer-on-python-decorators/)\n",
    "- [+Info en español](https://recursospython.com/guias-y-manuales/decoradores/)"
   ]
  },
  {
   "cell_type": "markdown",
   "id": "annual-motor",
   "metadata": {
    "slideshow": {
     "slide_type": "subslide"
    }
   },
   "source": [
    "# Dijimos que @property es un decorador"
   ]
  },
  {
   "cell_type": "code",
   "execution_count": null,
   "id": "vanilla-cleaner",
   "metadata": {
    "slideshow": {
     "slide_type": "fragment"
    }
   },
   "outputs": [],
   "source": [
    "class Demo:\n",
    "    def __init__(self):\n",
    "        self._x = 0\n",
    "\n",
    "    @property\n",
    "    def x(self):\n",
    "        return self._x\n"
   ]
  },
  {
   "cell_type": "code",
   "execution_count": null,
   "id": "f2af5c20",
   "metadata": {
    "slideshow": {
     "slide_type": "fragment"
    }
   },
   "outputs": [],
   "source": [
    "obj = Demo()\n",
    "obj.x = 10 # Esto dará error: ¿por qué?\n",
    "print(obj.x)"
   ]
  },
  {
   "cell_type": "markdown",
   "id": "contemporary-bachelor",
   "metadata": {
    "slideshow": {
     "slide_type": "fragment"
    }
   },
   "source": [
    "- ATENCIÓN: x no es un método, es una propiedad.\n",
    "- [+Info](https://www.freecodecamp.org/news/python-property-decorator/)\n"
   ]
  },
  {
   "cell_type": "markdown",
   "id": "spectacular-practitioner",
   "metadata": {
    "slideshow": {
     "slide_type": "subslide"
    }
   },
   "source": [
    "# El ejemplo completo"
   ]
  },
  {
   "cell_type": "code",
   "execution_count": null,
   "id": "bibliographic-orleans",
   "metadata": {
    "slideshow": {
     "slide_type": "fragment"
    }
   },
   "outputs": [],
   "source": [
    "class Demo:\n",
    "    def __init__(self):\n",
    "        self._x = 0\n",
    "    @property\n",
    "    def x(self):\n",
    "        print(\"Estoy en get\")\n",
    "        return self._x\n"
   ]
  },
  {
   "cell_type": "code",
   "execution_count": null,
   "id": "guided-slope",
   "metadata": {
    "slideshow": {
     "slide_type": "fragment"
    }
   },
   "outputs": [],
   "source": [
    "obj = Demo()\n",
    "obj.x = 10\n",
    "print(obj.x)\n",
    "#del obj.x"
   ]
  },
  {
   "cell_type": "markdown",
   "id": "entitled-clerk",
   "metadata": {
    "slideshow": {
     "slide_type": "slide"
    }
   },
   "source": [
    "# Herencia y propiedades\n",
    "\n",
    "- Observemos este código: ¿qué imprime?, ¿qué significa?"
   ]
  },
  {
   "cell_type": "code",
   "execution_count": 18,
   "id": "suburban-aerospace",
   "metadata": {
    "slideshow": {
     "slide_type": "fragment"
    }
   },
   "outputs": [
    {
     "name": "stdout",
     "output_type": "stream",
     "text": [
      "10\n"
     ]
    }
   ],
   "source": [
    "class A:\n",
    "    def __init__(self):\n",
    "        self._x = 0\n",
    "    @property\n",
    "    def x(self):\n",
    "        return self._x\n",
    "    @x.setter\n",
    "    def x(self, value):\n",
    "        self._x = value\n",
    "\n",
    "class B(A):\n",
    "    def __init__(self):\n",
    "        super().__init__()\n",
    "\n",
    "obj = B()\n",
    "obj.x = 10\n",
    "print(obj.x)"
   ]
  },
  {
   "cell_type": "markdown",
   "id": "continuous-click",
   "metadata": {
    "slideshow": {
     "slide_type": "slide"
    }
   },
   "source": [
    "# INVESTIGAR: ¿qué son los métodos de clase?\n",
    "\n",
    "- Uso del decorador **@classmethod**"
   ]
  },
  {
   "cell_type": "markdown",
   "id": "charming-recycling",
   "metadata": {
    "slideshow": {
     "slide_type": "slide"
    }
   },
   "source": [
    "# Seguimos la próxima ..."
   ]
  }
 ],
 "metadata": {
  "celltoolbar": "Slideshow",
  "kernelspec": {
   "display_name": "Python 3.10.0 64-bit",
   "language": "python",
   "name": "python3"
  },
  "language_info": {
   "codemirror_mode": {
    "name": "ipython",
    "version": 3
   },
   "file_extension": ".py",
   "mimetype": "text/x-python",
   "name": "python",
   "nbconvert_exporter": "python",
   "pygments_lexer": "ipython3",
   "version": "3.10.0"
  },
  "vscode": {
   "interpreter": {
    "hash": "369f2c481f4da34e4445cda3fffd2e751bd1c4d706f27375911949ba6bb62e1c"
   }
  }
 },
 "nbformat": 4,
 "nbformat_minor": 5
}
