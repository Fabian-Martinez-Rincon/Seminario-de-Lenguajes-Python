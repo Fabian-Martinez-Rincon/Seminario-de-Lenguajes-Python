{
 "cells": [
  {
   "cell_type": "markdown",
   "id": "younger-ready",
   "metadata": {
    "slideshow": {
     "slide_type": "slide"
    }
   },
   "source": [
    "# Seminario de Lenguajes - Python\n",
    "## Cursada 2022\n",
    "### Clase 5: repaso de archivos"
   ]
  },
  {
   "cell_type": "markdown",
   "id": "962aaf4c",
   "metadata": {
    "slideshow": {
     "slide_type": "slide"
    }
   },
   "source": [
    "# Repasamos archivos\n",
    "\n"
   ]
  },
  {
   "cell_type": "code",
   "execution_count": 23,
   "id": "4a97fddf",
   "metadata": {
    "slideshow": {
     "slide_type": "subslide"
    }
   },
   "outputs": [
    {
     "ename": "FileExistsError",
     "evalue": "[Errno 17] File exists: 'datos.txt'",
     "output_type": "error",
     "traceback": [
      "\u001b[1;31m---------------------------------------------------------------------------\u001b[0m",
      "\u001b[1;31mFileExistsError\u001b[0m                           Traceback (most recent call last)",
      "\u001b[1;32mc:\\Users\\fabian\\Desktop\\Seminario-de-Lenguajes-Python\\Teorias\\Clase_4_Archivos\\Clase5_Repaso_archivos.ipynb Cell 3'\u001b[0m in \u001b[0;36m<cell line: 1>\u001b[1;34m()\u001b[0m\n\u001b[1;32m----> <a href='vscode-notebook-cell:/c%3A/Users/fabian/Desktop/Seminario-de-Lenguajes-Python/Teorias/Clase_4_Archivos/Clase5_Repaso_archivos.ipynb#ch0000002?line=0'>1</a>\u001b[0m archivo \u001b[39m=\u001b[39m \u001b[39mopen\u001b[39;49m(\u001b[39m'\u001b[39;49m\u001b[39mdatos.txt\u001b[39;49m\u001b[39m'\u001b[39;49m, \u001b[39m'\u001b[39;49m\u001b[39mx\u001b[39;49m\u001b[39m'\u001b[39;49m)\n",
      "\u001b[1;31mFileExistsError\u001b[0m: [Errno 17] File exists: 'datos.txt'"
     ]
    }
   ],
   "source": [
    "archivo = open('datos.txt', 'x')"
   ]
  },
  {
   "cell_type": "markdown",
   "id": "ca4088d4",
   "metadata": {
    "slideshow": {
     "slide_type": "fragment"
    }
   },
   "source": [
    "- ¿Cómo se abre el archivo? ¿Existen otras formas? ¿Posibles errores?"
   ]
  },
  {
   "cell_type": "markdown",
   "id": "82c7d0f7",
   "metadata": {
    "slideshow": {
     "slide_type": "subslide"
    }
   },
   "source": [
    "## JSON\n",
    "\n",
    "- ¿En qué situaciones es útil?"
   ]
  },
  {
   "cell_type": "code",
   "execution_count": null,
   "id": "0e6c3fda",
   "metadata": {
    "slideshow": {
     "slide_type": "fragment"
    }
   },
   "outputs": [],
   "source": [
    "import json"
   ]
  },
  {
   "cell_type": "code",
   "execution_count": null,
   "id": "07c60cd8",
   "metadata": {
    "slideshow": {
     "slide_type": "fragment"
    }
   },
   "outputs": [],
   "source": [
    "archivo = open(\"bandas.txt\", \"w\")\n",
    "datos = [\n",
    "    {\"nombre\": \"William Campbell\", \"ciudad\": \"La Plata\", \"ref\": \"www.instagram.com/williamcampbellok\"},\n",
    "    {\"nombre\": \"Buendia\", \"ciudad\": \"La Plata\", \"ref\":\"https://buendia.bandcamp.com/\"},\n",
    "    {\"nombre\": \"Lúmine\", \"ciudad\": \"La Plata\", \"ref\": \"https://www.instagram.com/luminelp/\"}]\n",
    "json.dump(datos, archivo)\n",
    "archivo.close()"
   ]
  },
  {
   "cell_type": "markdown",
   "id": "dc0a67ab",
   "metadata": {
    "slideshow": {
     "slide_type": "fragment"
    }
   },
   "source": [
    "- ¿Qué tipo de datos contiene el archivo?"
   ]
  },
  {
   "cell_type": "code",
   "execution_count": null,
   "id": "233a2299",
   "metadata": {
    "slideshow": {
     "slide_type": "subslide"
    }
   },
   "outputs": [
    {
     "name": "stdout",
     "output_type": "stream",
     "text": [
      "[{\"nombre\": \"William Campbell\", \"ciudad\": \"La Plata\", \"ref\": \"www.instagram.com/williamcampbellok\"}, {\"nombre\": \"Buendia\", \"ciudad\": \"La Plata\", \"ref\": \"https://buendia.bandcamp.com/\"}, {\"nombre\": \"L\\u00famine\", \"ciudad\": \"La Plata\", \"ref\": \"https://www.instagram.com/luminelp/\"}]\n"
     ]
    },
    {
     "data": {
      "text/plain": [
       "'[{\"nombre\": \"William Campbell\", \"ciudad\": \"La Plata\", \"ref\": \"www.instagram.com/williamcampbellok\"}, {\"nombre\": \"Buendia\", \"ciudad\": \"La Plata\", \"ref\": \"https://buendia.bandcamp.com/\"}, {\"nombre\": \"L\\\\u00famine\", \"ciudad\": \"La Plata\", \"ref\": \"https://www.instagram.com/luminelp/\"}]'"
      ]
     },
     "execution_count": 4,
     "metadata": {},
     "output_type": "execute_result"
    }
   ],
   "source": [
    "archivo = open(\"bandas.txt\", \"r\")\n",
    "datos = json.load(archivo)\n",
    "\n",
    "datos_a_mostrar = json.dumps(datos)\n",
    "print(datos_a_mostrar)\n",
    "archivo.close()\n",
    "datos_a_mostrar"
   ]
  },
  {
   "cell_type": "markdown",
   "id": "24f8355f",
   "metadata": {
    "slideshow": {
     "slide_type": "fragment"
    }
   },
   "source": [
    "- ¿Qué tipo de datos retorna la función **load**?"
   ]
  },
  {
   "cell_type": "markdown",
   "id": "52a49eb8",
   "metadata": {
    "slideshow": {
     "slide_type": "subslide"
    }
   },
   "source": [
    "## CSV\n",
    "- ¿En qué situaciones es útil?"
   ]
  },
  {
   "cell_type": "code",
   "execution_count": null,
   "id": "0c37e42b",
   "metadata": {
    "slideshow": {
     "slide_type": "fragment"
    }
   },
   "outputs": [],
   "source": [
    "import csv"
   ]
  },
  {
   "cell_type": "code",
   "execution_count": null,
   "id": "55d0872a",
   "metadata": {
    "slideshow": {
     "slide_type": "fragment"
    }
   },
   "outputs": [],
   "source": [
    "archivo = open(\"bandas.txt\")\n",
    "archivo_csv = open(\"bandas.csv\", \"w\")\n",
    "\n",
    "bandas = json.load(archivo)\n",
    "\n",
    "writer = csv.writer(archivo_csv)\n",
    "writer.writerow([\"Nombre\", \"Ciudad de procedencia\", \"Refencias\"])\n",
    "for banda in bandas:\n",
    "    writer.writerow([banda[\"nombre\"], banda[\"ciudad\"], banda[\"ref\"]])\n",
    "\n",
    "archivo.close()\n",
    "archivo_csv.close()\n",
    "#type(writer)"
   ]
  },
  {
   "cell_type": "markdown",
   "id": "707364c4",
   "metadata": {
    "slideshow": {
     "slide_type": "fragment"
    }
   },
   "source": [
    "- ¿Qué hace el código? \n",
    "- ¿Qué tipo de datos contiene el archivo generado?"
   ]
  },
  {
   "cell_type": "markdown",
   "id": "a2fa1f28",
   "metadata": {
    "slideshow": {
     "slide_type": "subslide"
    }
   },
   "source": [
    "# El desafío 1 de la clase pasada:"
   ]
  },
  {
   "cell_type": "code",
   "execution_count": null,
   "id": "255a46be",
   "metadata": {
    "slideshow": {
     "slide_type": "fragment"
    }
   },
   "outputs": [],
   "source": [
    "#ruta_archivos = \"archivos\""
   ]
  },
  {
   "cell_type": "code",
   "execution_count": null,
   "id": "bf4f7efc",
   "metadata": {
    "slideshow": {
     "slide_type": "fragment"
    }
   },
   "outputs": [
    {
     "data": {
      "text/plain": [
       "'c:\\\\Users\\\\fabian\\\\Desktop\\\\Seminario-de-Lenguajes-Python\\\\Teorias\\\\Clase_4_Archivos'"
      ]
     },
     "execution_count": 14,
     "metadata": {},
     "output_type": "execute_result"
    }
   ],
   "source": [
    "import os\n",
    "os.getcwd()"
   ]
  },
  {
   "cell_type": "code",
   "execution_count": null,
   "id": "10058cb8",
   "metadata": {
    "slideshow": {
     "slide_type": "fragment"
    }
   },
   "outputs": [],
   "source": [
    "#ruta_completa = os.path.join(os.getcwd(), ruta_archivos)\n",
    "#print(ruta_completa)\n",
    "archivo_netflix = os.path.join(os.getcwd(), \"netflix_titles.csv\")\n",
    "titulos_2021 = os.path.join(os.getcwd(), \"titulos2021.csv\")"
   ]
  },
  {
   "cell_type": "markdown",
   "id": "0afb9abb",
   "metadata": {
    "slideshow": {
     "slide_type": "fragment"
    }
   },
   "source": [
    "- ¿Dónde están los archivos?"
   ]
  },
  {
   "cell_type": "markdown",
   "id": "ff5f22f3",
   "metadata": {
    "slideshow": {
     "slide_type": "subslide"
    }
   },
   "source": [
    "# Observemos este código:"
   ]
  },
  {
   "cell_type": "code",
   "execution_count": 25,
   "id": "278445b5",
   "metadata": {
    "slideshow": {
     "slide_type": "fragment"
    }
   },
   "outputs": [],
   "source": [
    "# Abro el dataset\n",
    "with open(archivo_netflix, encoding='utf-8') as data_set:\n",
    "    reader = csv.reader(data_set, delimiter=',')\n",
    "    # Creo el archivo .csv de salida\n",
    "    with open(titulos_2021, 'w', encoding='utf-8') as salida:\n",
    "        writer = csv.writer(salida)\n",
    "\n",
    "        # Agrego el encabezado\n",
    "        writer.writerow(reader.__next__())\n",
    "\n",
    "        # Escribo sólo los titulos estrenados en 2021\n",
    "        writer.writerows(filter(lambda titulo: titulo[7] == '2021', reader))"
   ]
  },
  {
   "cell_type": "markdown",
   "id": "c93acec9",
   "metadata": {
    "slideshow": {
     "slide_type": "fragment"
    }
   },
   "source": [
    "- ¿with?\n",
    "- ¿close?"
   ]
  },
  {
   "cell_type": "markdown",
   "id": "82397ac7",
   "metadata": {
    "slideshow": {
     "slide_type": "fragment"
    }
   },
   "source": [
    "### La instrucción with automáticamente se encarga de cerrar el archivo una vez que sale del bloque with, incluso en casos de error."
   ]
  },
  {
   "cell_type": "markdown",
   "id": "9c83c227",
   "metadata": {
    "slideshow": {
     "slide_type": "subslide"
    }
   },
   "source": [
    "# El desafío 2 de la clase pasada:"
   ]
  },
  {
   "cell_type": "code",
   "execution_count": null,
   "id": "88a7a2d9",
   "metadata": {
    "slideshow": {
     "slide_type": "fragment"
    }
   },
   "outputs": [
    {
     "ename": "IndexError",
     "evalue": "list index out of range",
     "output_type": "error",
     "traceback": [
      "\u001b[1;31m---------------------------------------------------------------------------\u001b[0m",
      "\u001b[1;31mIndexError\u001b[0m                                Traceback (most recent call last)",
      "\u001b[1;32mc:\\Users\\fabian\\Desktop\\Seminario-de-Lenguajes-Python\\Teorias\\Clase_4_Archivos\\Clase5_Repaso_archivos.ipynb Cell 25'\u001b[0m in \u001b[0;36m<cell line: 8>\u001b[1;34m()\u001b[0m\n\u001b[0;32m      <a href='vscode-notebook-cell:/c%3A/Users/fabian/Desktop/Seminario-de-Lenguajes-Python/Teorias/Clase_4_Archivos/Clase5_Repaso_archivos.ipynb#ch0000024?line=5'>6</a>\u001b[0m \u001b[39mnext\u001b[39m(csv_reader)\n\u001b[0;32m      <a href='vscode-notebook-cell:/c%3A/Users/fabian/Desktop/Seminario-de-Lenguajes-Python/Teorias/Clase_4_Archivos/Clase5_Repaso_archivos.ipynb#ch0000024?line=7'>8</a>\u001b[0m \u001b[39mfor\u001b[39;00m i \u001b[39min\u001b[39;00m csv_reader:\n\u001b[1;32m----> <a href='vscode-notebook-cell:/c%3A/Users/fabian/Desktop/Seminario-de-Lenguajes-Python/Teorias/Clase_4_Archivos/Clase5_Repaso_archivos.ipynb#ch0000024?line=8'>9</a>\u001b[0m     \u001b[39mif\u001b[39;00m i[\u001b[39m5\u001b[39;49m] \u001b[39min\u001b[39;00m paises\u001b[39m.\u001b[39mkeys():\n\u001b[0;32m     <a href='vscode-notebook-cell:/c%3A/Users/fabian/Desktop/Seminario-de-Lenguajes-Python/Teorias/Clase_4_Archivos/Clase5_Repaso_archivos.ipynb#ch0000024?line=9'>10</a>\u001b[0m         paises[i[\u001b[39m5\u001b[39m]] \u001b[39m+\u001b[39m\u001b[39m=\u001b[39m \u001b[39m1\u001b[39m\n\u001b[0;32m     <a href='vscode-notebook-cell:/c%3A/Users/fabian/Desktop/Seminario-de-Lenguajes-Python/Teorias/Clase_4_Archivos/Clase5_Repaso_archivos.ipynb#ch0000024?line=10'>11</a>\u001b[0m     \u001b[39melse\u001b[39;00m:\n",
      "\u001b[1;31mIndexError\u001b[0m: list index out of range"
     ]
    }
   ],
   "source": [
    "from collections import Counter\n",
    "\n",
    "archivo = open(titulos_2021, 'r', encoding='utf-8')\n",
    "csv_reader = csv.reader(archivo, delimiter=',')\n",
    "paises = {}\n",
    "next(csv_reader)\n",
    "\n",
    "for i in csv_reader:\n",
    "    if i[5] in paises.keys():\n",
    "        paises[i[5]] += 1\n",
    "    else:\n",
    "        paises[i[5]] = 1\n",
    "top_5 = Counter(paises).most_common(5)\n",
    "print('Los 5 paises con más titulos: ')\n",
    "print(dict(top_5))\n",
    "\n",
    "archivo.close()"
   ]
  },
  {
   "cell_type": "markdown",
   "id": "0826f28c",
   "metadata": {
    "slideshow": {
     "slide_type": "fragment"
    }
   },
   "source": [
    "-¿collections?"
   ]
  },
  {
   "cell_type": "markdown",
   "id": "59a4d545",
   "metadata": {},
   "source": []
  },
  {
   "cell_type": "markdown",
   "id": "5b6e3e10",
   "metadata": {
    "slideshow": {
     "slide_type": "subslide"
    }
   },
   "source": [
    "## Otra forma: "
   ]
  },
  {
   "cell_type": "code",
   "execution_count": null,
   "id": "e356f343",
   "metadata": {
    "slideshow": {
     "slide_type": "fragment"
    }
   },
   "outputs": [
    {
     "ename": "NameError",
     "evalue": "name 'Counter' is not defined",
     "output_type": "error",
     "traceback": [
      "\u001b[1;31m---------------------------------------------------------------------------\u001b[0m",
      "\u001b[1;31mNameError\u001b[0m                                 Traceback (most recent call last)",
      "\u001b[1;32mc:\\Users\\fabian\\Desktop\\Seminario-de-Lenguajes-Python\\Teorias\\Clase_4_Archivos\\Clase5_Repaso_archivos.ipynb Cell 28'\u001b[0m in \u001b[0;36m<cell line: 6>\u001b[1;34m()\u001b[0m\n\u001b[0;32m      <a href='vscode-notebook-cell:/c%3A/Users/fabian/Desktop/Seminario-de-Lenguajes-Python/Teorias/Clase_4_Archivos/Clase5_Repaso_archivos.ipynb#ch0000027?line=1'>2</a>\u001b[0m csv_reader \u001b[39m=\u001b[39m csv\u001b[39m.\u001b[39mreader(archivo, delimiter\u001b[39m=\u001b[39m\u001b[39m'\u001b[39m\u001b[39m,\u001b[39m\u001b[39m'\u001b[39m)\n\u001b[0;32m      <a href='vscode-notebook-cell:/c%3A/Users/fabian/Desktop/Seminario-de-Lenguajes-Python/Teorias/Clase_4_Archivos/Clase5_Repaso_archivos.ipynb#ch0000027?line=3'>4</a>\u001b[0m paises \u001b[39m=\u001b[39m \u001b[39mmap\u001b[39m(\u001b[39mlambda\u001b[39;00m fila: fila[\u001b[39m5\u001b[39m], csv_reader )\n\u001b[1;32m----> <a href='vscode-notebook-cell:/c%3A/Users/fabian/Desktop/Seminario-de-Lenguajes-Python/Teorias/Clase_4_Archivos/Clase5_Repaso_archivos.ipynb#ch0000027?line=5'>6</a>\u001b[0m top_5 \u001b[39m=\u001b[39m Counter(paises)\u001b[39m.\u001b[39mmost_common(\u001b[39m5\u001b[39m)\n\u001b[0;32m      <a href='vscode-notebook-cell:/c%3A/Users/fabian/Desktop/Seminario-de-Lenguajes-Python/Teorias/Clase_4_Archivos/Clase5_Repaso_archivos.ipynb#ch0000027?line=6'>7</a>\u001b[0m \u001b[39mprint\u001b[39m(\u001b[39mf\u001b[39m\u001b[39m'\u001b[39m\u001b[39mLos 5 paises con más titulos: \u001b[39m\u001b[39m\\n\u001b[39;00m\u001b[39m \u001b[39m\u001b[39m{\u001b[39;00m\u001b[39mdict\u001b[39m(top_5)\u001b[39m}\u001b[39;00m\u001b[39m'\u001b[39m)\n",
      "\u001b[1;31mNameError\u001b[0m: name 'Counter' is not defined"
     ]
    }
   ],
   "source": [
    "archivo = open(titulos_2021, 'r', encoding='utf-8')\n",
    "csv_reader = csv.reader(archivo, delimiter=',')\n",
    "\n",
    "paises = map(lambda fila: fila[5], csv_reader )\n",
    "\n",
    "top_5 = Counter(paises).most_common(5)\n",
    "print(f'Los 5 paises con más titulos: \\n {dict(top_5)}')\n"
   ]
  },
  {
   "cell_type": "markdown",
   "id": "b520002d",
   "metadata": {
    "slideshow": {
     "slide_type": "slide"
    }
   },
   "source": [
    "# La actividad por Python plus...."
   ]
  },
  {
   "cell_type": "markdown",
   "id": "3d04d845",
   "metadata": {
    "slideshow": {
     "slide_type": "fragment"
    }
   },
   "source": [
    "Veamos el [enunciado](https://docs.google.com/document/d/14VHQ-m8-uai3jFnRnGR3FvWRekh7Dxqx12GpnEGPF80/edit?usp=sharing)\n",
    "\n",
    "FECHA PROPUESTA:\n",
    "- Parte I:  lunes 18 de abril - 19 a 20 hs.\n",
    "- Parte II: lunes 25 de abril - 19 a 20 hs."
   ]
  },
  {
   "cell_type": "markdown",
   "id": "ca2841d5",
   "metadata": {
    "slideshow": {
     "slide_type": "slide"
    }
   },
   "source": [
    "#  Seguimos la próxima ..."
   ]
  }
 ],
 "metadata": {
  "celltoolbar": "Slideshow",
  "kernelspec": {
   "display_name": "Python 3.10.0 64-bit",
   "language": "python",
   "name": "python3"
  },
  "language_info": {
   "codemirror_mode": {
    "name": "ipython",
    "version": 3
   },
   "file_extension": ".py",
   "mimetype": "text/x-python",
   "name": "python",
   "nbconvert_exporter": "python",
   "pygments_lexer": "ipython3",
   "version": "3.10.0"
  },
  "vscode": {
   "interpreter": {
    "hash": "369f2c481f4da34e4445cda3fffd2e751bd1c4d706f27375911949ba6bb62e1c"
   }
  }
 },
 "nbformat": 4,
 "nbformat_minor": 5
}
